{
  "nbformat": 4,
  "nbformat_minor": 0,
  "metadata": {
    "accelerator": "GPU",
    "colab": {
      "name": "TF_Certificate Category 2 Fashion MNIST (실습)의 사본",
      "provenance": [],
      "collapsed_sections": [],
      "include_colab_link": true
    },
    "kernelspec": {
      "display_name": "Python 3",
      "language": "python",
      "name": "python3"
    },
    "language_info": {
      "codemirror_mode": {
        "name": "ipython",
        "version": 3
      },
      "file_extension": ".py",
      "mimetype": "text/x-python",
      "name": "python",
      "nbconvert_exporter": "python",
      "pygments_lexer": "ipython3",
      "version": "3.6.6"
    },
    "gpuClass": "standard"
  },
  "cells": [
    {
      "cell_type": "markdown",
      "metadata": {
        "id": "view-in-github",
        "colab_type": "text"
      },
      "source": [
        "<a href=\"https://colab.research.google.com/github/Stacy067/Deep-learning-and-Tensorflow/blob/main/TF_Certificate_Category_2_Fashion_MNIST_(%EC%8B%A4%EC%8A%B5)%EC%9D%98_%EC%82%AC%EB%B3%B8.ipynb\" target=\"_parent\"><img src=\"https://colab.research.google.com/assets/colab-badge.svg\" alt=\"Open In Colab\"/></a>"
      ]
    },
    {
      "cell_type": "markdown",
      "metadata": {
        "id": "vY-Ca0dhGTAk"
      },
      "source": [
        "# Category 2\n",
        "\n",
        "Fully Connected Layer (Dense)를 활용한 이미지 분류 (Image Classification)"
      ]
    },
    {
      "cell_type": "markdown",
      "metadata": {
        "id": "ww0hxcaSGb0m"
      },
      "source": [
        "## 확인"
      ]
    },
    {
      "cell_type": "markdown",
      "metadata": {
        "id": "FI6oK1X-GdJJ"
      },
      "source": [
        "1. GPU 옵션 켜져 있는지 확인할 것!!! (수정 - 노트설정 - 하드웨어설정 (GPU))"
      ]
    },
    {
      "cell_type": "markdown",
      "metadata": {
        "id": "1yoe-K38GQ4b"
      },
      "source": [
        "## 순서"
      ]
    },
    {
      "cell_type": "markdown",
      "metadata": {
        "id": "Bc6iTV8DGPop"
      },
      "source": [
        "1. **import**: 필요한 모듈 import\n",
        "2. **전처리**: 학습에 필요한 데이터 전처리를 수행합니다.\n",
        "3. **모델링(model)**: 모델을 정의합니다.\n",
        "4. **컴파일(compile)**: 모델을 생성합니다.\n",
        "5. **학습 (fit)**: 모델을 학습시킵니다."
      ]
    },
    {
      "cell_type": "markdown",
      "metadata": {
        "id": "rK6HdzR7nil3"
      },
      "source": [
        "## 문제"
      ]
    },
    {
      "cell_type": "markdown",
      "metadata": {
        "id": "1Ztkqgwqnil3"
      },
      "source": [
        "Create a classifier for the Fashion MNIST dataset\n",
        "\n",
        "Note that the test will expect it to classify 10 classes and that \n",
        "\n",
        "the input shape should be the native size of the Fashion MNIST dataset which is 28x28 monochrome. \n",
        "\n",
        "Do not resize the data. Your input layer should accept\n",
        "\n",
        "(28,28) as the input shape only. \n",
        "\n",
        "If you amend this, the tests will fail."
      ]
    },
    {
      "cell_type": "markdown",
      "metadata": {
        "id": "1JDqQLWCnil4"
      },
      "source": [
        "Fashion MNIST 데이터 셋에 대한 분류기 생성\n",
        "테스트는 10 개의 클래스를 분류 할 것으로 예상하고\n",
        "\n",
        "입력 모양은 Fashion MNIST 데이터 세트의 기본 크기 여야합니다.28x28 단색. \n",
        "\n",
        "데이터 크기를 조정하지 마십시오. input_shape는\n",
        "(28,28)을 입력 모양으로 만 사용합니다. "
      ]
    },
    {
      "cell_type": "markdown",
      "metadata": {
        "id": "OAvRmF3_HMIu"
      },
      "source": [
        "------------------------------------"
      ]
    },
    {
      "cell_type": "markdown",
      "metadata": {
        "id": "1dWL4Kn7G4eH"
      },
      "source": [
        "# 실습"
      ]
    },
    {
      "cell_type": "markdown",
      "metadata": {
        "id": "UrUNBY6xHH6m"
      },
      "source": [
        "## STEP 1. import"
      ]
    },
    {
      "cell_type": "code",
      "metadata": {
        "id": "G9M_SARJnil5"
      },
      "source": [
        "import numpy as np\n",
        "import matplotlib.pyplot as plt\n",
        "import tensorflow as tf\n",
        "\n",
        "from tensorflow.keras.layers import Dense, Flatten\n",
        "from tensorflow.keras.models import Sequential\n",
        "from tensorflow.keras.callbacks import ModelCheckpoint"
      ],
      "execution_count": null,
      "outputs": []
    },
    {
      "cell_type": "markdown",
      "metadata": {
        "id": "2HGYCJ1Tnil7"
      },
      "source": [
        "## STEP 2. 전처리 (pre-processing)"
      ]
    },
    {
      "cell_type": "markdown",
      "metadata": {
        "id": "Kg0sXFW2nil7"
      },
      "source": [
        "**tf.keras.datasets** 에는 다양한 샘플 데이터를 제공해줍니다."
      ]
    },
    {
      "cell_type": "markdown",
      "metadata": {
        "id": "H43uLfTrHERV"
      },
      "source": [
        "\n",
        "[tf.keras.datasets](https://www.tensorflow.org/api_docs/python/tf/keras/datasets)\n",
        "\n",
        "* **fashion_mnist**: Fashion-MNIST 옷(패션) 데이터 셋\n",
        "\n",
        "* **mnist**: MNIST 손글씨 데이터 셋"
      ]
    },
    {
      "cell_type": "markdown",
      "metadata": {
        "id": "PPpM4Xy5HsoH"
      },
      "source": [
        "데이터 셋을 **로드** 합니다. (mnist)"
      ]
    },
    {
      "cell_type": "markdown",
      "metadata": {
        "id": "vV5IsHOqMLnl"
      },
      "source": [
        "[코드]"
      ]
    },
    {
      "cell_type": "code",
      "metadata": {
        "id": "nWsdj7Dgnil8"
      },
      "source": [
        "fashion_mnist = tf.keras.datasets.fashion_mnist"
      ],
      "execution_count": null,
      "outputs": []
    },
    {
      "cell_type": "markdown",
      "metadata": {
        "id": "H05dHM_HoSYO"
      },
      "source": [
        "데이터 셋 로드: \n",
        "* **mnist.load_data()**\n",
        "* **fashion_mnist.load_data()**"
      ]
    },
    {
      "cell_type": "markdown",
      "metadata": {
        "id": "yvRH71ADI_dw"
      },
      "source": [
        "데이터 셋을 불러와, train / validation 세트를 구성합니다."
      ]
    },
    {
      "cell_type": "markdown",
      "metadata": {
        "id": "1kv3nb02MJfj"
      },
      "source": [
        "[코드] "
      ]
    },
    {
      "cell_type": "code",
      "metadata": {
        "id": "JWSZUSoWnil_",
        "colab": {
          "base_uri": "https://localhost:8080/"
        },
        "outputId": "3975b38a-63ad-4c5c-c577-49eb88ab9976"
      },
      "source": [
        "(x_train, y_train), (x_valid, y_valid) = fashion_mnist.load_data()"
      ],
      "execution_count": null,
      "outputs": [
        {
          "output_type": "stream",
          "name": "stdout",
          "text": [
            "Downloading data from https://storage.googleapis.com/tensorflow/tf-keras-datasets/train-labels-idx1-ubyte.gz\n",
            "32768/29515 [=================================] - 0s 0us/step\n",
            "40960/29515 [=========================================] - 0s 0us/step\n",
            "Downloading data from https://storage.googleapis.com/tensorflow/tf-keras-datasets/train-images-idx3-ubyte.gz\n",
            "26427392/26421880 [==============================] - 0s 0us/step\n",
            "26435584/26421880 [==============================] - 0s 0us/step\n",
            "Downloading data from https://storage.googleapis.com/tensorflow/tf-keras-datasets/t10k-labels-idx1-ubyte.gz\n",
            "16384/5148 [===============================================================================================] - 0s 0us/step\n",
            "Downloading data from https://storage.googleapis.com/tensorflow/tf-keras-datasets/t10k-images-idx3-ubyte.gz\n",
            "4423680/4422102 [==============================] - 0s 0us/step\n",
            "4431872/4422102 [==============================] - 0s 0us/step\n"
          ]
        }
      ]
    },
    {
      "cell_type": "markdown",
      "metadata": {
        "id": "uUCrDWFcH5O3"
      },
      "source": [
        "정상적으로 로드되었는지, **확인**합니다. "
      ]
    },
    {
      "cell_type": "code",
      "metadata": {
        "id": "tQINRel7nimB",
        "colab": {
          "base_uri": "https://localhost:8080/"
        },
        "outputId": "62337e90-34b2-4c0c-e12e-d7941cab2b7c"
      },
      "source": [
        "x_train.shape, x_valid.shape"
      ],
      "execution_count": null,
      "outputs": [
        {
          "output_type": "execute_result",
          "data": {
            "text/plain": [
              "((60000, 28, 28), (10000, 28, 28))"
            ]
          },
          "metadata": {},
          "execution_count": 4
        }
      ]
    },
    {
      "cell_type": "code",
      "metadata": {
        "id": "xU_nKXIuH8O-",
        "colab": {
          "base_uri": "https://localhost:8080/"
        },
        "outputId": "ae3c4238-9a50-49a1-fe92-ab505c4b62f1"
      },
      "source": [
        "y_train.shape, y_valid.shape"
      ],
      "execution_count": null,
      "outputs": [
        {
          "output_type": "execute_result",
          "data": {
            "text/plain": [
              "((60000,), (10000,))"
            ]
          },
          "metadata": {},
          "execution_count": 5
        }
      ]
    },
    {
      "cell_type": "markdown",
      "metadata": {
        "id": "SpCEhf6njRqs"
      },
      "source": [
        "**데이터셋 시각화**"
      ]
    },
    {
      "cell_type": "code",
      "metadata": {
        "id": "oioceOg4jVhv",
        "outputId": "0ea661c2-7745-4178-d899-8840ce628906",
        "colab": {
          "base_uri": "https://localhost:8080/",
          "height": 350
        }
      },
      "source": [
        "fig, axes = plt.subplots(2, 5)\n",
        "fig.set_size_inches(10, 5)\n",
        "\n",
        "for i in range(10):\n",
        "    axes[i//5, i%5].imshow(x_train[i], cmap='gray')\n",
        "    axes[i//5, i%5].set_title('No. %02d' % y_train[i], fontsize=18)\n",
        "    plt.setp( axes[i//5, i%5].get_xticklabels(), visible=False)\n",
        "    plt.setp( axes[i//5, i%5].get_yticklabels(), visible=False)\n",
        "    axes[i//5, i%5].axis('off')\n",
        "\n",
        "plt.tight_layout()\n",
        "plt.show()"
      ],
      "execution_count": null,
      "outputs": [
        {
          "output_type": "display_data",
          "data": {
            "text/plain": [
              "<Figure size 720x360 with 10 Axes>"
            ],
            "image/png": "[encoded data removed]"
          },
          "metadata": {}
        }
      ]
    },
    {
      "cell_type": "markdown",
      "metadata": {
        "id": "JwOpcgkRny5W"
      },
      "source": [
        "**이미지 정규화 (Normalization)**\n",
        "\n",
        "* 모든 이미지 픽셀(pixel)값들을 0~1 사이의 값으로 정규화 해 줍니다.\n",
        "* x_train, x_valid 에 대해서만 정규화합니다."
      ]
    },
    {
      "cell_type": "markdown",
      "metadata": {
        "id": "BPF65YnpO7-8"
      },
      "source": [
        "정규화(Normalization) 전의 최소값(min), 최대값(max)을 확인합니다."
      ]
    },
    {
      "cell_type": "code",
      "metadata": {
        "id": "psrsKNe7PFrn",
        "colab": {
          "base_uri": "https://localhost:8080/"
        },
        "outputId": "e8cb2d34-3e63-418e-89c1-1b2f79cd3852"
      },
      "source": [
        "x_train.min(), x_train.max()"
      ],
      "execution_count": null,
      "outputs": [
        {
          "output_type": "execute_result",
          "data": {
            "text/plain": [
              "(0, 255)"
            ]
          },
          "metadata": {},
          "execution_count": 7
        }
      ]
    },
    {
      "cell_type": "markdown",
      "metadata": {
        "id": "fYMtbN69MPkm"
      },
      "source": [
        "[코드]"
      ]
    },
    {
      "cell_type": "code",
      "metadata": {
        "id": "lFArqzZCntDh"
      },
      "source": [
        "x_train = x_train / 255.0\n",
        "x_valid = x_valid / 255.0"
      ],
      "execution_count": null,
      "outputs": []
    },
    {
      "cell_type": "markdown",
      "metadata": {
        "id": "dZK1P_g4PNCy"
      },
      "source": [
        "정규화 후 최소값/최대값 확인"
      ]
    },
    {
      "cell_type": "code",
      "metadata": {
        "id": "FWJTNdezPQ2h",
        "colab": {
          "base_uri": "https://localhost:8080/"
        },
        "outputId": "9001d63b-28d4-4f34-f9e5-404b8d6c0acd"
      },
      "source": [
        "x_train.min(), x_train.max()"
      ],
      "execution_count": null,
      "outputs": [
        {
          "output_type": "execute_result",
          "data": {
            "text/plain": [
              "(0.0, 1.0)"
            ]
          },
          "metadata": {},
          "execution_count": 9
        }
      ]
    },
    {
      "cell_type": "markdown",
      "metadata": {
        "id": "qus44o00Jo77"
      },
      "source": [
        "## STEP 3. 모델 정의 (Sequential)"
      ]
    },
    {
      "cell_type": "markdown",
      "metadata": {
        "id": "azRvYVbQnim5"
      },
      "source": [
        "이제 Modeling을 할 차례입니다.\n",
        "\n",
        "`Sequential` 모델 안에서 층을 깊게 쌓아 올려 주면 됩니다.\n",
        "\n",
        "1. Dense 레이어는 2D 형태의 데이터를 받아들이지 못합니다. Flatten 레이어로 2D -> 1D로 변환해주세요\n",
        "2. 깊은 출력층과 더 많은 Layer를 쌓습니다.\n",
        "3. Dense Layer에 `activation='relu'`를 적용합니다.\n",
        "4. 분류(Classification)의 마지막 층의 출력 숫자는 분류하고자 하는 클래스 갯수와 **같아야** 합니다.\n"
      ]
    },
    {
      "cell_type": "markdown",
      "metadata": {
        "id": "uPXabQxgMGCp"
      },
      "source": [
        "[코드]"
      ]
    },
    {
      "cell_type": "code",
      "metadata": {
        "id": "PCDinGHSnim5"
      },
      "source": [
        "model = Sequential([\n",
        "    # Flatten으로 shape 펼치기, input_shape는 (28, 28)로 지정합니다.\n",
        "    Flatten(input_shape=(28,28)),\n",
        "    # Dense Layer\n",
        "    Dense(1024, activation = 'relu'),\n",
        "    Dense(512, activation = 'relu'),\n",
        "    Dense(1024, activation = 'relu'),\n",
        "    Dense(2048, activation = 'relu'),\n",
        "    # Classification을 위한 Softmax \n",
        "    # 출력층의 갯수는 클래스의 갯수와 동일하게 맞춰줍니다 (10개), activation도 잊지마세요!\n",
        "    Dense(10, activation = 'softmax'),\n",
        "])"
      ],
      "execution_count": null,
      "outputs": []
    },
    {
      "cell_type": "markdown",
      "metadata": {
        "id": "3aR788REKyB3"
      },
      "source": [
        "모델에 대한 **요약**을 확인합니다."
      ]
    },
    {
      "cell_type": "code",
      "metadata": {
        "id": "5u4rp7tB-4A1",
        "colab": {
          "base_uri": "https://localhost:8080/"
        },
        "outputId": "7a69d443-40f2-48a6-ed18-45a6469f6b3e"
      },
      "source": [
        "model.summary()"
      ],
      "execution_count": null,
      "outputs": [
        {
          "output_type": "stream",
          "name": "stdout",
          "text": [
            "Model: \"sequential\"\n",
            "_________________________________________________________________\n",
            " Layer (type)                Output Shape              Param #   \n",
            "=================================================================\n",
            " flatten (Flatten)           (None, 784)               0         \n",
            "                                                                 \n",
            " dense (Dense)               (None, 1024)              803840    \n",
            "                                                                 \n",
            " dense_1 (Dense)             (None, 512)               524800    \n",
            "                                                                 \n",
            " dense_2 (Dense)             (None, 1024)              525312    \n",
            "                                                                 \n",
            " dense_3 (Dense)             (None, 2048)              2099200   \n",
            "                                                                 \n",
            " dense_4 (Dense)             (None, 10)                20490     \n",
            "                                                                 \n",
            "=================================================================\n",
            "Total params: 3,973,642\n",
            "Trainable params: 3,973,642\n",
            "Non-trainable params: 0\n",
            "_________________________________________________________________\n"
          ]
        }
      ]
    },
    {
      "cell_type": "markdown",
      "metadata": {
        "id": "wnmQV-fDnim8"
      },
      "source": [
        "## STEP 4. 컴파일 (compile)"
      ]
    },
    {
      "cell_type": "markdown",
      "metadata": {
        "id": "pHQ1abHXK8e9"
      },
      "source": [
        "1. `optimizer`는 가장 최적화가 잘되는 알고리즘인 'adam'을 사용합니다.\n",
        "2. `loss`는 무엇을 지정하면 좋을까요? (`categorical_crossentropy` / `sparse_categorical_crossentropy`)\n",
        "3. `metrics`를 'acc' 혹은 'accuracy'로 지정하면, 학습시 정확도를 모니터링 할 수 있습니다."
      ]
    },
    {
      "cell_type": "markdown",
      "metadata": {
        "id": "J2cOSOycMReV"
      },
      "source": [
        "[코드]"
      ]
    },
    {
      "cell_type": "code",
      "metadata": {
        "id": "QCLw6RMZnim-",
        "colab": {
          "base_uri": "https://localhost:8080/"
        },
        "outputId": "a7ba6368-d352-4422-b399-c070fe119216"
      },
      "source": [
        "y_train[0]"
      ],
      "execution_count": null,
      "outputs": [
        {
          "output_type": "execute_result",
          "data": {
            "text/plain": [
              "9"
            ]
          },
          "metadata": {},
          "execution_count": 13
        }
      ]
    },
    {
      "cell_type": "code",
      "source": [
        "model.compile(optimizer = 'adam', loss='sparse_categorical_crossentropy', metrics=['acc'])"
      ],
      "metadata": {
        "id": "DktMN4DugZ0H"
      },
      "execution_count": null,
      "outputs": []
    },
    {
      "cell_type": "markdown",
      "metadata": {
        "id": "NyLUPgGCninB"
      },
      "source": [
        "## STEP 5. ModelCheckpoint"
      ]
    },
    {
      "cell_type": "markdown",
      "metadata": {
        "id": "46Oi04ZMLtEB"
      },
      "source": [
        "`val_loss` 기준으로 epoch 마다 최적의 모델을 저장하기 위하여, ModelCheckpoint를 만듭니다.\n",
        "* `checkpoint_path`는 모델이 저장될 파일 명을 설정합니다.\n",
        "* `ModelCheckpoint`을 선언하고, 적절한 옵션 값을 지정합니다."
      ]
    },
    {
      "cell_type": "markdown",
      "metadata": {
        "id": "r_rJ4iAdMSc8"
      },
      "source": [
        "[코드]"
      ]
    },
    {
      "cell_type": "code",
      "metadata": {
        "id": "qJwGq3PoninB"
      },
      "source": [
        "checkpoint_path = \"shkim_chekpoint.ckpt\"\n",
        "checkpoint = ModelCheckpoint(filepath=checkpoint_path,\n",
        "                            save_weights_only=True,\n",
        "                            save_best_only=True,\n",
        "                            monitor='val_loss',\n",
        "                            verbose=1)"
      ],
      "execution_count": null,
      "outputs": []
    },
    {
      "cell_type": "markdown",
      "metadata": {
        "id": "v3mjb5EAninE"
      },
      "source": [
        "## STEP 6. 학습 (fit)"
      ]
    },
    {
      "cell_type": "markdown",
      "metadata": {
        "id": "3-X6hK_DMYZH"
      },
      "source": [
        "1. `validation_data`를 반드시 지정합니다.\n",
        "2. `epochs`을 적절하게 지정합니다.\n",
        "3. `callbacks`에 바로 위에서 만든 checkpoint를 지정합니다."
      ]
    },
    {
      "cell_type": "markdown",
      "metadata": {
        "id": "7ic2FoiBMTgp"
      },
      "source": [
        "[코드]"
      ]
    },
    {
      "cell_type": "code",
      "metadata": {
        "id": "2uHXDA_vninF",
        "colab": {
          "base_uri": "https://localhost:8080/"
        },
        "outputId": "d675f9dd-6c9a-458f-bbd1-dc55e5787447"
      },
      "source": [
        "history = model.fit(x_train, y_train,\n",
        "                    validation_data=(x_valid, y_valid),\n",
        "                    epochs=20,\n",
        "                    callbacks=[checkpoint]\n",
        "                    )"
      ],
      "execution_count": null,
      "outputs": [
        {
          "output_type": "stream",
          "name": "stdout",
          "text": [
            "Epoch 1/20\n",
            "1858/1875 [============================>.] - ETA: 0s - loss: 0.5137 - acc: 0.8158\n",
            "Epoch 1: val_loss improved from inf to 0.43772, saving model to shkim_chekpoint.ckpt\n",
            "1875/1875 [==============================] - 10s 4ms/step - loss: 0.5125 - acc: 0.8162 - val_loss: 0.4377 - val_acc: 0.8451\n",
            "Epoch 2/20\n",
            "1867/1875 [============================>.] - ETA: 0s - loss: 0.3927 - acc: 0.8591\n",
            "Epoch 2: val_loss improved from 0.43772 to 0.41445, saving model to shkim_chekpoint.ckpt\n",
            "1875/1875 [==============================] - 7s 4ms/step - loss: 0.3926 - acc: 0.8591 - val_loss: 0.4144 - val_acc: 0.8550\n",
            "Epoch 3/20\n",
            "1872/1875 [============================>.] - ETA: 0s - loss: 0.3477 - acc: 0.8734\n",
            "Epoch 3: val_loss improved from 0.41445 to 0.39519, saving model to shkim_chekpoint.ckpt\n",
            "1875/1875 [==============================] - 6s 3ms/step - loss: 0.3476 - acc: 0.8734 - val_loss: 0.3952 - val_acc: 0.8600\n",
            "Epoch 4/20\n",
            "1862/1875 [============================>.] - ETA: 0s - loss: 0.3232 - acc: 0.8827\n",
            "Epoch 4: val_loss improved from 0.39519 to 0.35718, saving model to shkim_chekpoint.ckpt\n",
            "1875/1875 [==============================] - 6s 3ms/step - loss: 0.3227 - acc: 0.8830 - val_loss: 0.3572 - val_acc: 0.8732\n",
            "Epoch 5/20\n",
            "1868/1875 [============================>.] - ETA: 0s - loss: 0.3010 - acc: 0.8900\n",
            "Epoch 5: val_loss improved from 0.35718 to 0.35236, saving model to shkim_chekpoint.ckpt\n",
            "1875/1875 [==============================] - 6s 3ms/step - loss: 0.3011 - acc: 0.8900 - val_loss: 0.3524 - val_acc: 0.8751\n",
            "Epoch 6/20\n",
            "1861/1875 [============================>.] - ETA: 0s - loss: 0.2891 - acc: 0.8946\n",
            "Epoch 6: val_loss did not improve from 0.35236\n",
            "1875/1875 [==============================] - 6s 3ms/step - loss: 0.2889 - acc: 0.8946 - val_loss: 0.3541 - val_acc: 0.8752\n",
            "Epoch 7/20\n",
            "1868/1875 [============================>.] - ETA: 0s - loss: 0.2780 - acc: 0.8973\n",
            "Epoch 7: val_loss did not improve from 0.35236\n",
            "1875/1875 [==============================] - 6s 3ms/step - loss: 0.2782 - acc: 0.8973 - val_loss: 0.3590 - val_acc: 0.8733\n",
            "Epoch 8/20\n",
            "1858/1875 [============================>.] - ETA: 0s - loss: 0.2686 - acc: 0.9004\n",
            "Epoch 8: val_loss did not improve from 0.35236\n",
            "1875/1875 [==============================] - 6s 3ms/step - loss: 0.2691 - acc: 0.9003 - val_loss: 0.3731 - val_acc: 0.8793\n",
            "Epoch 9/20\n",
            "1872/1875 [============================>.] - ETA: 0s - loss: 0.2576 - acc: 0.9044\n",
            "Epoch 9: val_loss improved from 0.35236 to 0.34423, saving model to shkim_chekpoint.ckpt\n",
            "1875/1875 [==============================] - 6s 3ms/step - loss: 0.2576 - acc: 0.9044 - val_loss: 0.3442 - val_acc: 0.8790\n",
            "Epoch 10/20\n",
            "1868/1875 [============================>.] - ETA: 0s - loss: 0.2521 - acc: 0.9073\n",
            "Epoch 10: val_loss improved from 0.34423 to 0.33959, saving model to shkim_chekpoint.ckpt\n",
            "1875/1875 [==============================] - 6s 3ms/step - loss: 0.2517 - acc: 0.9075 - val_loss: 0.3396 - val_acc: 0.8855\n",
            "Epoch 11/20\n",
            "1875/1875 [==============================] - ETA: 0s - loss: 0.2422 - acc: 0.9112\n",
            "Epoch 11: val_loss improved from 0.33959 to 0.33354, saving model to shkim_chekpoint.ckpt\n",
            "1875/1875 [==============================] - 6s 3ms/step - loss: 0.2422 - acc: 0.9112 - val_loss: 0.3335 - val_acc: 0.8868\n",
            "Epoch 12/20\n",
            "1866/1875 [============================>.] - ETA: 0s - loss: 0.2319 - acc: 0.9125\n",
            "Epoch 12: val_loss did not improve from 0.33354\n",
            "1875/1875 [==============================] - 6s 3ms/step - loss: 0.2322 - acc: 0.9123 - val_loss: 0.3580 - val_acc: 0.8838\n",
            "Epoch 13/20\n",
            "1864/1875 [============================>.] - ETA: 0s - loss: 0.2320 - acc: 0.9144\n",
            "Epoch 13: val_loss did not improve from 0.33354\n",
            "1875/1875 [==============================] - 6s 3ms/step - loss: 0.2316 - acc: 0.9146 - val_loss: 0.3516 - val_acc: 0.8856\n",
            "Epoch 14/20\n",
            "1865/1875 [============================>.] - ETA: 0s - loss: 0.2218 - acc: 0.9163\n",
            "Epoch 14: val_loss did not improve from 0.33354\n",
            "1875/1875 [==============================] - 6s 3ms/step - loss: 0.2220 - acc: 0.9163 - val_loss: 0.3499 - val_acc: 0.8919\n",
            "Epoch 15/20\n",
            "1869/1875 [============================>.] - ETA: 0s - loss: 0.2205 - acc: 0.9173\n",
            "Epoch 15: val_loss did not improve from 0.33354\n",
            "1875/1875 [==============================] - 6s 3ms/step - loss: 0.2207 - acc: 0.9173 - val_loss: 0.3670 - val_acc: 0.8814\n",
            "Epoch 16/20\n",
            "1861/1875 [============================>.] - ETA: 0s - loss: 0.2173 - acc: 0.9186\n",
            "Epoch 16: val_loss did not improve from 0.33354\n",
            "1875/1875 [==============================] - 6s 3ms/step - loss: 0.2175 - acc: 0.9185 - val_loss: 0.3395 - val_acc: 0.8872\n",
            "Epoch 17/20\n",
            "1873/1875 [============================>.] - ETA: 0s - loss: 0.2092 - acc: 0.9214\n",
            "Epoch 17: val_loss did not improve from 0.33354\n",
            "1875/1875 [==============================] - 6s 3ms/step - loss: 0.2092 - acc: 0.9214 - val_loss: 0.3918 - val_acc: 0.8806\n",
            "Epoch 18/20\n",
            "1871/1875 [============================>.] - ETA: 0s - loss: 0.2022 - acc: 0.9234\n",
            "Epoch 18: val_loss did not improve from 0.33354\n",
            "1875/1875 [==============================] - 6s 3ms/step - loss: 0.2023 - acc: 0.9233 - val_loss: 0.3708 - val_acc: 0.8892\n",
            "Epoch 19/20\n",
            "1865/1875 [============================>.] - ETA: 0s - loss: 0.2015 - acc: 0.9254\n",
            "Epoch 19: val_loss did not improve from 0.33354\n",
            "1875/1875 [==============================] - 6s 3ms/step - loss: 0.2015 - acc: 0.9254 - val_loss: 0.3551 - val_acc: 0.8869\n",
            "Epoch 20/20\n",
            "1861/1875 [============================>.] - ETA: 0s - loss: 0.1932 - acc: 0.9272\n",
            "Epoch 20: val_loss did not improve from 0.33354\n",
            "1875/1875 [==============================] - 6s 3ms/step - loss: 0.1929 - acc: 0.9273 - val_loss: 0.4096 - val_acc: 0.8892\n"
          ]
        }
      ]
    },
    {
      "cell_type": "markdown",
      "metadata": {
        "id": "shzhTOjAninH"
      },
      "source": [
        "## STEP 7. 학습 완료 후 Load Weights (ModelCheckpoint)"
      ]
    },
    {
      "cell_type": "markdown",
      "metadata": {
        "id": "kLqb_6XrMvdq"
      },
      "source": [
        "학습이 완료된 후에는 반드시 `load_weights`를 해주어야 합니다.\n",
        "\n",
        "그렇지 않으면, 열심히 ModelCheckpoint를 만든 의미가 없습니다."
      ]
    },
    {
      "cell_type": "markdown",
      "metadata": {
        "id": "jcXHQ_pNM_zA"
      },
      "source": [
        "[코드]"
      ]
    },
    {
      "cell_type": "code",
      "metadata": {
        "id": "4jO1ucZ9ninH",
        "colab": {
          "base_uri": "https://localhost:8080/"
        },
        "outputId": "5365f3e3-7e8e-4873-9adf-cc4e1b6e0bd2"
      },
      "source": [
        "model.evaluate(x_valid, y_valid)"
      ],
      "execution_count": null,
      "outputs": [
        {
          "output_type": "stream",
          "name": "stdout",
          "text": [
            "313/313 [==============================] - 1s 2ms/step - loss: 0.4096 - acc: 0.8892\n"
          ]
        },
        {
          "output_type": "execute_result",
          "data": {
            "text/plain": [
              "[0.40962567925453186, 0.88919997215271]"
            ]
          },
          "metadata": {},
          "execution_count": 18
        }
      ]
    },
    {
      "cell_type": "code",
      "source": [
        "model.load_weights(checkpoint_path)"
      ],
      "metadata": {
        "colab": {
          "base_uri": "https://localhost:8080/"
        },
        "id": "css2c_gzhh_q",
        "outputId": "98c3d096-fa72-4c3e-f64e-7b5182956df1"
      },
      "execution_count": null,
      "outputs": [
        {
          "output_type": "execute_result",
          "data": {
            "text/plain": [
              "<tensorflow.python.training.tracking.util.CheckpointLoadStatus at 0x7fa06e0ed690>"
            ]
          },
          "metadata": {},
          "execution_count": 19
        }
      ]
    },
    {
      "cell_type": "code",
      "source": [
        "model.evaluate(x_valid, y_valid)"
      ],
      "metadata": {
        "colab": {
          "base_uri": "https://localhost:8080/"
        },
        "id": "-2ZC17czhmhQ",
        "outputId": "fe3cab5a-4c14-4ce3-a6a3-3c3232bd497d"
      },
      "execution_count": null,
      "outputs": [
        {
          "output_type": "stream",
          "name": "stdout",
          "text": [
            "313/313 [==============================] - 1s 2ms/step - loss: 0.3335 - acc: 0.8868\n"
          ]
        },
        {
          "output_type": "execute_result",
          "data": {
            "text/plain": [
              "[0.333543598651886, 0.8867999911308289]"
            ]
          },
          "metadata": {},
          "execution_count": 20
        }
      ]
    }
  ]
}