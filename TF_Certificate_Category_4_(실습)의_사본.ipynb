{
  "nbformat": 4,
  "nbformat_minor": 0,
  "metadata": {
    "accelerator": "GPU",
    "colab": {
      "name": "TF Certificate Category 4 (실습)의 사본",
      "provenance": [],
      "collapsed_sections": [],
      "include_colab_link": true
    },
    "kernelspec": {
      "display_name": "Python 3",
      "language": "python",
      "name": "python3"
    },
    "language_info": {
      "codemirror_mode": {
        "name": "ipython",
        "version": 3
      },
      "file_extension": ".py",
      "mimetype": "text/x-python",
      "name": "python",
      "nbconvert_exporter": "python",
      "pygments_lexer": "ipython3",
      "version": "3.6.6"
    },
    "gpuClass": "standard"
  },
  "cells": [
    {
      "cell_type": "markdown",
      "metadata": {
        "id": "view-in-github",
        "colab_type": "text"
      },
      "source": [
        "<a href=\"https://colab.research.google.com/github/Stacy067/Deep-learning-and-Tensorflow/blob/main/TF_Certificate_Category_4_(%EC%8B%A4%EC%8A%B5)%EC%9D%98_%EC%82%AC%EB%B3%B8.ipynb\" target=\"_parent\"><img src=\"https://colab.research.google.com/assets/colab-badge.svg\" alt=\"Open In Colab\"/></a>"
      ]
    },
    {
      "cell_type": "markdown",
      "metadata": {
        "id": "sCmtzkeGPI2Q"
      },
      "source": [
        "# Category 4\n",
        "\n",
        "RNN 을 활용한 텍스트 분류 (Text Classification)"
      ]
    },
    {
      "cell_type": "markdown",
      "metadata": {
        "id": "iRSKbgK8PRs5"
      },
      "source": [
        "## 확인"
      ]
    },
    {
      "cell_type": "markdown",
      "metadata": {
        "id": "Fc4QcKvRPSj-"
      },
      "source": [
        "1. GPU 옵션 켜져 있는지 확인할 것!!! (수정 - 노트설정 - 하드웨어설정 (GPU))"
      ]
    },
    {
      "cell_type": "markdown",
      "metadata": {
        "id": "JNPjnA62PXVn"
      },
      "source": [
        "## 순서"
      ]
    },
    {
      "cell_type": "markdown",
      "metadata": {
        "id": "T463L0aPPX_n"
      },
      "source": [
        "1. **import**: 필요한 모듈 import\n",
        "2. **전처리**: 학습에 필요한 데이터 전처리를 수행합니다.\n",
        "3. **모델링(model)**: 모델을 정의합니다.\n",
        "4. **컴파일(compile)**: 모델을 생성합니다.\n",
        "5. **학습 (fit)**: 모델을 학습시킵니다."
      ]
    },
    {
      "cell_type": "markdown",
      "metadata": {
        "id": "W1Hj9c1NPbPu"
      },
      "source": [
        "## 문제"
      ]
    },
    {
      "cell_type": "markdown",
      "metadata": {
        "id": "RcvEYUuhPb3f"
      },
      "source": [
        "NLP QUESTION\n",
        "\n",
        "For this task you will build a classifier for the sarcasm dataset\n",
        "The classifier should have a final layer with 1 neuron activated by sigmoid as shown.<br/><br/>\n",
        "It will be tested against a number of sentences that the network hasn't previously seen<br/>\n",
        "And you will be scored on whether sarcasm was correctly detected in those sentences\n",
        "\n",
        "\n",
        "-------------------------------\n",
        "**자연어 처리**<br/><br/>\n",
        "이 작업에서는 sarcasm 데이터 세트에 대한 분류기를 작성합니다.\n",
        "분류기는 1 개의 뉴런으로 이루어진 sigmoid 활성함수로 구성된 최종 층을 가져야합니다.<br/>\n",
        "제출될 모델은 데이터셋이 없는 여러 문장에 대해 테스트됩니다.\n",
        "그리고 당신은 그 문장에서 sarcasm 판별이 제대로 감지되었는지에 따라 점수를 받게 될 것입니다\n"
      ]
    },
    {
      "cell_type": "markdown",
      "metadata": {
        "id": "7C3ewm9XQHgr"
      },
      "source": [
        "-----------------------------------\n"
      ]
    },
    {
      "cell_type": "markdown",
      "metadata": {
        "id": "aPKQS7VuHcKV"
      },
      "source": [
        "# 실습"
      ]
    },
    {
      "cell_type": "markdown",
      "metadata": {
        "id": "YE_gqvyN3Ato"
      },
      "source": [
        "## STEP 1. import"
      ]
    },
    {
      "cell_type": "markdown",
      "metadata": {
        "id": "Od_JvHfFXvVR"
      },
      "source": [
        "**[코드]**"
      ]
    },
    {
      "cell_type": "code",
      "metadata": {
        "id": "HKMbpxX8Ro-h"
      },
      "source": [
        "import json\n",
        "import tensorflow as tf\n",
        "import numpy as np\n",
        "import urllib\n",
        "\n",
        "# 필요한 모듈 import\n",
        "from tensorflow.keras.preprocessing.text import Tokenizer\n",
        "from tensorflow.keras.preprocessing.sequence import pad_sequences\n",
        "from tensorflow.keras.layers import Embedding, LSTM, Dense, Bidirectional, Flatten\n",
        "from tensorflow.keras.models import Sequential\n",
        "from tensorflow.keras.callbacks import ModelCheckpoint"
      ],
      "execution_count": 1,
      "outputs": []
    },
    {
      "cell_type": "markdown",
      "metadata": {
        "id": "wEf5XJJE38vl"
      },
      "source": [
        "## STEP 2. Load Dataset"
      ]
    },
    {
      "cell_type": "code",
      "metadata": {
        "id": "7FLOv_TrRo-m",
        "colab": {
          "base_uri": "https://localhost:8080/"
        },
        "outputId": "211a4122-3df6-4bf8-810a-eb8cf73634ad"
      },
      "source": [
        "url = 'https://storage.googleapis.com/download.tensorflow.org/data/sarcasm.json'\n",
        "urllib.request.urlretrieve(url, 'sarcasm.json')"
      ],
      "execution_count": 2,
      "outputs": [
        {
          "output_type": "execute_result",
          "data": {
            "text/plain": [
              "('sarcasm.json', <http.client.HTTPMessage at 0x7f0999eb9190>)"
            ]
          },
          "metadata": {},
          "execution_count": 2
        }
      ]
    },
    {
      "cell_type": "markdown",
      "metadata": {
        "id": "EXNFkRYERo-u"
      },
      "source": [
        "## STEP 3. Json 파일 로드"
      ]
    },
    {
      "cell_type": "markdown",
      "metadata": {
        "id": "5vTO4qdw5rUh"
      },
      "source": [
        "`datas` 변수에 `json`을 활용하여 로드"
      ]
    },
    {
      "cell_type": "markdown",
      "metadata": {
        "id": "K5MxRRyRYhYy"
      },
      "source": [
        "**[코드]**"
      ]
    },
    {
      "cell_type": "code",
      "metadata": {
        "id": "yBg4ZmnKRo-v"
      },
      "source": [
        "with open('sarcasm.json') as f:\n",
        "    datas = json.load(f)"
      ],
      "execution_count": 3,
      "outputs": []
    },
    {
      "cell_type": "markdown",
      "metadata": {
        "id": "SCJnQ2uAIHQm"
      },
      "source": [
        "잘 load 되었는지 체크합니다."
      ]
    },
    {
      "cell_type": "code",
      "metadata": {
        "id": "Ylqxc8fcRo-0",
        "colab": {
          "base_uri": "https://localhost:8080/"
        },
        "outputId": "5aa8e270-7fb6-49fd-9b5d-014792b7a5f7"
      },
      "source": [
        "datas[:5]"
      ],
      "execution_count": 4,
      "outputs": [
        {
          "output_type": "execute_result",
          "data": {
            "text/plain": [
              "[{'article_link': 'https://www.huffingtonpost.com/entry/versace-black-code_us_5861fbefe4b0de3a08f600d5',\n",
              "  'headline': \"former versace store clerk sues over secret 'black code' for minority shoppers\",\n",
              "  'is_sarcastic': 0},\n",
              " {'article_link': 'https://www.huffingtonpost.com/entry/roseanne-revival-review_us_5ab3a497e4b054d118e04365',\n",
              "  'headline': \"the 'roseanne' revival catches up to our thorny political mood, for better and worse\",\n",
              "  'is_sarcastic': 0},\n",
              " {'article_link': 'https://local.theonion.com/mom-starting-to-fear-son-s-web-series-closest-thing-she-1819576697',\n",
              "  'headline': \"mom starting to fear son's web series closest thing she will have to grandchild\",\n",
              "  'is_sarcastic': 1},\n",
              " {'article_link': 'https://politics.theonion.com/boehner-just-wants-wife-to-listen-not-come-up-with-alt-1819574302',\n",
              "  'headline': 'boehner just wants wife to listen, not come up with alternative debt-reduction ideas',\n",
              "  'is_sarcastic': 1},\n",
              " {'article_link': 'https://www.huffingtonpost.com/entry/jk-rowling-wishes-snape-happy-birthday_us_569117c4e4b0cad15e64fdcb',\n",
              "  'headline': 'j.k. rowling wishes snape happy birthday in the most magical way',\n",
              "  'is_sarcastic': 0}]"
            ]
          },
          "metadata": {},
          "execution_count": 4
        }
      ]
    },
    {
      "cell_type": "markdown",
      "metadata": {
        "id": "M2JA-GrVRo-4"
      },
      "source": [
        "## STEP 4. 데이터셋 구성(sentences, labels)"
      ]
    },
    {
      "cell_type": "markdown",
      "metadata": {
        "id": "kes4D7Q-7r1n"
      },
      "source": [
        "* X (Feature): sentences\n",
        "* Y (Label): label"
      ]
    },
    {
      "cell_type": "markdown",
      "metadata": {
        "id": "Rrr_slKl8CMl"
      },
      "source": [
        "빈 list를 생성합니다. (sentences, labels)"
      ]
    },
    {
      "cell_type": "markdown",
      "metadata": {
        "id": "g6CmmULjYiS6"
      },
      "source": [
        "**[코드]**"
      ]
    },
    {
      "cell_type": "code",
      "metadata": {
        "id": "zgUxM1Rh7_-t"
      },
      "source": [
        "sentences = []\n",
        "labels = []"
      ],
      "execution_count": 5,
      "outputs": []
    },
    {
      "cell_type": "markdown",
      "metadata": {
        "id": "dGyE9ExOYi4D"
      },
      "source": [
        "**[코드]**"
      ]
    },
    {
      "cell_type": "code",
      "metadata": {
        "id": "evOur3s7Ro_G"
      },
      "source": [
        "for data in datas:\n",
        "    # 이곳에 코드를 입력합니다.\n",
        "    sentences.append(data['headline'])\n",
        "    labels.append(data['is_sarcastic']) "
      ],
      "execution_count": 6,
      "outputs": []
    },
    {
      "cell_type": "markdown",
      "metadata": {
        "id": "kV-gws0ZIDT5"
      },
      "source": [
        "## STEP 5. Train / Validation Set 분리"
      ]
    },
    {
      "cell_type": "markdown",
      "metadata": {
        "id": "7ui0tLP38ziX"
      },
      "source": [
        "20,000개를 기준으로 **데이터셋을 분리**합니다.\n"
      ]
    },
    {
      "cell_type": "code",
      "metadata": {
        "id": "AP_9RTOFIDT7"
      },
      "source": [
        "training_size = 20000"
      ],
      "execution_count": 7,
      "outputs": []
    },
    {
      "cell_type": "markdown",
      "metadata": {
        "id": "C1jazmxhYjw9"
      },
      "source": [
        "**[코드]**"
      ]
    },
    {
      "cell_type": "code",
      "metadata": {
        "id": "QbKerNkAIDUC"
      },
      "source": [
        "train_sentences = sentences[:training_size]\n",
        "train_labels = labels[:training_size]"
      ],
      "execution_count": 8,
      "outputs": []
    },
    {
      "cell_type": "markdown",
      "metadata": {
        "id": "m5Paar02YkMt"
      },
      "source": [
        "**[코드]**"
      ]
    },
    {
      "cell_type": "code",
      "metadata": {
        "id": "VUv12RFJIDUJ"
      },
      "source": [
        "validation_sentences = sentences[training_size:]\n",
        "validation_labels = labels[training_size:]"
      ],
      "execution_count": 9,
      "outputs": []
    },
    {
      "cell_type": "markdown",
      "metadata": {
        "id": "CEXyUrNHRo_S"
      },
      "source": [
        "## STEP 6. Tokenizer 정의"
      ]
    },
    {
      "cell_type": "markdown",
      "metadata": {
        "id": "5bgjblALRo_c"
      },
      "source": [
        "단어의 토큰화를 진행합니다.\n",
        "\n",
        "* `num_words`: 단어 max 사이즈를 지정합니다. 가장 **빈도수가 높은** 단어부터 저장합니다.\n",
        "* `oov_token`: 단어 토큰에 없는 단어를 어떻게 표기할 것인지 지정해줍니다."
      ]
    },
    {
      "cell_type": "code",
      "metadata": {
        "id": "CyHzPmsg9aWS"
      },
      "source": [
        "vocab_size = 1000\n",
        "oov_tok = \"<OOV>\""
      ],
      "execution_count": 10,
      "outputs": []
    },
    {
      "cell_type": "markdown",
      "metadata": {
        "id": "bqxD7qRkYlAE"
      },
      "source": [
        "**[코드]**"
      ]
    },
    {
      "cell_type": "code",
      "metadata": {
        "id": "ORwBwbVIRo_d"
      },
      "source": [
        "tokenizer = Tokenizer(num_words=vocab_size, oov_token='<OOV>')"
      ],
      "execution_count": 11,
      "outputs": []
    },
    {
      "cell_type": "markdown",
      "metadata": {
        "id": "5c6Nqj8YRo_g"
      },
      "source": [
        "## STEP 7. Tokenizer로 학습시킬 문장에 대한 토큰화 진행"
      ]
    },
    {
      "cell_type": "markdown",
      "metadata": {
        "id": "oWptwIFq-B9B"
      },
      "source": [
        "`fit_on_texts`로 학습할 문장에 대하여 **토큰화**를 진행합니다."
      ]
    },
    {
      "cell_type": "markdown",
      "metadata": {
        "id": "tqQYN0oxYluF"
      },
      "source": [
        "**[코드]**"
      ]
    },
    {
      "cell_type": "code",
      "metadata": {
        "id": "mWZFZUFNRo_h"
      },
      "source": [
        "tokenizer.fit_on_texts(train_sentences)"
      ],
      "execution_count": 12,
      "outputs": []
    },
    {
      "cell_type": "markdown",
      "metadata": {
        "id": "ozaMIfx_Ro_4"
      },
      "source": [
        "## STEP 8. 문장(sentences)을 토큰으로 변경 (치환)"
      ]
    },
    {
      "cell_type": "markdown",
      "metadata": {
        "id": "cNqh5HgMAcKW"
      },
      "source": [
        "* `texts_to_sequences`: 문장을 숫자로 **치환** 합니다. \n",
        "* Train Set, Valid Set 모두 별도로 적용해주어야 합니다."
      ]
    },
    {
      "cell_type": "markdown",
      "metadata": {
        "id": "0s6LLAP2YmTk"
      },
      "source": [
        "**[코드]**"
      ]
    },
    {
      "cell_type": "code",
      "metadata": {
        "id": "bYNXTtTIRo_5"
      },
      "source": [
        "train_sequences = tokenizer.texts_to_sequences(train_sentences)\n",
        "validation_sequences = tokenizer.texts_to_sequences(validation_sentences)"
      ],
      "execution_count": 13,
      "outputs": []
    },
    {
      "cell_type": "markdown",
      "metadata": {
        "id": "SRCwRYueRpAQ"
      },
      "source": [
        "## STEP 9. 시퀀스의 길이를 맞추기"
      ]
    },
    {
      "cell_type": "markdown",
      "metadata": {
        "id": "zAZyufTlRpAR"
      },
      "source": [
        "3가지 옵션을 입력해 줍니다.\n",
        "\n",
        "* `maxlen`: 최대 문장 길이를 정의합니다. 최대 문장길이보다 길면, 잘라냅니다.\n",
        "* `truncating`: 문장의 길이가 `maxlen`보다 길 때 앞을 자를지 뒤를 자를지 정의합니다.\n",
        "* `padding`: 문장의 길이가 `maxlen`보다 짧을 때 채워줄 값을 앞을 채울지, 뒤를 채울지 정의합니다."
      ]
    },
    {
      "cell_type": "code",
      "metadata": {
        "id": "CNH-OCTJ9hCN"
      },
      "source": [
        "# 한 문장의 최대 단어 숫자\n",
        "max_length = 120\n",
        "\n",
        "# 잘라낼 문장의 위치\n",
        "trunc_type='post'\n",
        "\n",
        "# 채워줄 문장의 위치\n",
        "padding_type='post'"
      ],
      "execution_count": 14,
      "outputs": []
    },
    {
      "cell_type": "markdown",
      "metadata": {
        "id": "RfAb5XVFYnQY"
      },
      "source": [
        "**[코드]**"
      ]
    },
    {
      "cell_type": "code",
      "metadata": {
        "id": "jdaO9ErnRpAS"
      },
      "source": [
        "train_padded = pad_sequences(train_sequences, maxlen=max_length, truncating=trunc_type, padding=padding_type)\n",
        "validation_padded = pad_sequences(validation_sequences, maxlen=max_length, truncating=trunc_type, padding=padding_type)"
      ],
      "execution_count": 15,
      "outputs": []
    },
    {
      "cell_type": "code",
      "metadata": {
        "id": "4UwFanllJgKP",
        "colab": {
          "base_uri": "https://localhost:8080/"
        },
        "outputId": "67dfb15c-9321-414d-e28a-72fa6408fe6e"
      },
      "source": [
        "train_padded.shape, validation_padded.shape"
      ],
      "execution_count": 16,
      "outputs": [
        {
          "output_type": "execute_result",
          "data": {
            "text/plain": [
              "((20000, 120), (6709, 120))"
            ]
          },
          "metadata": {},
          "execution_count": 16
        }
      ]
    },
    {
      "cell_type": "markdown",
      "metadata": {
        "id": "_p77o7VlIDV4"
      },
      "source": [
        "## Step 10. label 값을 numpy array로 변환"
      ]
    },
    {
      "cell_type": "markdown",
      "metadata": {
        "id": "Zk5Xv54HCEtx"
      },
      "source": [
        "model이 `list` type은 받아들이지 못하므로, numpy array로 변환합니다."
      ]
    },
    {
      "cell_type": "markdown",
      "metadata": {
        "id": "l50tuflxYn2m"
      },
      "source": [
        "**[코드]**"
      ]
    },
    {
      "cell_type": "code",
      "metadata": {
        "id": "RSTya5jCIDV5"
      },
      "source": [
        "train_labels = np.array(train_labels)\n",
        "validation_labels = np.array(validation_labels)"
      ],
      "execution_count": 17,
      "outputs": []
    },
    {
      "cell_type": "code",
      "metadata": {
        "id": "b7OQdMbhJdCx",
        "colab": {
          "base_uri": "https://localhost:8080/"
        },
        "outputId": "d5d5e7a9-7005-4887-931d-3da02fcd86cc"
      },
      "source": [
        "train_labels.shape, validation_labels.shape"
      ],
      "execution_count": 18,
      "outputs": [
        {
          "output_type": "execute_result",
          "data": {
            "text/plain": [
              "((20000,), (6709,))"
            ]
          },
          "metadata": {},
          "execution_count": 18
        }
      ]
    },
    {
      "cell_type": "markdown",
      "metadata": {
        "id": "GqT-hof9CNT-"
      },
      "source": [
        "-------------------------------------------------------------\n"
      ]
    },
    {
      "cell_type": "markdown",
      "metadata": {
        "id": "ehNYMSChRpBw"
      },
      "source": [
        "## STEP 11. 모델 정의 (Sequential)"
      ]
    },
    {
      "cell_type": "code",
      "metadata": {
        "id": "iLHuZfQfDBtL"
      },
      "source": [
        "embedding_dim = 16"
      ],
      "execution_count": 19,
      "outputs": []
    },
    {
      "cell_type": "markdown",
      "metadata": {
        "id": "pO3SMgHcYojp"
      },
      "source": [
        "**[코드]**"
      ]
    },
    {
      "cell_type": "code",
      "metadata": {
        "id": "Jn8t4uehIDW-"
      },
      "source": [
        "model = Sequential([\n",
        "    # 이곳에 모델링을 진행합니다.\n",
        "    Embedding(vocab_size, embedding_dim, input_length=max_length),\n",
        "    Bidirectional(LSTM(64, return_sequences=True)),\n",
        "    Bidirectional(LSTM(64)),\n",
        "    Dense(32, activation='relu'),\n",
        "    Dense(16, activation='relu'),\n",
        "    # 마지막 출력층은 뉴런(노드)의 갯수를 1로 지정합니다.\n",
        "    Dense(1, activation='sigmoid')\n",
        "])"
      ],
      "execution_count": 20,
      "outputs": []
    },
    {
      "cell_type": "markdown",
      "metadata": {
        "id": "i6umKCF-D-U3"
      },
      "source": [
        "요약 확인"
      ]
    },
    {
      "cell_type": "code",
      "metadata": {
        "id": "JjmIBD7QD9FV",
        "colab": {
          "base_uri": "https://localhost:8080/"
        },
        "outputId": "b5b6bdae-fc24-40d2-8bcc-2f0c04b840b3"
      },
      "source": [
        "model.summary()"
      ],
      "execution_count": 21,
      "outputs": [
        {
          "output_type": "stream",
          "name": "stdout",
          "text": [
            "Model: \"sequential\"\n",
            "_________________________________________________________________\n",
            " Layer (type)                Output Shape              Param #   \n",
            "=================================================================\n",
            " embedding (Embedding)       (None, 120, 16)           16000     \n",
            "                                                                 \n",
            " bidirectional (Bidirectiona  (None, 120, 128)         41472     \n",
            " l)                                                              \n",
            "                                                                 \n",
            " bidirectional_1 (Bidirectio  (None, 128)              98816     \n",
            " nal)                                                            \n",
            "                                                                 \n",
            " dense (Dense)               (None, 32)                4128      \n",
            "                                                                 \n",
            " dense_1 (Dense)             (None, 16)                528       \n",
            "                                                                 \n",
            " dense_2 (Dense)             (None, 1)                 17        \n",
            "                                                                 \n",
            "=================================================================\n",
            "Total params: 160,961\n",
            "Trainable params: 160,961\n",
            "Non-trainable params: 0\n",
            "_________________________________________________________________\n"
          ]
        }
      ]
    },
    {
      "cell_type": "markdown",
      "metadata": {
        "id": "WCdAX_rXRpB0"
      },
      "source": [
        "## STEP 12. 컴파일 (compile)"
      ]
    },
    {
      "cell_type": "markdown",
      "metadata": {
        "id": "IpJgAudwRpB1"
      },
      "source": [
        "1. `optimizer`는 가장 최적화가 잘되는 알고리즘인 'adam'을 사용합니다.\n",
        "2. `loss`는 이진 분류이기 때문에 `binary_crossentropy`를 사용합니다."
      ]
    },
    {
      "cell_type": "markdown",
      "metadata": {
        "id": "aqpetD2HYpob"
      },
      "source": [
        "**[코드]**"
      ]
    },
    {
      "cell_type": "code",
      "metadata": {
        "id": "B2iupQVBRpB1"
      },
      "source": [
        "model.compile(# 이곳에 코드를 입력합니다.\n",
        "              optimizer='adam', loss='binary_crossentropy', metrics=['acc']\n",
        "              )"
      ],
      "execution_count": 22,
      "outputs": []
    },
    {
      "cell_type": "markdown",
      "metadata": {
        "id": "yJ0gsuoqSv7z"
      },
      "source": [
        "## STEP 13. ModelCheckpoint: 체크포인트 생성"
      ]
    },
    {
      "cell_type": "markdown",
      "metadata": {
        "id": "oXHmDZ2aSx4O"
      },
      "source": [
        "`val_loss` 기준으로 epoch 마다 최적의 모델을 저장하기 위하여, ModelCheckpoint를 만듭니다.\n",
        "* `checkpoint_path`는 모델이 저장될 파일 명을 설정합니다.\n",
        "* `ModelCheckpoint`을 선언하고, 적절한 옵션 값을 지정합니다."
      ]
    },
    {
      "cell_type": "markdown",
      "metadata": {
        "id": "7BoZ-t3GYqJ9"
      },
      "source": [
        "**[코드]**"
      ]
    },
    {
      "cell_type": "code",
      "metadata": {
        "id": "v_AvlY0cIDXX"
      },
      "source": [
        "checkpoint_path = 'shkim_checkpoint.ckpt'\n",
        "checkpoint = ModelCheckpoint(checkpoint_path,\n",
        "                             save_weights_only=True,\n",
        "                             save_best_only=True,\n",
        "                             monitor='val_loss',\n",
        "                             verbose=1)"
      ],
      "execution_count": 23,
      "outputs": []
    },
    {
      "cell_type": "markdown",
      "metadata": {
        "id": "oKy7ZkL6RpB4"
      },
      "source": [
        "## STEP 14. 학습 (fit)"
      ]
    },
    {
      "cell_type": "code",
      "metadata": {
        "id": "lBL_WTG3Er63"
      },
      "source": [
        "epochs=10"
      ],
      "execution_count": 24,
      "outputs": []
    },
    {
      "cell_type": "markdown",
      "metadata": {
        "id": "1x7hjOH9KmVT"
      },
      "source": [
        "**model.fit()**"
      ]
    },
    {
      "cell_type": "markdown",
      "metadata": {
        "id": "AjMhsXLmYrJP"
      },
      "source": [
        "**[코드]**"
      ]
    },
    {
      "cell_type": "code",
      "metadata": {
        "id": "byjJCmN_RpB4",
        "colab": {
          "base_uri": "https://localhost:8080/"
        },
        "outputId": "808c77df-bf82-4db3-c250-dc8de61eccd5"
      },
      "source": [
        "# 이곳에 코드를 입력합니다.\n",
        "history = model.fit(train_padded, train_labels,\n",
        "                    validation_data=(validation_padded, validation_labels),\n",
        "                    callbacks=[checkpoint],\n",
        "                    epochs=epochs)"
      ],
      "execution_count": 25,
      "outputs": [
        {
          "output_type": "stream",
          "name": "stdout",
          "text": [
            "Epoch 1/10\n",
            "624/625 [============================>.] - ETA: 0s - loss: 0.4635 - acc: 0.7702\n",
            "Epoch 1: val_loss improved from inf to 0.39028, saving model to shkim_checkpoint.ckpt\n",
            "625/625 [==============================] - 25s 25ms/step - loss: 0.4633 - acc: 0.7703 - val_loss: 0.3903 - val_acc: 0.8213\n",
            "Epoch 2/10\n",
            "623/625 [============================>.] - ETA: 0s - loss: 0.3579 - acc: 0.8370\n",
            "Epoch 2: val_loss improved from 0.39028 to 0.37729, saving model to shkim_checkpoint.ckpt\n",
            "625/625 [==============================] - 14s 22ms/step - loss: 0.3576 - acc: 0.8371 - val_loss: 0.3773 - val_acc: 0.8261\n",
            "Epoch 3/10\n",
            "624/625 [============================>.] - ETA: 0s - loss: 0.3303 - acc: 0.8535\n",
            "Epoch 3: val_loss improved from 0.37729 to 0.37708, saving model to shkim_checkpoint.ckpt\n",
            "625/625 [==============================] - 14s 22ms/step - loss: 0.3301 - acc: 0.8537 - val_loss: 0.3771 - val_acc: 0.8204\n",
            "Epoch 4/10\n",
            "625/625 [==============================] - ETA: 0s - loss: 0.3147 - acc: 0.8613\n",
            "Epoch 4: val_loss did not improve from 0.37708\n",
            "625/625 [==============================] - 15s 24ms/step - loss: 0.3147 - acc: 0.8613 - val_loss: 0.3789 - val_acc: 0.8320\n",
            "Epoch 5/10\n",
            "625/625 [==============================] - ETA: 0s - loss: 0.2993 - acc: 0.8690\n",
            "Epoch 5: val_loss did not improve from 0.37708\n",
            "625/625 [==============================] - 14s 22ms/step - loss: 0.2993 - acc: 0.8690 - val_loss: 0.3844 - val_acc: 0.8326\n",
            "Epoch 6/10\n",
            "623/625 [============================>.] - ETA: 0s - loss: 0.2875 - acc: 0.8761\n",
            "Epoch 6: val_loss did not improve from 0.37708\n",
            "625/625 [==============================] - 14s 22ms/step - loss: 0.2874 - acc: 0.8762 - val_loss: 0.4004 - val_acc: 0.8216\n",
            "Epoch 7/10\n",
            "624/625 [============================>.] - ETA: 0s - loss: 0.2773 - acc: 0.8798\n",
            "Epoch 7: val_loss did not improve from 0.37708\n",
            "625/625 [==============================] - 14s 22ms/step - loss: 0.2774 - acc: 0.8796 - val_loss: 0.3923 - val_acc: 0.8234\n",
            "Epoch 8/10\n",
            "624/625 [============================>.] - ETA: 0s - loss: 0.2675 - acc: 0.8860\n",
            "Epoch 8: val_loss did not improve from 0.37708\n",
            "625/625 [==============================] - 14s 22ms/step - loss: 0.2674 - acc: 0.8860 - val_loss: 0.4317 - val_acc: 0.8165\n",
            "Epoch 9/10\n",
            "625/625 [==============================] - ETA: 0s - loss: 0.2581 - acc: 0.8903\n",
            "Epoch 9: val_loss did not improve from 0.37708\n",
            "625/625 [==============================] - 14s 22ms/step - loss: 0.2581 - acc: 0.8903 - val_loss: 0.4122 - val_acc: 0.8222\n",
            "Epoch 10/10\n",
            "623/625 [============================>.] - ETA: 0s - loss: 0.2513 - acc: 0.8928\n",
            "Epoch 10: val_loss did not improve from 0.37708\n",
            "625/625 [==============================] - 14s 23ms/step - loss: 0.2516 - acc: 0.8927 - val_loss: 0.4079 - val_acc: 0.8235\n"
          ]
        }
      ]
    },
    {
      "cell_type": "markdown",
      "metadata": {
        "id": "shzhTOjAninH"
      },
      "source": [
        "## STEP 15. 학습 완료 후 Load Weights (ModelCheckpoint)"
      ]
    },
    {
      "cell_type": "markdown",
      "metadata": {
        "id": "kLqb_6XrMvdq"
      },
      "source": [
        "학습이 완료된 후에는 반드시 `load_weights`를 해주어야 합니다.\n",
        "\n",
        "그렇지 않으면, 열심히 ModelCheckpoint를 만든 의미가 없습니다."
      ]
    },
    {
      "cell_type": "markdown",
      "metadata": {
        "id": "DnsRNn43YsCW"
      },
      "source": [
        "**[코드]**"
      ]
    },
    {
      "cell_type": "code",
      "metadata": {
        "id": "4jO1ucZ9ninH",
        "colab": {
          "base_uri": "https://localhost:8080/"
        },
        "outputId": "0f18e187-6691-4e9e-f470-ed9d911958b1"
      },
      "source": [
        "# 이곳에 코드를 입력합니다.\n",
        "model.load_weights(checkpoint_path)"
      ],
      "execution_count": 26,
      "outputs": [
        {
          "output_type": "execute_result",
          "data": {
            "text/plain": [
              "<tensorflow.python.training.tracking.util.CheckpointLoadStatus at 0x7f0917f9ab50>"
            ]
          },
          "metadata": {},
          "execution_count": 26
        }
      ]
    }
  ]
}