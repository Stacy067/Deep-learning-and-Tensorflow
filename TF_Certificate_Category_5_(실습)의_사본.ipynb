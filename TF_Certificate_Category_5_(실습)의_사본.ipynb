{
  "nbformat": 4,
  "nbformat_minor": 0,
  "metadata": {
    "accelerator": "GPU",
    "colab": {
      "name": "TF Certificate Category 5 (실습)의 사본",
      "provenance": [],
      "collapsed_sections": [],
      "include_colab_link": true
    },
    "kernelspec": {
      "display_name": "Python 3",
      "language": "python",
      "name": "python3"
    },
    "language_info": {
      "codemirror_mode": {
        "name": "ipython",
        "version": 3
      },
      "file_extension": ".py",
      "mimetype": "text/x-python",
      "name": "python",
      "nbconvert_exporter": "python",
      "pygments_lexer": "ipython3",
      "version": "3.6.6"
    }
  },
  "cells": [
    {
      "cell_type": "markdown",
      "metadata": {
        "id": "view-in-github",
        "colab_type": "text"
      },
      "source": [
        "<a href=\"https://colab.research.google.com/github/Stacy067/Deep-learning-and-Tensorflow/blob/main/TF_Certificate_Category_5_(%EC%8B%A4%EC%8A%B5)%EC%9D%98_%EC%82%AC%EB%B3%B8.ipynb\" target=\"_parent\"><img src=\"https://colab.research.google.com/assets/colab-badge.svg\" alt=\"Open In Colab\"/></a>"
      ]
    },
    {
      "cell_type": "markdown",
      "metadata": {
        "id": "sCmtzkeGPI2Q"
      },
      "source": [
        "# Category 5\n",
        "\n",
        "Sequence (시계열) 데이터 다루기"
      ]
    },
    {
      "cell_type": "markdown",
      "metadata": {
        "id": "iRSKbgK8PRs5"
      },
      "source": [
        "## 확인"
      ]
    },
    {
      "cell_type": "markdown",
      "metadata": {
        "id": "Fc4QcKvRPSj-"
      },
      "source": [
        "1. GPU 옵션 켜져 있는지 확인할 것!!! (수정 - 노트설정 - 하드웨어설정 (GPU))"
      ]
    },
    {
      "cell_type": "markdown",
      "metadata": {
        "id": "JNPjnA62PXVn"
      },
      "source": [
        "## 순서"
      ]
    },
    {
      "cell_type": "markdown",
      "metadata": {
        "id": "T463L0aPPX_n"
      },
      "source": [
        "1. **import**: 필요한 모듈 import\n",
        "2. **전처리**: 학습에 필요한 데이터 전처리를 수행합니다.\n",
        "3. **모델링(model)**: 모델을 정의합니다.\n",
        "4. **컴파일(compile)**: 모델을 생성합니다.\n",
        "5. **학습 (fit)**: 모델을 학습시킵니다."
      ]
    },
    {
      "cell_type": "markdown",
      "metadata": {
        "id": "W1Hj9c1NPbPu"
      },
      "source": [
        "## 문제"
      ]
    },
    {
      "cell_type": "markdown",
      "metadata": {
        "id": "RcvEYUuhPb3f"
      },
      "source": [
        "For this task you will need to train a neural network\n",
        "to predict sunspot activity using the Sunspots.csv\n",
        "provided. \n",
        "\n",
        "Your neural network is expected to have an MAE\n",
        "of at least 20, with top marks going to one with an MAE\n",
        "of around 15. \n",
        "\n",
        "At the bottom is provided some testing\n",
        "code should you want to check before uploading which measures\n",
        "the MAE for you. \n",
        "\n",
        "Strongly recommend you test your model with\n",
        "this to be able to see how it performs.\n",
        "\n",
        "\n",
        "\n",
        "-------------------------------\n",
        "**Sequence(시퀀스)**\n",
        "\n",
        "Sunspots.csv를 사용하여 **태양 흑점 활동(sunspot)을 예측하는 인공신경망을 만듭니다.\n",
        "\n",
        "MAE 오차 기준으로 최소 20이하로 예측할 것을 권장하며, 탑 랭킹에 들려면 MAE 15 근처에 도달해야합니다.\n",
        "\n",
        "아래 주어진 샘플코드는 당신의 모델을 테스트 하는 용도로 활용할 수 있습니다."
      ]
    },
    {
      "cell_type": "markdown",
      "metadata": {
        "id": "7C3ewm9XQHgr"
      },
      "source": [
        "-----------------------------------\n"
      ]
    },
    {
      "cell_type": "markdown",
      "metadata": {
        "id": "NTUdLmS7TE40"
      },
      "source": [
        "## STEP 1. 필요한 모듈 import"
      ]
    },
    {
      "cell_type": "markdown",
      "metadata": {
        "id": "ZumKsp4hX8VV"
      },
      "source": [
        "**[코드]**"
      ]
    },
    {
      "cell_type": "code",
      "metadata": {
        "id": "uqt0NBn4MZl5"
      },
      "source": [
        "import csv\n",
        "import tensorflow as tf\n",
        "import numpy as np\n",
        "import urllib\n",
        "\n",
        "# 이곳에 코드를 입력해 주세요\n",
        "from tensorflow.keras.layers import Dense, LSTM, Lambda, Conv1D\n",
        "from tensorflow.keras.models import Sequential\n",
        "from tensorflow.keras.callbacks import ModelCheckpoint\n",
        "from tensorflow.keras.optimizers import SGD\n",
        "from tensorflow.keras.losses import Huber"
      ],
      "execution_count": 4,
      "outputs": []
    },
    {
      "cell_type": "markdown",
      "metadata": {
        "id": "nMOJkkUNWiSZ"
      },
      "source": [
        "## STEP 2. 데이터셋 다운로드"
      ]
    },
    {
      "cell_type": "markdown",
      "metadata": {
        "id": "t3owKSgiWeRx"
      },
      "source": [
        "서버로부터 샘플 데이터셋을 다운로드 받습니다."
      ]
    },
    {
      "cell_type": "code",
      "metadata": {
        "id": "ixYVm16KMZl7",
        "colab": {
          "base_uri": "https://localhost:8080/"
        },
        "outputId": "a440d986-b530-42d3-b0ee-30e02de4a26b"
      },
      "source": [
        "url = 'https://storage.googleapis.com/download.tensorflow.org/data/Sunspots.csv'\n",
        "urllib.request.urlretrieve(url, 'sunspots.csv')"
      ],
      "execution_count": 5,
      "outputs": [
        {
          "output_type": "execute_result",
          "data": {
            "text/plain": [
              "('sunspots.csv', <http.client.HTTPMessage at 0x7f1746eafad0>)"
            ]
          },
          "metadata": {},
          "execution_count": 5
        }
      ]
    },
    {
      "cell_type": "markdown",
      "metadata": {
        "id": "3LPl4l2AMZl9"
      },
      "source": [
        "## STEP 3. 다운로드 받은 csv 파일로부터 데이터셋 만들기"
      ]
    },
    {
      "cell_type": "markdown",
      "metadata": {
        "id": "cpW4dyWaMZl-"
      },
      "source": [
        "csv.reader() 함수를 활용합니다.\n",
        "\n",
        "* 첫번째 파라미터에는 file을 , delimiter에는 구분자를 넣어 줍니다."
      ]
    },
    {
      "cell_type": "markdown",
      "metadata": {
        "id": "MxeMEobmNUdo"
      },
      "source": [
        "빈 list를 만들어 줍니다. (sunspots, time_step)"
      ]
    },
    {
      "cell_type": "markdown",
      "metadata": {
        "id": "01AFxQFlX7VE"
      },
      "source": [
        "**[코드]**"
      ]
    },
    {
      "cell_type": "code",
      "metadata": {
        "id": "dar7eoERNZvF"
      },
      "source": [
        "sunspots = []\n",
        "time_step = []"
      ],
      "execution_count": 6,
      "outputs": []
    },
    {
      "cell_type": "markdown",
      "metadata": {
        "id": "neOkzKg4MZmC"
      },
      "source": [
        "`time_step`에는 **index** 값을, `sunspots`에는 sunspots의 정보를 넣어 줍니다."
      ]
    },
    {
      "cell_type": "markdown",
      "metadata": {
        "id": "rTj7ZqaMX6jl"
      },
      "source": [
        "**[코드]**"
      ]
    },
    {
      "cell_type": "code",
      "metadata": {
        "id": "J0o2dSwVMZmC"
      },
      "source": [
        "# 이곳에 코드를 입력해 주세요\n",
        "with open('sunspots.csv') as csvfile:\n",
        "    reader = csv.reader(csvfile, delimiter=',')\n",
        "    next(reader)\n",
        "    for row in reader:\n",
        "        sunspots.append(float(row[2]))\n",
        "        time_step.append(int(row[0]))"
      ],
      "execution_count": 8,
      "outputs": []
    },
    {
      "cell_type": "markdown",
      "metadata": {
        "id": "BKgsyCLRTNgS"
      },
      "source": [
        "sunspots, time_step 확인"
      ]
    },
    {
      "cell_type": "code",
      "metadata": {
        "id": "eECxANX-TKaj",
        "colab": {
          "base_uri": "https://localhost:8080/"
        },
        "outputId": "8e77e59c-ceab-40ff-b320-0fdedc42baea"
      },
      "source": [
        "sunspots[:5]"
      ],
      "execution_count": 9,
      "outputs": [
        {
          "output_type": "execute_result",
          "data": {
            "text/plain": [
              "[96.7, 104.3, 116.7, 92.8, 141.7]"
            ]
          },
          "metadata": {},
          "execution_count": 9
        }
      ]
    },
    {
      "cell_type": "code",
      "metadata": {
        "id": "npwlA3tSTLgF",
        "colab": {
          "base_uri": "https://localhost:8080/"
        },
        "outputId": "7e0051de-2b60-4e39-942a-6643129e4e9e"
      },
      "source": [
        "time_step[:5]"
      ],
      "execution_count": 10,
      "outputs": [
        {
          "output_type": "execute_result",
          "data": {
            "text/plain": [
              "[0, 1, 2, 3, 4]"
            ]
          },
          "metadata": {},
          "execution_count": 10
        }
      ]
    },
    {
      "cell_type": "markdown",
      "metadata": {
        "id": "6UKs4AbeNfqu"
      },
      "source": [
        "sunspots와 time_step을 `numpy array`로 변환합니다.\n",
        "\n",
        "* 참고: 모델은 list 타입을 받아들이지 못합니다. 따라서, numpy array 로 변환해 줍니다."
      ]
    },
    {
      "cell_type": "markdown",
      "metadata": {
        "id": "Od_JvHfFXvVR"
      },
      "source": [
        "**[코드]**"
      ]
    },
    {
      "cell_type": "code",
      "metadata": {
        "id": "e8MrSCu3MZmE"
      },
      "source": [
        "series = np.array(sunspots)\n",
        "time = np.array(time_step)"
      ],
      "execution_count": 12,
      "outputs": []
    },
    {
      "cell_type": "markdown",
      "metadata": {
        "id": "diyqhWVmXxLR"
      },
      "source": [
        "잘 분할되었는지 shape를 확인합니다."
      ]
    },
    {
      "cell_type": "code",
      "metadata": {
        "id": "fky6hg0yTkDk",
        "colab": {
          "base_uri": "https://localhost:8080/"
        },
        "outputId": "5be65800-8c45-4fe8-c042-baa5f2e5bf81"
      },
      "source": [
        "series.shape, time.shape"
      ],
      "execution_count": 13,
      "outputs": [
        {
          "output_type": "execute_result",
          "data": {
            "text/plain": [
              "((3235,), (3235,))"
            ]
          },
          "metadata": {},
          "execution_count": 13
        }
      ]
    },
    {
      "cell_type": "markdown",
      "metadata": {
        "id": "H-YdTCYeMZmc"
      },
      "source": [
        "## STEP 4. Train Set, Validation Set 생성"
      ]
    },
    {
      "cell_type": "markdown",
      "metadata": {
        "id": "WRfGcPJET7Dq"
      },
      "source": [
        "3000 인덱스를 기준으로 Train / Validation Set를 분할 합니다."
      ]
    },
    {
      "cell_type": "code",
      "metadata": {
        "id": "P9TsEUONT6nF"
      },
      "source": [
        "split_time = 3000"
      ],
      "execution_count": 14,
      "outputs": []
    },
    {
      "cell_type": "markdown",
      "metadata": {
        "id": "ATa1fslAX-Ir"
      },
      "source": [
        "**[코드]**"
      ]
    },
    {
      "cell_type": "code",
      "metadata": {
        "id": "1QXuDIkTMZmd"
      },
      "source": [
        "time_train = time[:split_time]\n",
        "time_valid = time[split_time:]\n",
        "\n",
        "x_train = series[:split_time]\n",
        "x_valid = series[split_time:]"
      ],
      "execution_count": 15,
      "outputs": []
    },
    {
      "cell_type": "markdown",
      "metadata": {
        "id": "amk_ksmDMZmb"
      },
      "source": [
        "## STEP 5. Window Dataset Loader 생성"
      ]
    },
    {
      "cell_type": "markdown",
      "metadata": {
        "id": "u9VGhKTIMZmQ"
      },
      "source": [
        "자세한 Dataset 활용법은 [블로그 링크](https://teddylee777.github.io/tensorflow/dataset-batch-window)를 참고해 보시고, 연습해보세요!"
      ]
    },
    {
      "cell_type": "code",
      "metadata": {
        "id": "k161f1YQMZmR"
      },
      "source": [
        "# 윈도우 사이즈\n",
        "window_size=30\n",
        "# 배치 사이즈\n",
        "batch_size = 32\n",
        "# 셔플 사이즈\n",
        "shuffle_size = 1000"
      ],
      "execution_count": 16,
      "outputs": []
    },
    {
      "cell_type": "code",
      "metadata": {
        "id": "TfyNoztDMZmb"
      },
      "source": [
        "def windowed_dataset(series, window_size, batch_size, shuffle_buffer):\n",
        "    series = tf.expand_dims(series, axis=-1)\n",
        "    ds = tf.data.Dataset.from_tensor_slices(series)\n",
        "    ds = ds.window(window_size + 1, shift=1, drop_remainder=True)\n",
        "    ds = ds.flat_map(lambda w: w.batch(window_size + 1))\n",
        "    ds = ds.shuffle(shuffle_buffer)\n",
        "    ds = ds.map(lambda w: (w[:-1], w[1:]))\n",
        "    return ds.batch(batch_size).prefetch(1)"
      ],
      "execution_count": 17,
      "outputs": []
    },
    {
      "cell_type": "markdown",
      "metadata": {
        "id": "cPxvjABJWDro"
      },
      "source": [
        "`train_set`와 `validation_set` 각각에 대한 **windowed_dataset**을 만듭니다."
      ]
    },
    {
      "cell_type": "markdown",
      "metadata": {
        "id": "h7hS7TQZYETE"
      },
      "source": [
        "**[코드]**"
      ]
    },
    {
      "cell_type": "code",
      "metadata": {
        "id": "1mLFgMMBMZmg"
      },
      "source": [
        "train_set = windowed_dataset(x_train,\n",
        "                             window_size=window_size,\n",
        "                             batch_size=batch_size,\n",
        "                             shuffle_buffer=shuffle_size)\n",
        "\n",
        "\n",
        "validation_set = windowed_dataset(x_valid,\n",
        "                                  window_size=window_size,\n",
        "                                  batch_size=batch_size,\n",
        "                                  shuffle_buffer=shuffle_size)"
      ],
      "execution_count": 18,
      "outputs": []
    },
    {
      "cell_type": "markdown",
      "metadata": {
        "id": "Y2k1dYQcMZmj"
      },
      "source": [
        "## STEP 6. 모델 정의 (Sequential)"
      ]
    },
    {
      "cell_type": "markdown",
      "metadata": {
        "id": "FUw8lglEYFqW"
      },
      "source": [
        "**[코드]**"
      ]
    },
    {
      "cell_type": "code",
      "metadata": {
        "id": "nLJ21qRtMZmp"
      },
      "source": [
        "model = Sequential([\n",
        "    tf.keras.layers.Conv1D(60, kernel_size=5,\n",
        "                           padding=\"causal\",\n",
        "                           activation=\"relu\",\n",
        "                           input_shape=[None, 1]),\n",
        "    tf.keras.layers.LSTM(60, return_sequences=True),\n",
        "    tf.keras.layers.LSTM(60, return_sequences=True),\n",
        "    tf.keras.layers.Dense(30, activation='relu'),\n",
        "    tf.keras.layers.Dense(10, activation='relu'),\n",
        "    tf.keras.layers.Dense(1),\n",
        "    tf.keras.layers.Lambda(lambda x: x * 400)\n",
        "])"
      ],
      "execution_count": 19,
      "outputs": []
    },
    {
      "cell_type": "markdown",
      "metadata": {
        "id": "E1bif1TuUl1m"
      },
      "source": [
        "모델의 구조 요약을 확인합니다."
      ]
    },
    {
      "cell_type": "code",
      "metadata": {
        "id": "VgET749LMZmt",
        "colab": {
          "base_uri": "https://localhost:8080/"
        },
        "outputId": "5348b623-ed1a-4866-bc19-bf17cc01e3ca"
      },
      "source": [
        "model.summary()"
      ],
      "execution_count": 20,
      "outputs": [
        {
          "output_type": "stream",
          "name": "stdout",
          "text": [
            "Model: \"sequential\"\n",
            "_________________________________________________________________\n",
            " Layer (type)                Output Shape              Param #   \n",
            "=================================================================\n",
            " conv1d (Conv1D)             (None, None, 60)          360       \n",
            "                                                                 \n",
            " lstm (LSTM)                 (None, None, 60)          29040     \n",
            "                                                                 \n",
            " lstm_1 (LSTM)               (None, None, 60)          29040     \n",
            "                                                                 \n",
            " dense (Dense)               (None, None, 30)          1830      \n",
            "                                                                 \n",
            " dense_1 (Dense)             (None, None, 10)          310       \n",
            "                                                                 \n",
            " dense_2 (Dense)             (None, None, 1)           11        \n",
            "                                                                 \n",
            " lambda (Lambda)             (None, None, 1)           0         \n",
            "                                                                 \n",
            "=================================================================\n",
            "Total params: 60,591\n",
            "Trainable params: 60,591\n",
            "Non-trainable params: 0\n",
            "_________________________________________________________________\n"
          ]
        }
      ]
    },
    {
      "cell_type": "markdown",
      "metadata": {
        "id": "FXKGQ3rmMZmv"
      },
      "source": [
        "## STEP 7. 컴파일 (compile)"
      ]
    },
    {
      "cell_type": "markdown",
      "metadata": {
        "id": "jZ1ETr6mUuqB"
      },
      "source": [
        "**Optimizer**는 SGD(Stochastic Gradient Descent) 를 사용합니다.\n",
        "\n",
        "* lr(learning_rate): 학습률입니다.\n",
        "* momentum: 모멘텀 (가중치) 입니다."
      ]
    },
    {
      "cell_type": "markdown",
      "metadata": {
        "id": "Dp7PwAS5YJjl"
      },
      "source": [
        "**[코드]**"
      ]
    },
    {
      "cell_type": "code",
      "metadata": {
        "id": "EjBesK-SMZmv"
      },
      "source": [
        "optimizer = SGD(learning_rate=1e-5, momentum=0.9)"
      ],
      "execution_count": 21,
      "outputs": []
    },
    {
      "cell_type": "markdown",
      "metadata": {
        "id": "xYmPEGtZMZmx"
      },
      "source": [
        "**Huber Loss**: MSE와 MAE를 절충한 후버 손실(Huber loss)"
      ]
    },
    {
      "cell_type": "markdown",
      "metadata": {
        "id": "2eVR4UNKMZmx"
      },
      "source": [
        "\\begin{split}L_{\\delta}=\\left\\{\\begin{matrix}\n",
        "\\frac{1}{2}(y - \\hat{y})^{2} & if \\left | (y - \\hat{y})  \\right | < \\delta\\\\\n",
        "\\delta ((y - \\hat{y}) - \\frac1 2 \\delta) & otherwise\n",
        "\\end{matrix}\\right.\\end{split}"
      ]
    },
    {
      "cell_type": "markdown",
      "metadata": {
        "id": "J3fYk8hcYMeP"
      },
      "source": [
        "**[코드]**"
      ]
    },
    {
      "cell_type": "code",
      "metadata": {
        "id": "WqIDvyQZMZmy"
      },
      "source": [
        "loss = Huber()"
      ],
      "execution_count": 22,
      "outputs": []
    },
    {
      "cell_type": "markdown",
      "metadata": {
        "id": "ICeNa8kQVDxz"
      },
      "source": [
        "model.compile()시 우리가 튜닝한 **optimizer**와 **loss**를 활용합니다."
      ]
    },
    {
      "cell_type": "markdown",
      "metadata": {
        "id": "2Ez4GgalYOme"
      },
      "source": [
        "**[코드]**"
      ]
    },
    {
      "cell_type": "code",
      "metadata": {
        "id": "7NrbT-cAMZm2"
      },
      "source": [
        "model.compile(loss=loss,\n",
        "              optimizer=optimizer,\n",
        "              metrics=['mae'])"
      ],
      "execution_count": 23,
      "outputs": []
    },
    {
      "cell_type": "markdown",
      "metadata": {
        "id": "yJ0gsuoqSv7z"
      },
      "source": [
        "## STEP 8. ModelCheckpoint: 체크포인트 생성"
      ]
    },
    {
      "cell_type": "markdown",
      "metadata": {
        "id": "oXHmDZ2aSx4O"
      },
      "source": [
        "`val_loss` 기준으로 epoch 마다 최적의 모델을 저장하기 위하여, ModelCheckpoint를 만듭니다.\n",
        "* `checkpoint_path`는 모델이 저장될 파일 명을 설정합니다.\n",
        "* `ModelCheckpoint`을 선언하고, 적절한 옵션 값을 지정합니다."
      ]
    },
    {
      "cell_type": "markdown",
      "metadata": {
        "id": "r_QBteUSYRoC"
      },
      "source": [
        "**[코드]**"
      ]
    },
    {
      "cell_type": "code",
      "metadata": {
        "id": "O1JJZyg0MZm5"
      },
      "source": [
        "checkpoint_path = \"tmp_checkpoint.ckpt\"\n",
        "checkpoint = ModelCheckpoint(checkpoint_path,\n",
        "                             save_weights_only=True,\n",
        "                             monitor='val_mae',\n",
        "                             verbose=1)"
      ],
      "execution_count": 24,
      "outputs": []
    },
    {
      "cell_type": "markdown",
      "metadata": {
        "id": "1leCk2zKMZm7"
      },
      "source": [
        "## STEP 9. 학습 (fit)"
      ]
    },
    {
      "cell_type": "code",
      "metadata": {
        "id": "frdpb5SEMZm7"
      },
      "source": [
        "epochs=100"
      ],
      "execution_count": 25,
      "outputs": []
    },
    {
      "cell_type": "markdown",
      "metadata": {
        "id": "6UYd6MVhYSkc"
      },
      "source": [
        "**[코드]**"
      ]
    },
    {
      "cell_type": "code",
      "metadata": {
        "id": "lrDA4DzbMZm8",
        "colab": {
          "base_uri": "https://localhost:8080/"
        },
        "outputId": "c243046a-9e25-4232-a9dd-459467c902dc"
      },
      "source": [
        "model.fit(train_set,\n",
        "          validation_data=(validation_set),\n",
        "          epochs=epochs,\n",
        "          callbacks=[checkpoint],\n",
        "          )"
      ],
      "execution_count": 26,
      "outputs": [
        {
          "output_type": "stream",
          "name": "stdout",
          "text": [
            "Epoch 1/100\n",
            "     93/Unknown - 19s 13ms/step - loss: 26.5750 - mae: 27.0696\n",
            "Epoch 1: saving model to tmp_checkpoint.ckpt\n",
            "93/93 [==============================] - 20s 26ms/step - loss: 26.5750 - mae: 27.0696 - val_loss: 17.7742 - val_mae: 18.2666\n",
            "Epoch 2/100\n",
            "91/93 [============================>.] - ETA: 0s - loss: 20.7550 - mae: 21.2486\n",
            "Epoch 2: saving model to tmp_checkpoint.ckpt\n",
            "93/93 [==============================] - 1s 14ms/step - loss: 20.7882 - mae: 21.2818 - val_loss: 15.1845 - val_mae: 15.6768\n",
            "Epoch 3/100\n",
            "92/93 [============================>.] - ETA: 0s - loss: 20.0346 - mae: 20.5282\n",
            "Epoch 3: saving model to tmp_checkpoint.ckpt\n",
            "93/93 [==============================] - 1s 14ms/step - loss: 20.0324 - mae: 20.5260 - val_loss: 15.0039 - val_mae: 15.4943\n",
            "Epoch 4/100\n",
            "88/93 [===========================>..] - ETA: 0s - loss: 19.2303 - mae: 19.7231\n",
            "Epoch 4: saving model to tmp_checkpoint.ckpt\n",
            "93/93 [==============================] - 1s 12ms/step - loss: 19.2932 - mae: 19.7859 - val_loss: 15.9863 - val_mae: 16.4777\n",
            "Epoch 5/100\n",
            "88/93 [===========================>..] - ETA: 0s - loss: 18.9224 - mae: 19.4151\n",
            "Epoch 5: saving model to tmp_checkpoint.ckpt\n",
            "93/93 [==============================] - 1s 13ms/step - loss: 18.8960 - mae: 19.3887 - val_loss: 14.3005 - val_mae: 14.7886\n",
            "Epoch 6/100\n",
            "91/93 [============================>.] - ETA: 0s - loss: 18.0890 - mae: 18.5811\n",
            "Epoch 6: saving model to tmp_checkpoint.ckpt\n",
            "93/93 [==============================] - 1s 14ms/step - loss: 18.1268 - mae: 18.6189 - val_loss: 14.5919 - val_mae: 15.0836\n",
            "Epoch 7/100\n",
            "92/93 [============================>.] - ETA: 0s - loss: 18.2987 - mae: 18.7907\n",
            "Epoch 7: saving model to tmp_checkpoint.ckpt\n",
            "93/93 [==============================] - 1s 14ms/step - loss: 18.2973 - mae: 18.7893 - val_loss: 14.4438 - val_mae: 14.9329\n",
            "Epoch 8/100\n",
            "90/93 [============================>.] - ETA: 0s - loss: 18.2550 - mae: 18.7469\n",
            "Epoch 8: saving model to tmp_checkpoint.ckpt\n",
            "93/93 [==============================] - 2s 18ms/step - loss: 18.2791 - mae: 18.7710 - val_loss: 14.9578 - val_mae: 15.4499\n",
            "Epoch 9/100\n",
            "91/93 [============================>.] - ETA: 0s - loss: 17.7345 - mae: 18.2261\n",
            "Epoch 9: saving model to tmp_checkpoint.ckpt\n",
            "93/93 [==============================] - 2s 16ms/step - loss: 17.7425 - mae: 18.2340 - val_loss: 13.7996 - val_mae: 14.2865\n",
            "Epoch 10/100\n",
            "91/93 [============================>.] - ETA: 0s - loss: 17.7892 - mae: 18.2808\n",
            "Epoch 10: saving model to tmp_checkpoint.ckpt\n",
            "93/93 [==============================] - 2s 15ms/step - loss: 17.7972 - mae: 18.2887 - val_loss: 13.8660 - val_mae: 14.3557\n",
            "Epoch 11/100\n",
            "90/93 [============================>.] - ETA: 0s - loss: 17.8141 - mae: 18.3056\n",
            "Epoch 11: saving model to tmp_checkpoint.ckpt\n",
            "93/93 [==============================] - 1s 12ms/step - loss: 17.8066 - mae: 18.2980 - val_loss: 13.8361 - val_mae: 14.3250\n",
            "Epoch 12/100\n",
            "91/93 [============================>.] - ETA: 0s - loss: 17.4805 - mae: 17.9718\n",
            "Epoch 12: saving model to tmp_checkpoint.ckpt\n",
            "93/93 [==============================] - 1s 11ms/step - loss: 17.4937 - mae: 17.9850 - val_loss: 13.6647 - val_mae: 14.1550\n",
            "Epoch 13/100\n",
            "89/93 [===========================>..] - ETA: 0s - loss: 17.4240 - mae: 17.9150\n",
            "Epoch 13: saving model to tmp_checkpoint.ckpt\n",
            "93/93 [==============================] - 1s 11ms/step - loss: 17.4429 - mae: 17.9340 - val_loss: 13.9085 - val_mae: 14.3976\n",
            "Epoch 14/100\n",
            "91/93 [============================>.] - ETA: 0s - loss: 17.8303 - mae: 18.3216\n",
            "Epoch 14: saving model to tmp_checkpoint.ckpt\n",
            "93/93 [==============================] - 1s 11ms/step - loss: 17.8894 - mae: 18.3808 - val_loss: 14.9715 - val_mae: 15.4618\n",
            "Epoch 15/100\n",
            "91/93 [============================>.] - ETA: 0s - loss: 17.7916 - mae: 18.2833\n",
            "Epoch 15: saving model to tmp_checkpoint.ckpt\n",
            "93/93 [==============================] - 1s 11ms/step - loss: 17.8213 - mae: 18.3130 - val_loss: 13.4491 - val_mae: 13.9396\n",
            "Epoch 16/100\n",
            "89/93 [===========================>..] - ETA: 0s - loss: 17.3060 - mae: 17.7970\n",
            "Epoch 16: saving model to tmp_checkpoint.ckpt\n",
            "93/93 [==============================] - 1s 11ms/step - loss: 17.3103 - mae: 17.8012 - val_loss: 13.7995 - val_mae: 14.2887\n",
            "Epoch 17/100\n",
            "92/93 [============================>.] - ETA: 0s - loss: 17.6048 - mae: 18.0962\n",
            "Epoch 17: saving model to tmp_checkpoint.ckpt\n",
            "93/93 [==============================] - 1s 14ms/step - loss: 17.6133 - mae: 18.1048 - val_loss: 13.8975 - val_mae: 14.3842\n",
            "Epoch 18/100\n",
            "92/93 [============================>.] - ETA: 0s - loss: 17.4572 - mae: 17.9481\n",
            "Epoch 18: saving model to tmp_checkpoint.ckpt\n",
            "93/93 [==============================] - 1s 12ms/step - loss: 17.4581 - mae: 17.9490 - val_loss: 13.3546 - val_mae: 13.8432\n",
            "Epoch 19/100\n",
            "93/93 [==============================] - ETA: 0s - loss: 17.3600 - mae: 17.8512\n",
            "Epoch 19: saving model to tmp_checkpoint.ckpt\n",
            "93/93 [==============================] - 1s 11ms/step - loss: 17.3600 - mae: 17.8512 - val_loss: 14.5245 - val_mae: 15.0150\n",
            "Epoch 20/100\n",
            "88/93 [===========================>..] - ETA: 0s - loss: 17.5575 - mae: 18.0492\n",
            "Epoch 20: saving model to tmp_checkpoint.ckpt\n",
            "93/93 [==============================] - 1s 11ms/step - loss: 17.5863 - mae: 18.0780 - val_loss: 13.9218 - val_mae: 14.4116\n",
            "Epoch 21/100\n",
            "90/93 [============================>.] - ETA: 0s - loss: 17.3280 - mae: 17.8187\n",
            "Epoch 21: saving model to tmp_checkpoint.ckpt\n",
            "93/93 [==============================] - 1s 11ms/step - loss: 17.4040 - mae: 17.8948 - val_loss: 13.5098 - val_mae: 13.9962\n",
            "Epoch 22/100\n",
            "91/93 [============================>.] - ETA: 0s - loss: 17.4316 - mae: 17.9227\n",
            "Epoch 22: saving model to tmp_checkpoint.ckpt\n",
            "93/93 [==============================] - 1s 11ms/step - loss: 17.4116 - mae: 17.9027 - val_loss: 13.5527 - val_mae: 14.0413\n",
            "Epoch 23/100\n",
            "88/93 [===========================>..] - ETA: 0s - loss: 17.4065 - mae: 17.8978\n",
            "Epoch 23: saving model to tmp_checkpoint.ckpt\n",
            "93/93 [==============================] - 1s 11ms/step - loss: 17.3758 - mae: 17.8671 - val_loss: 13.7786 - val_mae: 14.2661\n",
            "Epoch 24/100\n",
            "93/93 [==============================] - ETA: 0s - loss: 17.1510 - mae: 17.6415\n",
            "Epoch 24: saving model to tmp_checkpoint.ckpt\n",
            "93/93 [==============================] - 1s 11ms/step - loss: 17.1510 - mae: 17.6415 - val_loss: 13.3987 - val_mae: 13.8871\n",
            "Epoch 25/100\n",
            "93/93 [==============================] - ETA: 0s - loss: 17.5604 - mae: 18.0520\n",
            "Epoch 25: saving model to tmp_checkpoint.ckpt\n",
            "93/93 [==============================] - 1s 11ms/step - loss: 17.5604 - mae: 18.0520 - val_loss: 13.6488 - val_mae: 14.1403\n",
            "Epoch 26/100\n",
            "90/93 [============================>.] - ETA: 0s - loss: 17.1101 - mae: 17.6007\n",
            "Epoch 26: saving model to tmp_checkpoint.ckpt\n",
            "93/93 [==============================] - 1s 11ms/step - loss: 17.0855 - mae: 17.5761 - val_loss: 13.3238 - val_mae: 13.8147\n",
            "Epoch 27/100\n",
            "93/93 [==============================] - ETA: 0s - loss: 17.1991 - mae: 17.6900\n",
            "Epoch 27: saving model to tmp_checkpoint.ckpt\n",
            "93/93 [==============================] - 1s 11ms/step - loss: 17.1991 - mae: 17.6900 - val_loss: 13.5835 - val_mae: 14.0714\n",
            "Epoch 28/100\n",
            "92/93 [============================>.] - ETA: 0s - loss: 17.3392 - mae: 17.8303\n",
            "Epoch 28: saving model to tmp_checkpoint.ckpt\n",
            "93/93 [==============================] - 1s 11ms/step - loss: 17.3409 - mae: 17.8320 - val_loss: 14.1466 - val_mae: 14.6347\n",
            "Epoch 29/100\n",
            "87/93 [===========================>..] - ETA: 0s - loss: 17.2551 - mae: 17.7462\n",
            "Epoch 29: saving model to tmp_checkpoint.ckpt\n",
            "93/93 [==============================] - 1s 11ms/step - loss: 17.2939 - mae: 17.7850 - val_loss: 13.5127 - val_mae: 14.0019\n",
            "Epoch 30/100\n",
            "92/93 [============================>.] - ETA: 0s - loss: 17.1554 - mae: 17.6465\n",
            "Epoch 30: saving model to tmp_checkpoint.ckpt\n",
            "93/93 [==============================] - 1s 11ms/step - loss: 17.1843 - mae: 17.6754 - val_loss: 13.4641 - val_mae: 13.9545\n",
            "Epoch 31/100\n",
            "89/93 [===========================>..] - ETA: 0s - loss: 17.0581 - mae: 17.5487\n",
            "Epoch 31: saving model to tmp_checkpoint.ckpt\n",
            "93/93 [==============================] - 1s 11ms/step - loss: 17.0938 - mae: 17.5844 - val_loss: 13.4680 - val_mae: 13.9587\n",
            "Epoch 32/100\n",
            "89/93 [===========================>..] - ETA: 0s - loss: 17.1585 - mae: 17.6494\n",
            "Epoch 32: saving model to tmp_checkpoint.ckpt\n",
            "93/93 [==============================] - 1s 11ms/step - loss: 17.1447 - mae: 17.6356 - val_loss: 13.4595 - val_mae: 13.9487\n",
            "Epoch 33/100\n",
            "91/93 [============================>.] - ETA: 0s - loss: 17.1161 - mae: 17.6065\n",
            "Epoch 33: saving model to tmp_checkpoint.ckpt\n",
            "93/93 [==============================] - 1s 11ms/step - loss: 17.1192 - mae: 17.6096 - val_loss: 13.3496 - val_mae: 13.8391\n",
            "Epoch 34/100\n",
            "91/93 [============================>.] - ETA: 0s - loss: 17.0303 - mae: 17.5207\n",
            "Epoch 34: saving model to tmp_checkpoint.ckpt\n",
            "93/93 [==============================] - 1s 11ms/step - loss: 17.0279 - mae: 17.5183 - val_loss: 13.4619 - val_mae: 13.9534\n",
            "Epoch 35/100\n",
            "90/93 [============================>.] - ETA: 0s - loss: 16.9878 - mae: 17.4783\n",
            "Epoch 35: saving model to tmp_checkpoint.ckpt\n",
            "93/93 [==============================] - 1s 11ms/step - loss: 16.9869 - mae: 17.4774 - val_loss: 13.3841 - val_mae: 13.8733\n",
            "Epoch 36/100\n",
            "93/93 [==============================] - ETA: 0s - loss: 17.0652 - mae: 17.5554\n",
            "Epoch 36: saving model to tmp_checkpoint.ckpt\n",
            "93/93 [==============================] - 1s 11ms/step - loss: 17.0652 - mae: 17.5554 - val_loss: 13.8428 - val_mae: 14.3329\n",
            "Epoch 37/100\n",
            "91/93 [============================>.] - ETA: 0s - loss: 17.2186 - mae: 17.7098\n",
            "Epoch 37: saving model to tmp_checkpoint.ckpt\n",
            "93/93 [==============================] - 1s 11ms/step - loss: 17.2216 - mae: 17.7128 - val_loss: 13.2138 - val_mae: 13.7040\n",
            "Epoch 38/100\n",
            "93/93 [==============================] - ETA: 0s - loss: 17.0499 - mae: 17.5406\n",
            "Epoch 38: saving model to tmp_checkpoint.ckpt\n",
            "93/93 [==============================] - 1s 11ms/step - loss: 17.0499 - mae: 17.5406 - val_loss: 13.4146 - val_mae: 13.9049\n",
            "Epoch 39/100\n",
            "91/93 [============================>.] - ETA: 0s - loss: 17.6392 - mae: 18.1300\n",
            "Epoch 39: saving model to tmp_checkpoint.ckpt\n",
            "93/93 [==============================] - 1s 11ms/step - loss: 17.6581 - mae: 18.1489 - val_loss: 13.2934 - val_mae: 13.7833\n",
            "Epoch 40/100\n",
            "87/93 [===========================>..] - ETA: 0s - loss: 16.9953 - mae: 17.4862\n",
            "Epoch 40: saving model to tmp_checkpoint.ckpt\n",
            "93/93 [==============================] - 1s 12ms/step - loss: 17.0023 - mae: 17.4932 - val_loss: 13.3017 - val_mae: 13.7913\n",
            "Epoch 41/100\n",
            "91/93 [============================>.] - ETA: 0s - loss: 17.1919 - mae: 17.6825\n",
            "Epoch 41: saving model to tmp_checkpoint.ckpt\n",
            "93/93 [==============================] - 1s 11ms/step - loss: 17.2083 - mae: 17.6990 - val_loss: 13.3884 - val_mae: 13.8753\n",
            "Epoch 42/100\n",
            "93/93 [==============================] - ETA: 0s - loss: 17.2887 - mae: 17.7797\n",
            "Epoch 42: saving model to tmp_checkpoint.ckpt\n",
            "93/93 [==============================] - 1s 11ms/step - loss: 17.2887 - mae: 17.7797 - val_loss: 13.2303 - val_mae: 13.7184\n",
            "Epoch 43/100\n",
            "88/93 [===========================>..] - ETA: 0s - loss: 17.0791 - mae: 17.5699\n",
            "Epoch 43: saving model to tmp_checkpoint.ckpt\n",
            "93/93 [==============================] - 1s 11ms/step - loss: 17.0212 - mae: 17.5119 - val_loss: 13.2775 - val_mae: 13.7656\n",
            "Epoch 44/100\n",
            "88/93 [===========================>..] - ETA: 0s - loss: 16.9294 - mae: 17.4198\n",
            "Epoch 44: saving model to tmp_checkpoint.ckpt\n",
            "93/93 [==============================] - 1s 11ms/step - loss: 16.9554 - mae: 17.4457 - val_loss: 13.6246 - val_mae: 14.1136\n",
            "Epoch 45/100\n",
            "91/93 [============================>.] - ETA: 0s - loss: 16.9061 - mae: 17.3963\n",
            "Epoch 45: saving model to tmp_checkpoint.ckpt\n",
            "93/93 [==============================] - 1s 11ms/step - loss: 16.9128 - mae: 17.4031 - val_loss: 13.3722 - val_mae: 13.8623\n",
            "Epoch 46/100\n",
            "89/93 [===========================>..] - ETA: 0s - loss: 17.2240 - mae: 17.7151\n",
            "Epoch 46: saving model to tmp_checkpoint.ckpt\n",
            "93/93 [==============================] - 1s 11ms/step - loss: 17.2659 - mae: 17.7570 - val_loss: 13.4952 - val_mae: 13.9826\n",
            "Epoch 47/100\n",
            "89/93 [===========================>..] - ETA: 0s - loss: 17.0469 - mae: 17.5376\n",
            "Epoch 47: saving model to tmp_checkpoint.ckpt\n",
            "93/93 [==============================] - 1s 11ms/step - loss: 17.0495 - mae: 17.5402 - val_loss: 13.3737 - val_mae: 13.8627\n",
            "Epoch 48/100\n",
            "89/93 [===========================>..] - ETA: 0s - loss: 16.8858 - mae: 17.3758\n",
            "Epoch 48: saving model to tmp_checkpoint.ckpt\n",
            "93/93 [==============================] - 1s 11ms/step - loss: 16.8941 - mae: 17.3843 - val_loss: 13.0766 - val_mae: 13.5669\n",
            "Epoch 49/100\n",
            "93/93 [==============================] - ETA: 0s - loss: 17.0711 - mae: 17.5620\n",
            "Epoch 49: saving model to tmp_checkpoint.ckpt\n",
            "93/93 [==============================] - 1s 11ms/step - loss: 17.0711 - mae: 17.5620 - val_loss: 14.1764 - val_mae: 14.6669\n",
            "Epoch 50/100\n",
            "89/93 [===========================>..] - ETA: 0s - loss: 16.8470 - mae: 17.3371\n",
            "Epoch 50: saving model to tmp_checkpoint.ckpt\n",
            "93/93 [==============================] - 2s 16ms/step - loss: 16.8721 - mae: 17.3622 - val_loss: 13.2079 - val_mae: 13.6958\n",
            "Epoch 51/100\n",
            "90/93 [============================>.] - ETA: 0s - loss: 17.2571 - mae: 17.7477\n",
            "Epoch 51: saving model to tmp_checkpoint.ckpt\n",
            "93/93 [==============================] - 1s 11ms/step - loss: 17.2711 - mae: 17.7615 - val_loss: 13.6120 - val_mae: 14.1025\n",
            "Epoch 52/100\n",
            "91/93 [============================>.] - ETA: 0s - loss: 16.9104 - mae: 17.4008\n",
            "Epoch 52: saving model to tmp_checkpoint.ckpt\n",
            "93/93 [==============================] - 1s 11ms/step - loss: 16.8926 - mae: 17.3828 - val_loss: 13.2789 - val_mae: 13.7670\n",
            "Epoch 53/100\n",
            "92/93 [============================>.] - ETA: 0s - loss: 16.8185 - mae: 17.3087\n",
            "Epoch 53: saving model to tmp_checkpoint.ckpt\n",
            "93/93 [==============================] - 1s 11ms/step - loss: 16.8211 - mae: 17.3113 - val_loss: 13.6580 - val_mae: 14.1474\n",
            "Epoch 54/100\n",
            "91/93 [============================>.] - ETA: 0s - loss: 16.7599 - mae: 17.2494\n",
            "Epoch 54: saving model to tmp_checkpoint.ckpt\n",
            "93/93 [==============================] - 1s 11ms/step - loss: 16.7542 - mae: 17.2437 - val_loss: 14.1573 - val_mae: 14.6489\n",
            "Epoch 55/100\n",
            "90/93 [============================>.] - ETA: 0s - loss: 16.7645 - mae: 17.2546\n",
            "Epoch 55: saving model to tmp_checkpoint.ckpt\n",
            "93/93 [==============================] - 1s 11ms/step - loss: 16.7896 - mae: 17.2797 - val_loss: 13.3884 - val_mae: 13.8775\n",
            "Epoch 56/100\n",
            "89/93 [===========================>..] - ETA: 0s - loss: 17.0723 - mae: 17.5626\n",
            "Epoch 56: saving model to tmp_checkpoint.ckpt\n",
            "93/93 [==============================] - 1s 11ms/step - loss: 17.0544 - mae: 17.5446 - val_loss: 13.1732 - val_mae: 13.6631\n",
            "Epoch 57/100\n",
            "91/93 [============================>.] - ETA: 0s - loss: 16.8388 - mae: 17.3290\n",
            "Epoch 57: saving model to tmp_checkpoint.ckpt\n",
            "93/93 [==============================] - 1s 11ms/step - loss: 16.8459 - mae: 17.3361 - val_loss: 13.6413 - val_mae: 14.1310\n",
            "Epoch 58/100\n",
            "93/93 [==============================] - ETA: 0s - loss: 16.8541 - mae: 17.3444\n",
            "Epoch 58: saving model to tmp_checkpoint.ckpt\n",
            "93/93 [==============================] - 1s 11ms/step - loss: 16.8541 - mae: 17.3444 - val_loss: 13.2558 - val_mae: 13.7459\n",
            "Epoch 59/100\n",
            "91/93 [============================>.] - ETA: 0s - loss: 16.7802 - mae: 17.2702\n",
            "Epoch 59: saving model to tmp_checkpoint.ckpt\n",
            "93/93 [==============================] - 1s 11ms/step - loss: 16.7935 - mae: 17.2836 - val_loss: 13.4680 - val_mae: 13.9587\n",
            "Epoch 60/100\n",
            "91/93 [============================>.] - ETA: 0s - loss: 16.7918 - mae: 17.2820\n",
            "Epoch 60: saving model to tmp_checkpoint.ckpt\n",
            "93/93 [==============================] - 1s 11ms/step - loss: 16.7926 - mae: 17.2829 - val_loss: 13.3696 - val_mae: 13.8585\n",
            "Epoch 61/100\n",
            "92/93 [============================>.] - ETA: 0s - loss: 16.7345 - mae: 17.2246\n",
            "Epoch 61: saving model to tmp_checkpoint.ckpt\n",
            "93/93 [==============================] - 1s 11ms/step - loss: 16.7458 - mae: 17.2359 - val_loss: 13.2698 - val_mae: 13.7595\n",
            "Epoch 62/100\n",
            "88/93 [===========================>..] - ETA: 0s - loss: 16.8918 - mae: 17.3820\n",
            "Epoch 62: saving model to tmp_checkpoint.ckpt\n",
            "93/93 [==============================] - 1s 11ms/step - loss: 16.8536 - mae: 17.3439 - val_loss: 13.6082 - val_mae: 14.0962\n",
            "Epoch 63/100\n",
            "91/93 [============================>.] - ETA: 0s - loss: 16.7976 - mae: 17.2874\n",
            "Epoch 63: saving model to tmp_checkpoint.ckpt\n",
            "93/93 [==============================] - 1s 11ms/step - loss: 16.8140 - mae: 17.3039 - val_loss: 13.4191 - val_mae: 13.9054\n",
            "Epoch 64/100\n",
            "93/93 [==============================] - ETA: 0s - loss: 16.9252 - mae: 17.4158\n",
            "Epoch 64: saving model to tmp_checkpoint.ckpt\n",
            "93/93 [==============================] - 1s 11ms/step - loss: 16.9252 - mae: 17.4158 - val_loss: 13.2154 - val_mae: 13.7019\n",
            "Epoch 65/100\n",
            "92/93 [============================>.] - ETA: 0s - loss: 16.7579 - mae: 17.2482\n",
            "Epoch 65: saving model to tmp_checkpoint.ckpt\n",
            "93/93 [==============================] - 1s 11ms/step - loss: 16.7553 - mae: 17.2456 - val_loss: 13.1926 - val_mae: 13.6820\n",
            "Epoch 66/100\n",
            "92/93 [============================>.] - ETA: 0s - loss: 16.9157 - mae: 17.4056\n",
            "Epoch 66: saving model to tmp_checkpoint.ckpt\n",
            "93/93 [==============================] - 1s 11ms/step - loss: 16.8925 - mae: 17.3824 - val_loss: 13.2601 - val_mae: 13.7479\n",
            "Epoch 67/100\n",
            "87/93 [===========================>..] - ETA: 0s - loss: 16.7419 - mae: 17.2315\n",
            "Epoch 67: saving model to tmp_checkpoint.ckpt\n",
            "93/93 [==============================] - 1s 11ms/step - loss: 16.7488 - mae: 17.2386 - val_loss: 13.7662 - val_mae: 14.2521\n",
            "Epoch 68/100\n",
            "92/93 [============================>.] - ETA: 0s - loss: 16.7394 - mae: 17.2292\n",
            "Epoch 68: saving model to tmp_checkpoint.ckpt\n",
            "93/93 [==============================] - 1s 11ms/step - loss: 16.7449 - mae: 17.2347 - val_loss: 13.1973 - val_mae: 13.6856\n",
            "Epoch 69/100\n",
            "89/93 [===========================>..] - ETA: 0s - loss: 16.8112 - mae: 17.3014\n",
            "Epoch 69: saving model to tmp_checkpoint.ckpt\n",
            "93/93 [==============================] - 1s 12ms/step - loss: 16.8109 - mae: 17.3011 - val_loss: 13.1528 - val_mae: 13.6427\n",
            "Epoch 70/100\n",
            "88/93 [===========================>..] - ETA: 0s - loss: 16.8246 - mae: 17.3146\n",
            "Epoch 70: saving model to tmp_checkpoint.ckpt\n",
            "93/93 [==============================] - 1s 11ms/step - loss: 16.8503 - mae: 17.3404 - val_loss: 13.5451 - val_mae: 14.0335\n",
            "Epoch 71/100\n",
            "93/93 [==============================] - ETA: 0s - loss: 16.6987 - mae: 17.1886\n",
            "Epoch 71: saving model to tmp_checkpoint.ckpt\n",
            "93/93 [==============================] - 1s 11ms/step - loss: 16.6987 - mae: 17.1886 - val_loss: 13.1992 - val_mae: 13.6872\n",
            "Epoch 72/100\n",
            "91/93 [============================>.] - ETA: 0s - loss: 16.8757 - mae: 17.3660\n",
            "Epoch 72: saving model to tmp_checkpoint.ckpt\n",
            "93/93 [==============================] - 1s 11ms/step - loss: 16.8549 - mae: 17.3452 - val_loss: 13.3381 - val_mae: 13.8293\n",
            "Epoch 73/100\n",
            "88/93 [===========================>..] - ETA: 0s - loss: 16.8130 - mae: 17.3026\n",
            "Epoch 73: saving model to tmp_checkpoint.ckpt\n",
            "93/93 [==============================] - 1s 12ms/step - loss: 16.8663 - mae: 17.3562 - val_loss: 13.4388 - val_mae: 13.9260\n",
            "Epoch 74/100\n",
            "89/93 [===========================>..] - ETA: 0s - loss: 16.6508 - mae: 17.1401\n",
            "Epoch 74: saving model to tmp_checkpoint.ckpt\n",
            "93/93 [==============================] - 1s 12ms/step - loss: 16.6985 - mae: 17.1879 - val_loss: 13.6606 - val_mae: 14.1515\n",
            "Epoch 75/100\n",
            "92/93 [============================>.] - ETA: 0s - loss: 16.7309 - mae: 17.2207\n",
            "Epoch 75: saving model to tmp_checkpoint.ckpt\n",
            "93/93 [==============================] - 1s 11ms/step - loss: 16.7234 - mae: 17.2133 - val_loss: 13.4853 - val_mae: 13.9742\n",
            "Epoch 76/100\n",
            "91/93 [============================>.] - ETA: 0s - loss: 16.6567 - mae: 17.1468\n",
            "Epoch 76: saving model to tmp_checkpoint.ckpt\n",
            "93/93 [==============================] - 1s 11ms/step - loss: 16.6296 - mae: 17.1196 - val_loss: 13.3034 - val_mae: 13.7919\n",
            "Epoch 77/100\n",
            "92/93 [============================>.] - ETA: 0s - loss: 16.7730 - mae: 17.2627\n",
            "Epoch 77: saving model to tmp_checkpoint.ckpt\n",
            "93/93 [==============================] - 1s 11ms/step - loss: 16.7792 - mae: 17.2688 - val_loss: 13.3267 - val_mae: 13.8165\n",
            "Epoch 78/100\n",
            "88/93 [===========================>..] - ETA: 0s - loss: 16.6397 - mae: 17.1292\n",
            "Epoch 78: saving model to tmp_checkpoint.ckpt\n",
            "93/93 [==============================] - 1s 11ms/step - loss: 16.6249 - mae: 17.1145 - val_loss: 13.3518 - val_mae: 13.8404\n",
            "Epoch 79/100\n",
            "90/93 [============================>.] - ETA: 0s - loss: 16.8609 - mae: 17.3514\n",
            "Epoch 79: saving model to tmp_checkpoint.ckpt\n",
            "93/93 [==============================] - 1s 11ms/step - loss: 16.8311 - mae: 17.3215 - val_loss: 13.2936 - val_mae: 13.7818\n",
            "Epoch 80/100\n",
            "89/93 [===========================>..] - ETA: 0s - loss: 16.6181 - mae: 17.1080\n",
            "Epoch 80: saving model to tmp_checkpoint.ckpt\n",
            "93/93 [==============================] - 1s 12ms/step - loss: 16.6432 - mae: 17.1332 - val_loss: 13.3823 - val_mae: 13.8709\n",
            "Epoch 81/100\n",
            "89/93 [===========================>..] - ETA: 0s - loss: 16.6600 - mae: 17.1501\n",
            "Epoch 81: saving model to tmp_checkpoint.ckpt\n",
            "93/93 [==============================] - 1s 11ms/step - loss: 16.6745 - mae: 17.1646 - val_loss: 14.0255 - val_mae: 14.5148\n",
            "Epoch 82/100\n",
            "88/93 [===========================>..] - ETA: 0s - loss: 16.5761 - mae: 17.0656\n",
            "Epoch 82: saving model to tmp_checkpoint.ckpt\n",
            "93/93 [==============================] - 1s 11ms/step - loss: 16.5802 - mae: 17.0698 - val_loss: 13.1752 - val_mae: 13.6651\n",
            "Epoch 83/100\n",
            "93/93 [==============================] - ETA: 0s - loss: 16.5530 - mae: 17.0429\n",
            "Epoch 83: saving model to tmp_checkpoint.ckpt\n",
            "93/93 [==============================] - 1s 12ms/step - loss: 16.5530 - mae: 17.0429 - val_loss: 13.2603 - val_mae: 13.7511\n",
            "Epoch 84/100\n",
            "90/93 [============================>.] - ETA: 0s - loss: 16.8124 - mae: 17.3025\n",
            "Epoch 84: saving model to tmp_checkpoint.ckpt\n",
            "93/93 [==============================] - 1s 12ms/step - loss: 16.8152 - mae: 17.3054 - val_loss: 13.4176 - val_mae: 13.9064\n",
            "Epoch 85/100\n",
            "90/93 [============================>.] - ETA: 0s - loss: 16.5443 - mae: 17.0337\n",
            "Epoch 85: saving model to tmp_checkpoint.ckpt\n",
            "93/93 [==============================] - 1s 11ms/step - loss: 16.5530 - mae: 17.0425 - val_loss: 13.4009 - val_mae: 13.8904\n",
            "Epoch 86/100\n",
            "89/93 [===========================>..] - ETA: 0s - loss: 16.5131 - mae: 17.0026\n",
            "Epoch 86: saving model to tmp_checkpoint.ckpt\n",
            "93/93 [==============================] - 1s 11ms/step - loss: 16.5607 - mae: 17.0504 - val_loss: 13.4169 - val_mae: 13.9053\n",
            "Epoch 87/100\n",
            "93/93 [==============================] - ETA: 0s - loss: 16.5272 - mae: 17.0170\n",
            "Epoch 87: saving model to tmp_checkpoint.ckpt\n",
            "93/93 [==============================] - 1s 12ms/step - loss: 16.5272 - mae: 17.0170 - val_loss: 13.7160 - val_mae: 14.2060\n",
            "Epoch 88/100\n",
            "90/93 [============================>.] - ETA: 0s - loss: 16.5574 - mae: 17.0472\n",
            "Epoch 88: saving model to tmp_checkpoint.ckpt\n",
            "93/93 [==============================] - 1s 11ms/step - loss: 16.5755 - mae: 17.0654 - val_loss: 14.0104 - val_mae: 14.5013\n",
            "Epoch 89/100\n",
            "91/93 [============================>.] - ETA: 0s - loss: 16.5672 - mae: 17.0570\n",
            "Epoch 89: saving model to tmp_checkpoint.ckpt\n",
            "93/93 [==============================] - 1s 12ms/step - loss: 16.5591 - mae: 17.0489 - val_loss: 13.7427 - val_mae: 14.2321\n",
            "Epoch 90/100\n",
            "88/93 [===========================>..] - ETA: 0s - loss: 16.5775 - mae: 17.0675\n",
            "Epoch 90: saving model to tmp_checkpoint.ckpt\n",
            "93/93 [==============================] - 1s 12ms/step - loss: 16.5917 - mae: 17.0818 - val_loss: 13.2406 - val_mae: 13.7295\n",
            "Epoch 91/100\n",
            "92/93 [============================>.] - ETA: 0s - loss: 16.6563 - mae: 17.1459\n",
            "Epoch 91: saving model to tmp_checkpoint.ckpt\n",
            "93/93 [==============================] - 1s 15ms/step - loss: 16.6598 - mae: 17.1494 - val_loss: 13.4978 - val_mae: 13.9865\n",
            "Epoch 92/100\n",
            "91/93 [============================>.] - ETA: 0s - loss: 16.5161 - mae: 17.0056\n",
            "Epoch 92: saving model to tmp_checkpoint.ckpt\n",
            "93/93 [==============================] - 1s 12ms/step - loss: 16.5493 - mae: 17.0389 - val_loss: 14.6228 - val_mae: 15.1131\n",
            "Epoch 93/100\n",
            "91/93 [============================>.] - ETA: 0s - loss: 16.6339 - mae: 17.1242\n",
            "Epoch 93: saving model to tmp_checkpoint.ckpt\n",
            "93/93 [==============================] - 1s 11ms/step - loss: 16.6648 - mae: 17.1551 - val_loss: 14.7123 - val_mae: 15.2040\n",
            "Epoch 94/100\n",
            "89/93 [===========================>..] - ETA: 0s - loss: 16.5774 - mae: 17.0675\n",
            "Epoch 94: saving model to tmp_checkpoint.ckpt\n",
            "93/93 [==============================] - 1s 12ms/step - loss: 16.5736 - mae: 17.0637 - val_loss: 13.2565 - val_mae: 13.7446\n",
            "Epoch 95/100\n",
            "89/93 [===========================>..] - ETA: 0s - loss: 16.4891 - mae: 16.9789\n",
            "Epoch 95: saving model to tmp_checkpoint.ckpt\n",
            "93/93 [==============================] - 1s 11ms/step - loss: 16.5117 - mae: 17.0015 - val_loss: 13.8002 - val_mae: 14.2900\n",
            "Epoch 96/100\n",
            "90/93 [============================>.] - ETA: 0s - loss: 16.5381 - mae: 17.0275\n",
            "Epoch 96: saving model to tmp_checkpoint.ckpt\n",
            "93/93 [==============================] - 1s 11ms/step - loss: 16.5365 - mae: 17.0259 - val_loss: 14.6123 - val_mae: 15.1035\n",
            "Epoch 97/100\n",
            "92/93 [============================>.] - ETA: 0s - loss: 16.5160 - mae: 17.0060\n",
            "Epoch 97: saving model to tmp_checkpoint.ckpt\n",
            "93/93 [==============================] - 1s 11ms/step - loss: 16.5058 - mae: 16.9958 - val_loss: 17.8795 - val_mae: 18.3732\n",
            "Epoch 98/100\n",
            "93/93 [==============================] - ETA: 0s - loss: 16.8139 - mae: 17.3040\n",
            "Epoch 98: saving model to tmp_checkpoint.ckpt\n",
            "93/93 [==============================] - 1s 12ms/step - loss: 16.8139 - mae: 17.3040 - val_loss: 13.9224 - val_mae: 14.4128\n",
            "Epoch 99/100\n",
            "89/93 [===========================>..] - ETA: 0s - loss: 16.4343 - mae: 16.9236\n",
            "Epoch 99: saving model to tmp_checkpoint.ckpt\n",
            "93/93 [==============================] - 1s 12ms/step - loss: 16.4205 - mae: 16.9096 - val_loss: 13.3069 - val_mae: 13.7977\n",
            "Epoch 100/100\n",
            "88/93 [===========================>..] - ETA: 0s - loss: 16.5427 - mae: 17.0324\n",
            "Epoch 100: saving model to tmp_checkpoint.ckpt\n",
            "93/93 [==============================] - 1s 12ms/step - loss: 16.5457 - mae: 17.0353 - val_loss: 13.5339 - val_mae: 14.0237\n"
          ]
        },
        {
          "output_type": "execute_result",
          "data": {
            "text/plain": [
              "<keras.callbacks.History at 0x7f164111b050>"
            ]
          },
          "metadata": {},
          "execution_count": 26
        }
      ]
    },
    {
      "cell_type": "markdown",
      "metadata": {
        "id": "shzhTOjAninH"
      },
      "source": [
        "## STEP 10. 학습 완료 후 Load Weights (ModelCheckpoint)"
      ]
    },
    {
      "cell_type": "markdown",
      "metadata": {
        "id": "kLqb_6XrMvdq"
      },
      "source": [
        "학습이 완료된 후에는 반드시 `load_weights`를 해주어야 합니다.\n",
        "\n",
        "그렇지 않으면, 열심히 ModelCheckpoint를 만든 의미가 없습니다."
      ]
    },
    {
      "cell_type": "markdown",
      "metadata": {
        "id": "1qIYfQsnYV07"
      },
      "source": [
        "**[코드]**"
      ]
    },
    {
      "cell_type": "code",
      "metadata": {
        "id": "4jO1ucZ9ninH",
        "colab": {
          "base_uri": "https://localhost:8080/"
        },
        "outputId": "10facac4-08c7-4219-eeab-58561af42cd4"
      },
      "source": [
        "model.load_weights(checkpoint_path)"
      ],
      "execution_count": 27,
      "outputs": [
        {
          "output_type": "execute_result",
          "data": {
            "text/plain": [
              "<tensorflow.python.training.tracking.util.CheckpointLoadStatus at 0x7f164e705d90>"
            ]
          },
          "metadata": {},
          "execution_count": 27
        }
      ]
    }
  ]
}