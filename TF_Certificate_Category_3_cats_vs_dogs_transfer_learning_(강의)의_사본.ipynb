{
  "nbformat": 4,
  "nbformat_minor": 0,
  "metadata": {
    "kernelspec": {
      "display_name": "Python 3",
      "language": "python",
      "name": "python3"
    },
    "language_info": {
      "codemirror_mode": {
        "name": "ipython",
        "version": 3
      },
      "file_extension": ".py",
      "mimetype": "text/x-python",
      "name": "python",
      "nbconvert_exporter": "python",
      "pygments_lexer": "ipython3",
      "version": "3.6.6"
    },
    "colab": {
      "name": "TF Certificate Category 3 - cats vs dogs transfer learning (강의)의 사본",
      "provenance": [],
      "collapsed_sections": [],
      "include_colab_link": true
    },
    "accelerator": "GPU",
    "widgets": {
      "application/vnd.jupyter.widget-state+json": {
        "ab24008973794db2b4bc4a0f27bec779": {
          "model_module": "@jupyter-widgets/controls",
          "model_name": "HBoxModel",
          "model_module_version": "1.5.0",
          "state": {
            "_dom_classes": [],
            "_model_module": "@jupyter-widgets/controls",
            "_model_module_version": "1.5.0",
            "_model_name": "HBoxModel",
            "_view_count": null,
            "_view_module": "@jupyter-widgets/controls",
            "_view_module_version": "1.5.0",
            "_view_name": "HBoxView",
            "box_style": "",
            "children": [
              "IPY_MODEL_b41fe372abf5409fb16339019bdb4308",
              "IPY_MODEL_fc16e90effd84b64abd9f2d9a415c62b",
              "IPY_MODEL_9cf0084986ef4ca5a6a642208be2e797"
            ],
            "layout": "IPY_MODEL_d37adbac5906473b91529a93a9f6aca6"
          }
        },
        "b41fe372abf5409fb16339019bdb4308": {
          "model_module": "@jupyter-widgets/controls",
          "model_name": "HTMLModel",
          "model_module_version": "1.5.0",
          "state": {
            "_dom_classes": [],
            "_model_module": "@jupyter-widgets/controls",
            "_model_module_version": "1.5.0",
            "_model_name": "HTMLModel",
            "_view_count": null,
            "_view_module": "@jupyter-widgets/controls",
            "_view_module_version": "1.5.0",
            "_view_name": "HTMLView",
            "description": "",
            "description_tooltip": null,
            "layout": "IPY_MODEL_c1424682822a4774ba0a90885ae2dd29",
            "placeholder": "​",
            "style": "IPY_MODEL_45275c64bdbe46678ceb332221b766c4",
            "value": "Dl Completed...: 100%"
          }
        },
        "fc16e90effd84b64abd9f2d9a415c62b": {
          "model_module": "@jupyter-widgets/controls",
          "model_name": "FloatProgressModel",
          "model_module_version": "1.5.0",
          "state": {
            "_dom_classes": [],
            "_model_module": "@jupyter-widgets/controls",
            "_model_module_version": "1.5.0",
            "_model_name": "FloatProgressModel",
            "_view_count": null,
            "_view_module": "@jupyter-widgets/controls",
            "_view_module_version": "1.5.0",
            "_view_name": "ProgressView",
            "bar_style": "success",
            "description": "",
            "description_tooltip": null,
            "layout": "IPY_MODEL_993d7a545d32484a8846dc5dc3f475e0",
            "max": 1,
            "min": 0,
            "orientation": "horizontal",
            "style": "IPY_MODEL_c3b56cb93cac44c19f71fe5d31d0d764",
            "value": 1
          }
        },
        "9cf0084986ef4ca5a6a642208be2e797": {
          "model_module": "@jupyter-widgets/controls",
          "model_name": "HTMLModel",
          "model_module_version": "1.5.0",
          "state": {
            "_dom_classes": [],
            "_model_module": "@jupyter-widgets/controls",
            "_model_module_version": "1.5.0",
            "_model_name": "HTMLModel",
            "_view_count": null,
            "_view_module": "@jupyter-widgets/controls",
            "_view_module_version": "1.5.0",
            "_view_name": "HTMLView",
            "description": "",
            "description_tooltip": null,
            "layout": "IPY_MODEL_bab4da56c11341d78fadb746611ee8f0",
            "placeholder": "​",
            "style": "IPY_MODEL_37cf359f4dea465e8eb9e488ebe513ab",
            "value": " 1/1 [00:17&lt;00:00, 17.98s/ url]"
          }
        },
        "d37adbac5906473b91529a93a9f6aca6": {
          "model_module": "@jupyter-widgets/base",
          "model_name": "LayoutModel",
          "model_module_version": "1.2.0",
          "state": {
            "_model_module": "@jupyter-widgets/base",
            "_model_module_version": "1.2.0",
            "_model_name": "LayoutModel",
            "_view_count": null,
            "_view_module": "@jupyter-widgets/base",
            "_view_module_version": "1.2.0",
            "_view_name": "LayoutView",
            "align_content": null,
            "align_items": null,
            "align_self": null,
            "border": null,
            "bottom": null,
            "display": null,
            "flex": null,
            "flex_flow": null,
            "grid_area": null,
            "grid_auto_columns": null,
            "grid_auto_flow": null,
            "grid_auto_rows": null,
            "grid_column": null,
            "grid_gap": null,
            "grid_row": null,
            "grid_template_areas": null,
            "grid_template_columns": null,
            "grid_template_rows": null,
            "height": null,
            "justify_content": null,
            "justify_items": null,
            "left": null,
            "margin": null,
            "max_height": null,
            "max_width": null,
            "min_height": null,
            "min_width": null,
            "object_fit": null,
            "object_position": null,
            "order": null,
            "overflow": null,
            "overflow_x": null,
            "overflow_y": null,
            "padding": null,
            "right": null,
            "top": null,
            "visibility": null,
            "width": null
          }
        },
        "c1424682822a4774ba0a90885ae2dd29": {
          "model_module": "@jupyter-widgets/base",
          "model_name": "LayoutModel",
          "model_module_version": "1.2.0",
          "state": {
            "_model_module": "@jupyter-widgets/base",
            "_model_module_version": "1.2.0",
            "_model_name": "LayoutModel",
            "_view_count": null,
            "_view_module": "@jupyter-widgets/base",
            "_view_module_version": "1.2.0",
            "_view_name": "LayoutView",
            "align_content": null,
            "align_items": null,
            "align_self": null,
            "border": null,
            "bottom": null,
            "display": null,
            "flex": null,
            "flex_flow": null,
            "grid_area": null,
            "grid_auto_columns": null,
            "grid_auto_flow": null,
            "grid_auto_rows": null,
            "grid_column": null,
            "grid_gap": null,
            "grid_row": null,
            "grid_template_areas": null,
            "grid_template_columns": null,
            "grid_template_rows": null,
            "height": null,
            "justify_content": null,
            "justify_items": null,
            "left": null,
            "margin": null,
            "max_height": null,
            "max_width": null,
            "min_height": null,
            "min_width": null,
            "object_fit": null,
            "object_position": null,
            "order": null,
            "overflow": null,
            "overflow_x": null,
            "overflow_y": null,
            "padding": null,
            "right": null,
            "top": null,
            "visibility": null,
            "width": null
          }
        },
        "45275c64bdbe46678ceb332221b766c4": {
          "model_module": "@jupyter-widgets/controls",
          "model_name": "DescriptionStyleModel",
          "model_module_version": "1.5.0",
          "state": {
            "_model_module": "@jupyter-widgets/controls",
            "_model_module_version": "1.5.0",
            "_model_name": "DescriptionStyleModel",
            "_view_count": null,
            "_view_module": "@jupyter-widgets/base",
            "_view_module_version": "1.2.0",
            "_view_name": "StyleView",
            "description_width": ""
          }
        },
        "993d7a545d32484a8846dc5dc3f475e0": {
          "model_module": "@jupyter-widgets/base",
          "model_name": "LayoutModel",
          "model_module_version": "1.2.0",
          "state": {
            "_model_module": "@jupyter-widgets/base",
            "_model_module_version": "1.2.0",
            "_model_name": "LayoutModel",
            "_view_count": null,
            "_view_module": "@jupyter-widgets/base",
            "_view_module_version": "1.2.0",
            "_view_name": "LayoutView",
            "align_content": null,
            "align_items": null,
            "align_self": null,
            "border": null,
            "bottom": null,
            "display": null,
            "flex": null,
            "flex_flow": null,
            "grid_area": null,
            "grid_auto_columns": null,
            "grid_auto_flow": null,
            "grid_auto_rows": null,
            "grid_column": null,
            "grid_gap": null,
            "grid_row": null,
            "grid_template_areas": null,
            "grid_template_columns": null,
            "grid_template_rows": null,
            "height": null,
            "justify_content": null,
            "justify_items": null,
            "left": null,
            "margin": null,
            "max_height": null,
            "max_width": null,
            "min_height": null,
            "min_width": null,
            "object_fit": null,
            "object_position": null,
            "order": null,
            "overflow": null,
            "overflow_x": null,
            "overflow_y": null,
            "padding": null,
            "right": null,
            "top": null,
            "visibility": null,
            "width": "20px"
          }
        },
        "c3b56cb93cac44c19f71fe5d31d0d764": {
          "model_module": "@jupyter-widgets/controls",
          "model_name": "ProgressStyleModel",
          "model_module_version": "1.5.0",
          "state": {
            "_model_module": "@jupyter-widgets/controls",
            "_model_module_version": "1.5.0",
            "_model_name": "ProgressStyleModel",
            "_view_count": null,
            "_view_module": "@jupyter-widgets/base",
            "_view_module_version": "1.2.0",
            "_view_name": "StyleView",
            "bar_color": null,
            "description_width": ""
          }
        },
        "bab4da56c11341d78fadb746611ee8f0": {
          "model_module": "@jupyter-widgets/base",
          "model_name": "LayoutModel",
          "model_module_version": "1.2.0",
          "state": {
            "_model_module": "@jupyter-widgets/base",
            "_model_module_version": "1.2.0",
            "_model_name": "LayoutModel",
            "_view_count": null,
            "_view_module": "@jupyter-widgets/base",
            "_view_module_version": "1.2.0",
            "_view_name": "LayoutView",
            "align_content": null,
            "align_items": null,
            "align_self": null,
            "border": null,
            "bottom": null,
            "display": null,
            "flex": null,
            "flex_flow": null,
            "grid_area": null,
            "grid_auto_columns": null,
            "grid_auto_flow": null,
            "grid_auto_rows": null,
            "grid_column": null,
            "grid_gap": null,
            "grid_row": null,
            "grid_template_areas": null,
            "grid_template_columns": null,
            "grid_template_rows": null,
            "height": null,
            "justify_content": null,
            "justify_items": null,
            "left": null,
            "margin": null,
            "max_height": null,
            "max_width": null,
            "min_height": null,
            "min_width": null,
            "object_fit": null,
            "object_position": null,
            "order": null,
            "overflow": null,
            "overflow_x": null,
            "overflow_y": null,
            "padding": null,
            "right": null,
            "top": null,
            "visibility": null,
            "width": null
          }
        },
        "37cf359f4dea465e8eb9e488ebe513ab": {
          "model_module": "@jupyter-widgets/controls",
          "model_name": "DescriptionStyleModel",
          "model_module_version": "1.5.0",
          "state": {
            "_model_module": "@jupyter-widgets/controls",
            "_model_module_version": "1.5.0",
            "_model_name": "DescriptionStyleModel",
            "_view_count": null,
            "_view_module": "@jupyter-widgets/base",
            "_view_module_version": "1.2.0",
            "_view_name": "StyleView",
            "description_width": ""
          }
        },
        "aea8e61728724b0fbcb73d99d9e350b0": {
          "model_module": "@jupyter-widgets/controls",
          "model_name": "HBoxModel",
          "model_module_version": "1.5.0",
          "state": {
            "_dom_classes": [],
            "_model_module": "@jupyter-widgets/controls",
            "_model_module_version": "1.5.0",
            "_model_name": "HBoxModel",
            "_view_count": null,
            "_view_module": "@jupyter-widgets/controls",
            "_view_module_version": "1.5.0",
            "_view_name": "HBoxView",
            "box_style": "",
            "children": [
              "IPY_MODEL_5840ffa2963241eba7cac5ed3da66de5",
              "IPY_MODEL_467ea9aa661a4d0bbe896459e983ff15",
              "IPY_MODEL_898222c515ed427fb44932cb1a4cf358"
            ],
            "layout": "IPY_MODEL_f5d66fad20c74b14bee990dab5e4e01a"
          }
        },
        "5840ffa2963241eba7cac5ed3da66de5": {
          "model_module": "@jupyter-widgets/controls",
          "model_name": "HTMLModel",
          "model_module_version": "1.5.0",
          "state": {
            "_dom_classes": [],
            "_model_module": "@jupyter-widgets/controls",
            "_model_module_version": "1.5.0",
            "_model_name": "HTMLModel",
            "_view_count": null,
            "_view_module": "@jupyter-widgets/controls",
            "_view_module_version": "1.5.0",
            "_view_name": "HTMLView",
            "description": "",
            "description_tooltip": null,
            "layout": "IPY_MODEL_becc73caebec4be7b84b205de749f16d",
            "placeholder": "​",
            "style": "IPY_MODEL_64780f1d84b34822ba22ad1a9246437e",
            "value": "Dl Size...: 100%"
          }
        },
        "467ea9aa661a4d0bbe896459e983ff15": {
          "model_module": "@jupyter-widgets/controls",
          "model_name": "FloatProgressModel",
          "model_module_version": "1.5.0",
          "state": {
            "_dom_classes": [],
            "_model_module": "@jupyter-widgets/controls",
            "_model_module_version": "1.5.0",
            "_model_name": "FloatProgressModel",
            "_view_count": null,
            "_view_module": "@jupyter-widgets/controls",
            "_view_module_version": "1.5.0",
            "_view_name": "ProgressView",
            "bar_style": "success",
            "description": "",
            "description_tooltip": null,
            "layout": "IPY_MODEL_aae25bd4b6bd43e2b969e6f77710aa2e",
            "max": 1,
            "min": 0,
            "orientation": "horizontal",
            "style": "IPY_MODEL_9af02bf5f64d43ab910d45f6c26d4972",
            "value": 1
          }
        },
        "898222c515ed427fb44932cb1a4cf358": {
          "model_module": "@jupyter-widgets/controls",
          "model_name": "HTMLModel",
          "model_module_version": "1.5.0",
          "state": {
            "_dom_classes": [],
            "_model_module": "@jupyter-widgets/controls",
            "_model_module_version": "1.5.0",
            "_model_name": "HTMLModel",
            "_view_count": null,
            "_view_module": "@jupyter-widgets/controls",
            "_view_module_version": "1.5.0",
            "_view_name": "HTMLView",
            "description": "",
            "description_tooltip": null,
            "layout": "IPY_MODEL_eaf6ea4869c1433dba42ee84db1dec73",
            "placeholder": "​",
            "style": "IPY_MODEL_2c28ddb1004f438590e8045a3b23fd53",
            "value": " 786/786 [00:17&lt;00:00, 82.13 MiB/s]"
          }
        },
        "f5d66fad20c74b14bee990dab5e4e01a": {
          "model_module": "@jupyter-widgets/base",
          "model_name": "LayoutModel",
          "model_module_version": "1.2.0",
          "state": {
            "_model_module": "@jupyter-widgets/base",
            "_model_module_version": "1.2.0",
            "_model_name": "LayoutModel",
            "_view_count": null,
            "_view_module": "@jupyter-widgets/base",
            "_view_module_version": "1.2.0",
            "_view_name": "LayoutView",
            "align_content": null,
            "align_items": null,
            "align_self": null,
            "border": null,
            "bottom": null,
            "display": null,
            "flex": null,
            "flex_flow": null,
            "grid_area": null,
            "grid_auto_columns": null,
            "grid_auto_flow": null,
            "grid_auto_rows": null,
            "grid_column": null,
            "grid_gap": null,
            "grid_row": null,
            "grid_template_areas": null,
            "grid_template_columns": null,
            "grid_template_rows": null,
            "height": null,
            "justify_content": null,
            "justify_items": null,
            "left": null,
            "margin": null,
            "max_height": null,
            "max_width": null,
            "min_height": null,
            "min_width": null,
            "object_fit": null,
            "object_position": null,
            "order": null,
            "overflow": null,
            "overflow_x": null,
            "overflow_y": null,
            "padding": null,
            "right": null,
            "top": null,
            "visibility": null,
            "width": null
          }
        },
        "becc73caebec4be7b84b205de749f16d": {
          "model_module": "@jupyter-widgets/base",
          "model_name": "LayoutModel",
          "model_module_version": "1.2.0",
          "state": {
            "_model_module": "@jupyter-widgets/base",
            "_model_module_version": "1.2.0",
            "_model_name": "LayoutModel",
            "_view_count": null,
            "_view_module": "@jupyter-widgets/base",
            "_view_module_version": "1.2.0",
            "_view_name": "LayoutView",
            "align_content": null,
            "align_items": null,
            "align_self": null,
            "border": null,
            "bottom": null,
            "display": null,
            "flex": null,
            "flex_flow": null,
            "grid_area": null,
            "grid_auto_columns": null,
            "grid_auto_flow": null,
            "grid_auto_rows": null,
            "grid_column": null,
            "grid_gap": null,
            "grid_row": null,
            "grid_template_areas": null,
            "grid_template_columns": null,
            "grid_template_rows": null,
            "height": null,
            "justify_content": null,
            "justify_items": null,
            "left": null,
            "margin": null,
            "max_height": null,
            "max_width": null,
            "min_height": null,
            "min_width": null,
            "object_fit": null,
            "object_position": null,
            "order": null,
            "overflow": null,
            "overflow_x": null,
            "overflow_y": null,
            "padding": null,
            "right": null,
            "top": null,
            "visibility": null,
            "width": null
          }
        },
        "64780f1d84b34822ba22ad1a9246437e": {
          "model_module": "@jupyter-widgets/controls",
          "model_name": "DescriptionStyleModel",
          "model_module_version": "1.5.0",
          "state": {
            "_model_module": "@jupyter-widgets/controls",
            "_model_module_version": "1.5.0",
            "_model_name": "DescriptionStyleModel",
            "_view_count": null,
            "_view_module": "@jupyter-widgets/base",
            "_view_module_version": "1.2.0",
            "_view_name": "StyleView",
            "description_width": ""
          }
        },
        "aae25bd4b6bd43e2b969e6f77710aa2e": {
          "model_module": "@jupyter-widgets/base",
          "model_name": "LayoutModel",
          "model_module_version": "1.2.0",
          "state": {
            "_model_module": "@jupyter-widgets/base",
            "_model_module_version": "1.2.0",
            "_model_name": "LayoutModel",
            "_view_count": null,
            "_view_module": "@jupyter-widgets/base",
            "_view_module_version": "1.2.0",
            "_view_name": "LayoutView",
            "align_content": null,
            "align_items": null,
            "align_self": null,
            "border": null,
            "bottom": null,
            "display": null,
            "flex": null,
            "flex_flow": null,
            "grid_area": null,
            "grid_auto_columns": null,
            "grid_auto_flow": null,
            "grid_auto_rows": null,
            "grid_column": null,
            "grid_gap": null,
            "grid_row": null,
            "grid_template_areas": null,
            "grid_template_columns": null,
            "grid_template_rows": null,
            "height": null,
            "justify_content": null,
            "justify_items": null,
            "left": null,
            "margin": null,
            "max_height": null,
            "max_width": null,
            "min_height": null,
            "min_width": null,
            "object_fit": null,
            "object_position": null,
            "order": null,
            "overflow": null,
            "overflow_x": null,
            "overflow_y": null,
            "padding": null,
            "right": null,
            "top": null,
            "visibility": null,
            "width": "20px"
          }
        },
        "9af02bf5f64d43ab910d45f6c26d4972": {
          "model_module": "@jupyter-widgets/controls",
          "model_name": "ProgressStyleModel",
          "model_module_version": "1.5.0",
          "state": {
            "_model_module": "@jupyter-widgets/controls",
            "_model_module_version": "1.5.0",
            "_model_name": "ProgressStyleModel",
            "_view_count": null,
            "_view_module": "@jupyter-widgets/base",
            "_view_module_version": "1.2.0",
            "_view_name": "StyleView",
            "bar_color": null,
            "description_width": ""
          }
        },
        "eaf6ea4869c1433dba42ee84db1dec73": {
          "model_module": "@jupyter-widgets/base",
          "model_name": "LayoutModel",
          "model_module_version": "1.2.0",
          "state": {
            "_model_module": "@jupyter-widgets/base",
            "_model_module_version": "1.2.0",
            "_model_name": "LayoutModel",
            "_view_count": null,
            "_view_module": "@jupyter-widgets/base",
            "_view_module_version": "1.2.0",
            "_view_name": "LayoutView",
            "align_content": null,
            "align_items": null,
            "align_self": null,
            "border": null,
            "bottom": null,
            "display": null,
            "flex": null,
            "flex_flow": null,
            "grid_area": null,
            "grid_auto_columns": null,
            "grid_auto_flow": null,
            "grid_auto_rows": null,
            "grid_column": null,
            "grid_gap": null,
            "grid_row": null,
            "grid_template_areas": null,
            "grid_template_columns": null,
            "grid_template_rows": null,
            "height": null,
            "justify_content": null,
            "justify_items": null,
            "left": null,
            "margin": null,
            "max_height": null,
            "max_width": null,
            "min_height": null,
            "min_width": null,
            "object_fit": null,
            "object_position": null,
            "order": null,
            "overflow": null,
            "overflow_x": null,
            "overflow_y": null,
            "padding": null,
            "right": null,
            "top": null,
            "visibility": null,
            "width": null
          }
        },
        "2c28ddb1004f438590e8045a3b23fd53": {
          "model_module": "@jupyter-widgets/controls",
          "model_name": "DescriptionStyleModel",
          "model_module_version": "1.5.0",
          "state": {
            "_model_module": "@jupyter-widgets/controls",
            "_model_module_version": "1.5.0",
            "_model_name": "DescriptionStyleModel",
            "_view_count": null,
            "_view_module": "@jupyter-widgets/base",
            "_view_module_version": "1.2.0",
            "_view_name": "StyleView",
            "description_width": ""
          }
        },
        "38edeec191004488a75486d6f213fc59": {
          "model_module": "@jupyter-widgets/controls",
          "model_name": "HBoxModel",
          "model_module_version": "1.5.0",
          "state": {
            "_dom_classes": [],
            "_model_module": "@jupyter-widgets/controls",
            "_model_module_version": "1.5.0",
            "_model_name": "HBoxModel",
            "_view_count": null,
            "_view_module": "@jupyter-widgets/controls",
            "_view_module_version": "1.5.0",
            "_view_name": "HBoxView",
            "box_style": "",
            "children": [
              "IPY_MODEL_848685c419754ef0acc7ee0dbfa20607",
              "IPY_MODEL_b1cd327eafd1461ebd25b06b22433543",
              "IPY_MODEL_250e8c258e3a4babad111c10ddbbd4e3"
            ],
            "layout": "IPY_MODEL_8501297d4899445c82284b7180305c20"
          }
        },
        "848685c419754ef0acc7ee0dbfa20607": {
          "model_module": "@jupyter-widgets/controls",
          "model_name": "HTMLModel",
          "model_module_version": "1.5.0",
          "state": {
            "_dom_classes": [],
            "_model_module": "@jupyter-widgets/controls",
            "_model_module_version": "1.5.0",
            "_model_name": "HTMLModel",
            "_view_count": null,
            "_view_module": "@jupyter-widgets/controls",
            "_view_module_version": "1.5.0",
            "_view_name": "HTMLView",
            "description": "",
            "description_tooltip": null,
            "layout": "IPY_MODEL_893ffbdb5cf74ea3bd4d346ffbe66991",
            "placeholder": "​",
            "style": "IPY_MODEL_f4e3ff90cf0441a4a6a344e164b1fdd3",
            "value": "Generating splits...: 100%"
          }
        },
        "b1cd327eafd1461ebd25b06b22433543": {
          "model_module": "@jupyter-widgets/controls",
          "model_name": "FloatProgressModel",
          "model_module_version": "1.5.0",
          "state": {
            "_dom_classes": [],
            "_model_module": "@jupyter-widgets/controls",
            "_model_module_version": "1.5.0",
            "_model_name": "FloatProgressModel",
            "_view_count": null,
            "_view_module": "@jupyter-widgets/controls",
            "_view_module_version": "1.5.0",
            "_view_name": "ProgressView",
            "bar_style": "",
            "description": "",
            "description_tooltip": null,
            "layout": "IPY_MODEL_8030e4bc5ec943a79bb73166d5aa40e5",
            "max": 1,
            "min": 0,
            "orientation": "horizontal",
            "style": "IPY_MODEL_08be7cc7eb204be486b0ee3bddbcdc01",
            "value": 1
          }
        },
        "250e8c258e3a4babad111c10ddbbd4e3": {
          "model_module": "@jupyter-widgets/controls",
          "model_name": "HTMLModel",
          "model_module_version": "1.5.0",
          "state": {
            "_dom_classes": [],
            "_model_module": "@jupyter-widgets/controls",
            "_model_module_version": "1.5.0",
            "_model_name": "HTMLModel",
            "_view_count": null,
            "_view_module": "@jupyter-widgets/controls",
            "_view_module_version": "1.5.0",
            "_view_name": "HTMLView",
            "description": "",
            "description_tooltip": null,
            "layout": "IPY_MODEL_e6ae5f9d4b1f4635a1d78bf6d884c5ca",
            "placeholder": "​",
            "style": "IPY_MODEL_3f50312f88164b76b0dd792d8943daf3",
            "value": " 1/1 [00:13&lt;00:00, 13.17s/ splits]"
          }
        },
        "8501297d4899445c82284b7180305c20": {
          "model_module": "@jupyter-widgets/base",
          "model_name": "LayoutModel",
          "model_module_version": "1.2.0",
          "state": {
            "_model_module": "@jupyter-widgets/base",
            "_model_module_version": "1.2.0",
            "_model_name": "LayoutModel",
            "_view_count": null,
            "_view_module": "@jupyter-widgets/base",
            "_view_module_version": "1.2.0",
            "_view_name": "LayoutView",
            "align_content": null,
            "align_items": null,
            "align_self": null,
            "border": null,
            "bottom": null,
            "display": null,
            "flex": null,
            "flex_flow": null,
            "grid_area": null,
            "grid_auto_columns": null,
            "grid_auto_flow": null,
            "grid_auto_rows": null,
            "grid_column": null,
            "grid_gap": null,
            "grid_row": null,
            "grid_template_areas": null,
            "grid_template_columns": null,
            "grid_template_rows": null,
            "height": null,
            "justify_content": null,
            "justify_items": null,
            "left": null,
            "margin": null,
            "max_height": null,
            "max_width": null,
            "min_height": null,
            "min_width": null,
            "object_fit": null,
            "object_position": null,
            "order": null,
            "overflow": null,
            "overflow_x": null,
            "overflow_y": null,
            "padding": null,
            "right": null,
            "top": null,
            "visibility": null,
            "width": null
          }
        },
        "893ffbdb5cf74ea3bd4d346ffbe66991": {
          "model_module": "@jupyter-widgets/base",
          "model_name": "LayoutModel",
          "model_module_version": "1.2.0",
          "state": {
            "_model_module": "@jupyter-widgets/base",
            "_model_module_version": "1.2.0",
            "_model_name": "LayoutModel",
            "_view_count": null,
            "_view_module": "@jupyter-widgets/base",
            "_view_module_version": "1.2.0",
            "_view_name": "LayoutView",
            "align_content": null,
            "align_items": null,
            "align_self": null,
            "border": null,
            "bottom": null,
            "display": null,
            "flex": null,
            "flex_flow": null,
            "grid_area": null,
            "grid_auto_columns": null,
            "grid_auto_flow": null,
            "grid_auto_rows": null,
            "grid_column": null,
            "grid_gap": null,
            "grid_row": null,
            "grid_template_areas": null,
            "grid_template_columns": null,
            "grid_template_rows": null,
            "height": null,
            "justify_content": null,
            "justify_items": null,
            "left": null,
            "margin": null,
            "max_height": null,
            "max_width": null,
            "min_height": null,
            "min_width": null,
            "object_fit": null,
            "object_position": null,
            "order": null,
            "overflow": null,
            "overflow_x": null,
            "overflow_y": null,
            "padding": null,
            "right": null,
            "top": null,
            "visibility": null,
            "width": null
          }
        },
        "f4e3ff90cf0441a4a6a344e164b1fdd3": {
          "model_module": "@jupyter-widgets/controls",
          "model_name": "DescriptionStyleModel",
          "model_module_version": "1.5.0",
          "state": {
            "_model_module": "@jupyter-widgets/controls",
            "_model_module_version": "1.5.0",
            "_model_name": "DescriptionStyleModel",
            "_view_count": null,
            "_view_module": "@jupyter-widgets/base",
            "_view_module_version": "1.2.0",
            "_view_name": "StyleView",
            "description_width": ""
          }
        },
        "8030e4bc5ec943a79bb73166d5aa40e5": {
          "model_module": "@jupyter-widgets/base",
          "model_name": "LayoutModel",
          "model_module_version": "1.2.0",
          "state": {
            "_model_module": "@jupyter-widgets/base",
            "_model_module_version": "1.2.0",
            "_model_name": "LayoutModel",
            "_view_count": null,
            "_view_module": "@jupyter-widgets/base",
            "_view_module_version": "1.2.0",
            "_view_name": "LayoutView",
            "align_content": null,
            "align_items": null,
            "align_self": null,
            "border": null,
            "bottom": null,
            "display": null,
            "flex": null,
            "flex_flow": null,
            "grid_area": null,
            "grid_auto_columns": null,
            "grid_auto_flow": null,
            "grid_auto_rows": null,
            "grid_column": null,
            "grid_gap": null,
            "grid_row": null,
            "grid_template_areas": null,
            "grid_template_columns": null,
            "grid_template_rows": null,
            "height": null,
            "justify_content": null,
            "justify_items": null,
            "left": null,
            "margin": null,
            "max_height": null,
            "max_width": null,
            "min_height": null,
            "min_width": null,
            "object_fit": null,
            "object_position": null,
            "order": null,
            "overflow": null,
            "overflow_x": null,
            "overflow_y": null,
            "padding": null,
            "right": null,
            "top": null,
            "visibility": null,
            "width": null
          }
        },
        "08be7cc7eb204be486b0ee3bddbcdc01": {
          "model_module": "@jupyter-widgets/controls",
          "model_name": "ProgressStyleModel",
          "model_module_version": "1.5.0",
          "state": {
            "_model_module": "@jupyter-widgets/controls",
            "_model_module_version": "1.5.0",
            "_model_name": "ProgressStyleModel",
            "_view_count": null,
            "_view_module": "@jupyter-widgets/base",
            "_view_module_version": "1.2.0",
            "_view_name": "StyleView",
            "bar_color": null,
            "description_width": ""
          }
        },
        "e6ae5f9d4b1f4635a1d78bf6d884c5ca": {
          "model_module": "@jupyter-widgets/base",
          "model_name": "LayoutModel",
          "model_module_version": "1.2.0",
          "state": {
            "_model_module": "@jupyter-widgets/base",
            "_model_module_version": "1.2.0",
            "_model_name": "LayoutModel",
            "_view_count": null,
            "_view_module": "@jupyter-widgets/base",
            "_view_module_version": "1.2.0",
            "_view_name": "LayoutView",
            "align_content": null,
            "align_items": null,
            "align_self": null,
            "border": null,
            "bottom": null,
            "display": null,
            "flex": null,
            "flex_flow": null,
            "grid_area": null,
            "grid_auto_columns": null,
            "grid_auto_flow": null,
            "grid_auto_rows": null,
            "grid_column": null,
            "grid_gap": null,
            "grid_row": null,
            "grid_template_areas": null,
            "grid_template_columns": null,
            "grid_template_rows": null,
            "height": null,
            "justify_content": null,
            "justify_items": null,
            "left": null,
            "margin": null,
            "max_height": null,
            "max_width": null,
            "min_height": null,
            "min_width": null,
            "object_fit": null,
            "object_position": null,
            "order": null,
            "overflow": null,
            "overflow_x": null,
            "overflow_y": null,
            "padding": null,
            "right": null,
            "top": null,
            "visibility": null,
            "width": null
          }
        },
        "3f50312f88164b76b0dd792d8943daf3": {
          "model_module": "@jupyter-widgets/controls",
          "model_name": "DescriptionStyleModel",
          "model_module_version": "1.5.0",
          "state": {
            "_model_module": "@jupyter-widgets/controls",
            "_model_module_version": "1.5.0",
            "_model_name": "DescriptionStyleModel",
            "_view_count": null,
            "_view_module": "@jupyter-widgets/base",
            "_view_module_version": "1.2.0",
            "_view_name": "StyleView",
            "description_width": ""
          }
        },
        "6f469ac4b56342a7bc31f3db61885d19": {
          "model_module": "@jupyter-widgets/controls",
          "model_name": "HBoxModel",
          "model_module_version": "1.5.0",
          "state": {
            "_dom_classes": [],
            "_model_module": "@jupyter-widgets/controls",
            "_model_module_version": "1.5.0",
            "_model_name": "HBoxModel",
            "_view_count": null,
            "_view_module": "@jupyter-widgets/controls",
            "_view_module_version": "1.5.0",
            "_view_name": "HBoxView",
            "box_style": "",
            "children": [
              "IPY_MODEL_daa4a47d7e614bae9e26ddf2a7687342",
              "IPY_MODEL_1357b94a8dda4030a827408ad931470b",
              "IPY_MODEL_ce33cb859b254866aaad65be94bd12d4"
            ],
            "layout": "IPY_MODEL_b05fe66853614c1886e1ec14f4a608fa"
          }
        },
        "daa4a47d7e614bae9e26ddf2a7687342": {
          "model_module": "@jupyter-widgets/controls",
          "model_name": "HTMLModel",
          "model_module_version": "1.5.0",
          "state": {
            "_dom_classes": [],
            "_model_module": "@jupyter-widgets/controls",
            "_model_module_version": "1.5.0",
            "_model_name": "HTMLModel",
            "_view_count": null,
            "_view_module": "@jupyter-widgets/controls",
            "_view_module_version": "1.5.0",
            "_view_name": "HTMLView",
            "description": "",
            "description_tooltip": null,
            "layout": "IPY_MODEL_5d3546a2c99b4420bccd343a4188fd84",
            "placeholder": "​",
            "style": "IPY_MODEL_d6970431da274ae293cdb7549f3b79d2",
            "value": "Generating train examples...: 100%"
          }
        },
        "1357b94a8dda4030a827408ad931470b": {
          "model_module": "@jupyter-widgets/controls",
          "model_name": "FloatProgressModel",
          "model_module_version": "1.5.0",
          "state": {
            "_dom_classes": [],
            "_model_module": "@jupyter-widgets/controls",
            "_model_module_version": "1.5.0",
            "_model_name": "FloatProgressModel",
            "_view_count": null,
            "_view_module": "@jupyter-widgets/controls",
            "_view_module_version": "1.5.0",
            "_view_name": "ProgressView",
            "bar_style": "",
            "description": "",
            "description_tooltip": null,
            "layout": "IPY_MODEL_627912e899e54016a4b7bb07e10c28ed",
            "max": 23262,
            "min": 0,
            "orientation": "horizontal",
            "style": "IPY_MODEL_ef13521d4c7843659ee4ac9bbeb063b2",
            "value": 23262
          }
        },
        "ce33cb859b254866aaad65be94bd12d4": {
          "model_module": "@jupyter-widgets/controls",
          "model_name": "HTMLModel",
          "model_module_version": "1.5.0",
          "state": {
            "_dom_classes": [],
            "_model_module": "@jupyter-widgets/controls",
            "_model_module_version": "1.5.0",
            "_model_name": "HTMLModel",
            "_view_count": null,
            "_view_module": "@jupyter-widgets/controls",
            "_view_module_version": "1.5.0",
            "_view_name": "HTMLView",
            "description": "",
            "description_tooltip": null,
            "layout": "IPY_MODEL_bfd2399919e14aabac468388f8ac920d",
            "placeholder": "​",
            "style": "IPY_MODEL_22b385e25308469fa6af1704f0de7d88",
            "value": " 23258/23262 [00:10&lt;00:00, 2144.05 examples/s]"
          }
        },
        "b05fe66853614c1886e1ec14f4a608fa": {
          "model_module": "@jupyter-widgets/base",
          "model_name": "LayoutModel",
          "model_module_version": "1.2.0",
          "state": {
            "_model_module": "@jupyter-widgets/base",
            "_model_module_version": "1.2.0",
            "_model_name": "LayoutModel",
            "_view_count": null,
            "_view_module": "@jupyter-widgets/base",
            "_view_module_version": "1.2.0",
            "_view_name": "LayoutView",
            "align_content": null,
            "align_items": null,
            "align_self": null,
            "border": null,
            "bottom": null,
            "display": null,
            "flex": null,
            "flex_flow": null,
            "grid_area": null,
            "grid_auto_columns": null,
            "grid_auto_flow": null,
            "grid_auto_rows": null,
            "grid_column": null,
            "grid_gap": null,
            "grid_row": null,
            "grid_template_areas": null,
            "grid_template_columns": null,
            "grid_template_rows": null,
            "height": null,
            "justify_content": null,
            "justify_items": null,
            "left": null,
            "margin": null,
            "max_height": null,
            "max_width": null,
            "min_height": null,
            "min_width": null,
            "object_fit": null,
            "object_position": null,
            "order": null,
            "overflow": null,
            "overflow_x": null,
            "overflow_y": null,
            "padding": null,
            "right": null,
            "top": null,
            "visibility": null,
            "width": null
          }
        },
        "5d3546a2c99b4420bccd343a4188fd84": {
          "model_module": "@jupyter-widgets/base",
          "model_name": "LayoutModel",
          "model_module_version": "1.2.0",
          "state": {
            "_model_module": "@jupyter-widgets/base",
            "_model_module_version": "1.2.0",
            "_model_name": "LayoutModel",
            "_view_count": null,
            "_view_module": "@jupyter-widgets/base",
            "_view_module_version": "1.2.0",
            "_view_name": "LayoutView",
            "align_content": null,
            "align_items": null,
            "align_self": null,
            "border": null,
            "bottom": null,
            "display": null,
            "flex": null,
            "flex_flow": null,
            "grid_area": null,
            "grid_auto_columns": null,
            "grid_auto_flow": null,
            "grid_auto_rows": null,
            "grid_column": null,
            "grid_gap": null,
            "grid_row": null,
            "grid_template_areas": null,
            "grid_template_columns": null,
            "grid_template_rows": null,
            "height": null,
            "justify_content": null,
            "justify_items": null,
            "left": null,
            "margin": null,
            "max_height": null,
            "max_width": null,
            "min_height": null,
            "min_width": null,
            "object_fit": null,
            "object_position": null,
            "order": null,
            "overflow": null,
            "overflow_x": null,
            "overflow_y": null,
            "padding": null,
            "right": null,
            "top": null,
            "visibility": null,
            "width": null
          }
        },
        "d6970431da274ae293cdb7549f3b79d2": {
          "model_module": "@jupyter-widgets/controls",
          "model_name": "DescriptionStyleModel",
          "model_module_version": "1.5.0",
          "state": {
            "_model_module": "@jupyter-widgets/controls",
            "_model_module_version": "1.5.0",
            "_model_name": "DescriptionStyleModel",
            "_view_count": null,
            "_view_module": "@jupyter-widgets/base",
            "_view_module_version": "1.2.0",
            "_view_name": "StyleView",
            "description_width": ""
          }
        },
        "627912e899e54016a4b7bb07e10c28ed": {
          "model_module": "@jupyter-widgets/base",
          "model_name": "LayoutModel",
          "model_module_version": "1.2.0",
          "state": {
            "_model_module": "@jupyter-widgets/base",
            "_model_module_version": "1.2.0",
            "_model_name": "LayoutModel",
            "_view_count": null,
            "_view_module": "@jupyter-widgets/base",
            "_view_module_version": "1.2.0",
            "_view_name": "LayoutView",
            "align_content": null,
            "align_items": null,
            "align_self": null,
            "border": null,
            "bottom": null,
            "display": null,
            "flex": null,
            "flex_flow": null,
            "grid_area": null,
            "grid_auto_columns": null,
            "grid_auto_flow": null,
            "grid_auto_rows": null,
            "grid_column": null,
            "grid_gap": null,
            "grid_row": null,
            "grid_template_areas": null,
            "grid_template_columns": null,
            "grid_template_rows": null,
            "height": null,
            "justify_content": null,
            "justify_items": null,
            "left": null,
            "margin": null,
            "max_height": null,
            "max_width": null,
            "min_height": null,
            "min_width": null,
            "object_fit": null,
            "object_position": null,
            "order": null,
            "overflow": null,
            "overflow_x": null,
            "overflow_y": null,
            "padding": null,
            "right": null,
            "top": null,
            "visibility": null,
            "width": null
          }
        },
        "ef13521d4c7843659ee4ac9bbeb063b2": {
          "model_module": "@jupyter-widgets/controls",
          "model_name": "ProgressStyleModel",
          "model_module_version": "1.5.0",
          "state": {
            "_model_module": "@jupyter-widgets/controls",
            "_model_module_version": "1.5.0",
            "_model_name": "ProgressStyleModel",
            "_view_count": null,
            "_view_module": "@jupyter-widgets/base",
            "_view_module_version": "1.2.0",
            "_view_name": "StyleView",
            "bar_color": null,
            "description_width": ""
          }
        },
        "bfd2399919e14aabac468388f8ac920d": {
          "model_module": "@jupyter-widgets/base",
          "model_name": "LayoutModel",
          "model_module_version": "1.2.0",
          "state": {
            "_model_module": "@jupyter-widgets/base",
            "_model_module_version": "1.2.0",
            "_model_name": "LayoutModel",
            "_view_count": null,
            "_view_module": "@jupyter-widgets/base",
            "_view_module_version": "1.2.0",
            "_view_name": "LayoutView",
            "align_content": null,
            "align_items": null,
            "align_self": null,
            "border": null,
            "bottom": null,
            "display": null,
            "flex": null,
            "flex_flow": null,
            "grid_area": null,
            "grid_auto_columns": null,
            "grid_auto_flow": null,
            "grid_auto_rows": null,
            "grid_column": null,
            "grid_gap": null,
            "grid_row": null,
            "grid_template_areas": null,
            "grid_template_columns": null,
            "grid_template_rows": null,
            "height": null,
            "justify_content": null,
            "justify_items": null,
            "left": null,
            "margin": null,
            "max_height": null,
            "max_width": null,
            "min_height": null,
            "min_width": null,
            "object_fit": null,
            "object_position": null,
            "order": null,
            "overflow": null,
            "overflow_x": null,
            "overflow_y": null,
            "padding": null,
            "right": null,
            "top": null,
            "visibility": null,
            "width": null
          }
        },
        "22b385e25308469fa6af1704f0de7d88": {
          "model_module": "@jupyter-widgets/controls",
          "model_name": "DescriptionStyleModel",
          "model_module_version": "1.5.0",
          "state": {
            "_model_module": "@jupyter-widgets/controls",
            "_model_module_version": "1.5.0",
            "_model_name": "DescriptionStyleModel",
            "_view_count": null,
            "_view_module": "@jupyter-widgets/base",
            "_view_module_version": "1.2.0",
            "_view_name": "StyleView",
            "description_width": ""
          }
        },
        "3c068e82d45d4f3084ea2d9bf5497fe2": {
          "model_module": "@jupyter-widgets/controls",
          "model_name": "HBoxModel",
          "model_module_version": "1.5.0",
          "state": {
            "_dom_classes": [],
            "_model_module": "@jupyter-widgets/controls",
            "_model_module_version": "1.5.0",
            "_model_name": "HBoxModel",
            "_view_count": null,
            "_view_module": "@jupyter-widgets/controls",
            "_view_module_version": "1.5.0",
            "_view_name": "HBoxView",
            "box_style": "",
            "children": [
              "IPY_MODEL_53a72f41308941ecb5bc9c1904908dcc",
              "IPY_MODEL_86687fdc018a4b65a3514f1cfb03cffa",
              "IPY_MODEL_0b7984dc2abb444981af00c348aa73d1"
            ],
            "layout": "IPY_MODEL_73b67ca5dc634bb9a0d21ee25708f505"
          }
        },
        "53a72f41308941ecb5bc9c1904908dcc": {
          "model_module": "@jupyter-widgets/controls",
          "model_name": "HTMLModel",
          "model_module_version": "1.5.0",
          "state": {
            "_dom_classes": [],
            "_model_module": "@jupyter-widgets/controls",
            "_model_module_version": "1.5.0",
            "_model_name": "HTMLModel",
            "_view_count": null,
            "_view_module": "@jupyter-widgets/controls",
            "_view_module_version": "1.5.0",
            "_view_name": "HTMLView",
            "description": "",
            "description_tooltip": null,
            "layout": "IPY_MODEL_c35f6ed658a24d26a3237e9f6d27a32a",
            "placeholder": "​",
            "style": "IPY_MODEL_124b5e3cf8c44dcd98759f2c09c3b464",
            "value": "Shuffling ~/tensorflow_datasets/cats_vs_dogs/4.0.0.incompleteWJMY9V/cats_vs_dogs-train.tfrecord*...:  94%"
          }
        },
        "86687fdc018a4b65a3514f1cfb03cffa": {
          "model_module": "@jupyter-widgets/controls",
          "model_name": "FloatProgressModel",
          "model_module_version": "1.5.0",
          "state": {
            "_dom_classes": [],
            "_model_module": "@jupyter-widgets/controls",
            "_model_module_version": "1.5.0",
            "_model_name": "FloatProgressModel",
            "_view_count": null,
            "_view_module": "@jupyter-widgets/controls",
            "_view_module_version": "1.5.0",
            "_view_name": "ProgressView",
            "bar_style": "",
            "description": "",
            "description_tooltip": null,
            "layout": "IPY_MODEL_22fbf986288e40d4b55cde7c48b4a0e2",
            "max": 23262,
            "min": 0,
            "orientation": "horizontal",
            "style": "IPY_MODEL_aa027a0ba5594fb5a940ece8f1bcd421",
            "value": 23262
          }
        },
        "0b7984dc2abb444981af00c348aa73d1": {
          "model_module": "@jupyter-widgets/controls",
          "model_name": "HTMLModel",
          "model_module_version": "1.5.0",
          "state": {
            "_dom_classes": [],
            "_model_module": "@jupyter-widgets/controls",
            "_model_module_version": "1.5.0",
            "_model_name": "HTMLModel",
            "_view_count": null,
            "_view_module": "@jupyter-widgets/controls",
            "_view_module_version": "1.5.0",
            "_view_name": "HTMLView",
            "description": "",
            "description_tooltip": null,
            "layout": "IPY_MODEL_a50623feef954f91b7737883c3fc054c",
            "placeholder": "​",
            "style": "IPY_MODEL_e63860ce5c5e4be3b84eb235d879e8a4",
            "value": " 21794/23262 [00:02&lt;00:00, 11716.38 examples/s]"
          }
        },
        "73b67ca5dc634bb9a0d21ee25708f505": {
          "model_module": "@jupyter-widgets/base",
          "model_name": "LayoutModel",
          "model_module_version": "1.2.0",
          "state": {
            "_model_module": "@jupyter-widgets/base",
            "_model_module_version": "1.2.0",
            "_model_name": "LayoutModel",
            "_view_count": null,
            "_view_module": "@jupyter-widgets/base",
            "_view_module_version": "1.2.0",
            "_view_name": "LayoutView",
            "align_content": null,
            "align_items": null,
            "align_self": null,
            "border": null,
            "bottom": null,
            "display": null,
            "flex": null,
            "flex_flow": null,
            "grid_area": null,
            "grid_auto_columns": null,
            "grid_auto_flow": null,
            "grid_auto_rows": null,
            "grid_column": null,
            "grid_gap": null,
            "grid_row": null,
            "grid_template_areas": null,
            "grid_template_columns": null,
            "grid_template_rows": null,
            "height": null,
            "justify_content": null,
            "justify_items": null,
            "left": null,
            "margin": null,
            "max_height": null,
            "max_width": null,
            "min_height": null,
            "min_width": null,
            "object_fit": null,
            "object_position": null,
            "order": null,
            "overflow": null,
            "overflow_x": null,
            "overflow_y": null,
            "padding": null,
            "right": null,
            "top": null,
            "visibility": null,
            "width": null
          }
        },
        "c35f6ed658a24d26a3237e9f6d27a32a": {
          "model_module": "@jupyter-widgets/base",
          "model_name": "LayoutModel",
          "model_module_version": "1.2.0",
          "state": {
            "_model_module": "@jupyter-widgets/base",
            "_model_module_version": "1.2.0",
            "_model_name": "LayoutModel",
            "_view_count": null,
            "_view_module": "@jupyter-widgets/base",
            "_view_module_version": "1.2.0",
            "_view_name": "LayoutView",
            "align_content": null,
            "align_items": null,
            "align_self": null,
            "border": null,
            "bottom": null,
            "display": null,
            "flex": null,
            "flex_flow": null,
            "grid_area": null,
            "grid_auto_columns": null,
            "grid_auto_flow": null,
            "grid_auto_rows": null,
            "grid_column": null,
            "grid_gap": null,
            "grid_row": null,
            "grid_template_areas": null,
            "grid_template_columns": null,
            "grid_template_rows": null,
            "height": null,
            "justify_content": null,
            "justify_items": null,
            "left": null,
            "margin": null,
            "max_height": null,
            "max_width": null,
            "min_height": null,
            "min_width": null,
            "object_fit": null,
            "object_position": null,
            "order": null,
            "overflow": null,
            "overflow_x": null,
            "overflow_y": null,
            "padding": null,
            "right": null,
            "top": null,
            "visibility": null,
            "width": null
          }
        },
        "124b5e3cf8c44dcd98759f2c09c3b464": {
          "model_module": "@jupyter-widgets/controls",
          "model_name": "DescriptionStyleModel",
          "model_module_version": "1.5.0",
          "state": {
            "_model_module": "@jupyter-widgets/controls",
            "_model_module_version": "1.5.0",
            "_model_name": "DescriptionStyleModel",
            "_view_count": null,
            "_view_module": "@jupyter-widgets/base",
            "_view_module_version": "1.2.0",
            "_view_name": "StyleView",
            "description_width": ""
          }
        },
        "22fbf986288e40d4b55cde7c48b4a0e2": {
          "model_module": "@jupyter-widgets/base",
          "model_name": "LayoutModel",
          "model_module_version": "1.2.0",
          "state": {
            "_model_module": "@jupyter-widgets/base",
            "_model_module_version": "1.2.0",
            "_model_name": "LayoutModel",
            "_view_count": null,
            "_view_module": "@jupyter-widgets/base",
            "_view_module_version": "1.2.0",
            "_view_name": "LayoutView",
            "align_content": null,
            "align_items": null,
            "align_self": null,
            "border": null,
            "bottom": null,
            "display": null,
            "flex": null,
            "flex_flow": null,
            "grid_area": null,
            "grid_auto_columns": null,
            "grid_auto_flow": null,
            "grid_auto_rows": null,
            "grid_column": null,
            "grid_gap": null,
            "grid_row": null,
            "grid_template_areas": null,
            "grid_template_columns": null,
            "grid_template_rows": null,
            "height": null,
            "justify_content": null,
            "justify_items": null,
            "left": null,
            "margin": null,
            "max_height": null,
            "max_width": null,
            "min_height": null,
            "min_width": null,
            "object_fit": null,
            "object_position": null,
            "order": null,
            "overflow": null,
            "overflow_x": null,
            "overflow_y": null,
            "padding": null,
            "right": null,
            "top": null,
            "visibility": null,
            "width": null
          }
        },
        "aa027a0ba5594fb5a940ece8f1bcd421": {
          "model_module": "@jupyter-widgets/controls",
          "model_name": "ProgressStyleModel",
          "model_module_version": "1.5.0",
          "state": {
            "_model_module": "@jupyter-widgets/controls",
            "_model_module_version": "1.5.0",
            "_model_name": "ProgressStyleModel",
            "_view_count": null,
            "_view_module": "@jupyter-widgets/base",
            "_view_module_version": "1.2.0",
            "_view_name": "StyleView",
            "bar_color": null,
            "description_width": ""
          }
        },
        "a50623feef954f91b7737883c3fc054c": {
          "model_module": "@jupyter-widgets/base",
          "model_name": "LayoutModel",
          "model_module_version": "1.2.0",
          "state": {
            "_model_module": "@jupyter-widgets/base",
            "_model_module_version": "1.2.0",
            "_model_name": "LayoutModel",
            "_view_count": null,
            "_view_module": "@jupyter-widgets/base",
            "_view_module_version": "1.2.0",
            "_view_name": "LayoutView",
            "align_content": null,
            "align_items": null,
            "align_self": null,
            "border": null,
            "bottom": null,
            "display": null,
            "flex": null,
            "flex_flow": null,
            "grid_area": null,
            "grid_auto_columns": null,
            "grid_auto_flow": null,
            "grid_auto_rows": null,
            "grid_column": null,
            "grid_gap": null,
            "grid_row": null,
            "grid_template_areas": null,
            "grid_template_columns": null,
            "grid_template_rows": null,
            "height": null,
            "justify_content": null,
            "justify_items": null,
            "left": null,
            "margin": null,
            "max_height": null,
            "max_width": null,
            "min_height": null,
            "min_width": null,
            "object_fit": null,
            "object_position": null,
            "order": null,
            "overflow": null,
            "overflow_x": null,
            "overflow_y": null,
            "padding": null,
            "right": null,
            "top": null,
            "visibility": null,
            "width": null
          }
        },
        "e63860ce5c5e4be3b84eb235d879e8a4": {
          "model_module": "@jupyter-widgets/controls",
          "model_name": "DescriptionStyleModel",
          "model_module_version": "1.5.0",
          "state": {
            "_model_module": "@jupyter-widgets/controls",
            "_model_module_version": "1.5.0",
            "_model_name": "DescriptionStyleModel",
            "_view_count": null,
            "_view_module": "@jupyter-widgets/base",
            "_view_module_version": "1.2.0",
            "_view_name": "StyleView",
            "description_width": ""
          }
        }
      }
    }
  },
  "cells": [
    {
      "cell_type": "markdown",
      "metadata": {
        "id": "view-in-github",
        "colab_type": "text"
      },
      "source": [
        "<a href=\"https://colab.research.google.com/github/Stacy067/Deep-learning-and-Tensorflow/blob/main/TF_Certificate_Category_3_cats_vs_dogs_transfer_learning_(%EA%B0%95%EC%9D%98)%EC%9D%98_%EC%82%AC%EB%B3%B8.ipynb\" target=\"_parent\"><img src=\"https://colab.research.google.com/assets/colab-badge.svg\" alt=\"Open In Colab\"/></a>"
      ]
    },
    {
      "cell_type": "markdown",
      "metadata": {
        "id": "vY-Ca0dhGTAk"
      },
      "source": [
        "# Category 3 - Cats vs Dogs 분류\n",
        "\n",
        "* Convolution Neural network 활용한 분류 모델 (Classification)\n",
        "* tensorflow-datasets 를 활용한 데이터 전처리"
      ]
    },
    {
      "cell_type": "markdown",
      "metadata": {
        "id": "ww0hxcaSGb0m"
      },
      "source": [
        "## 확인"
      ]
    },
    {
      "cell_type": "markdown",
      "metadata": {
        "id": "FI6oK1X-GdJJ"
      },
      "source": [
        "1. GPU 옵션 켜져 있는지 확인할 것!!! (수정 - 노트설정 - 하드웨어설정 (GPU))"
      ]
    },
    {
      "cell_type": "markdown",
      "metadata": {
        "id": "1yoe-K38GQ4b"
      },
      "source": [
        "## 순서"
      ]
    },
    {
      "cell_type": "markdown",
      "metadata": {
        "id": "Bc6iTV8DGPop"
      },
      "source": [
        "1. **import**: 필요한 모듈 import\n",
        "2. **전처리**: 학습에 필요한 데이터 전처리를 수행합니다.\n",
        "3. **모델링(model)**: 모델을 정의합니다.\n",
        "4. **컴파일(compile)**: 모델을 생성합니다.\n",
        "5. **학습 (fit)**: 모델을 학습시킵니다."
      ]
    },
    {
      "cell_type": "markdown",
      "metadata": {
        "id": "msi1agesayxW"
      },
      "source": [
        "## 문제"
      ]
    },
    {
      "cell_type": "markdown",
      "metadata": {
        "id": "Bqqzpm1P8dd9"
      },
      "source": [
        "Computer Vision with CNNs\n",
        "<br>\n",
        "<br>For this exercise you will build a cats v dogs classifier\n",
        "<br>using the Cats v Dogs dataset from TFDS.\n",
        "<br>Be sure to use the final layer as shown \n",
        "<br>    **(Dense, 2 neurons, softmax activation)**\n",
        "<br>\n",
        "<br>The testing infrastructre will **resize all images to 224x224**\n",
        "<br>with **3 bytes of color depth**. Make sure your input layer trains\n",
        "<br>images to that specification, or the tests will fail.\n",
        "<br>\n",
        "<br>Make sure your output layer is exactly as specified here, or the \n",
        "<br>tests will fail.\n",
        "\n",
        "----------------------------------------\n",
        "<br>이 연습에서는 cats v dogs 분류기를 만들 것입니다.\n",
        "TFDS의 Cats v Dogs 데이터 세트 사용.\n",
        "<br> 그림과 같이 최종 레이어를 사용하십시오\n",
        "<br> **(Dense, 뉴런 2 개, activation='softmax')**\n",
        "<br>\n",
        "<br> 테스트 인프라는 **모든 이미지의 크기를 224x224로 조정합니다(컬러사진)**. 입력 레이어를 확인하십시오"
      ]
    },
    {
      "cell_type": "code",
      "metadata": {
        "id": "VXJfrSfG8dd5"
      },
      "source": [
        "import tensorflow_datasets as tfds\n",
        "import tensorflow as tf\n",
        "\n",
        "from tensorflow.keras.layers import Dense, Conv2D, MaxPooling2D, Flatten, Dropout\n",
        "from tensorflow.keras.models import Sequential\n",
        "from tensorflow.keras.callbacks import ModelCheckpoint\n",
        "from tensorflow.keras.applications import VGG16"
      ],
      "execution_count": 1,
      "outputs": []
    },
    {
      "cell_type": "markdown",
      "metadata": {
        "id": "zIXfMfFq8dd9"
      },
      "source": [
        "## Load Dataset"
      ]
    },
    {
      "cell_type": "markdown",
      "metadata": {
        "id": "Kg0sXFW2nil7"
      },
      "source": [
        "**tensorflow-datasets**를 활용합니다."
      ]
    },
    {
      "cell_type": "markdown",
      "metadata": {
        "id": "YTjsZFWGn117"
      },
      "source": [
        "* [Cats vs Dogs 데이터셋 문서 보기](https://www.tensorflow.org/datasets/catalog/cats_vs_dogs?hl=ko)\n",
        "\n",
        "* [tensorflow-datasets 다루기](https://www.tensorflow.org/datasets/splits?hl=ko)"
      ]
    },
    {
      "cell_type": "markdown",
      "metadata": {
        "id": "hTCJ8FxgogB_"
      },
      "source": [
        "**시험에서 주어지는 데이터셋 로드 형태**\n",
        "\n",
        "* 예전 방식이므로 아래처러 주어지는 코드를 과감히 삭제 후, 아래 제공되는 방식으로 변경합니다."
      ]
    },
    {
      "cell_type": "code",
      "source": [
        "setattr(tfds.image_classification.cats_vs_dogs, '_URL',\"https://download.microsoft.com/download/3/E/1/3E1C3F21-ECDB-4869-8368-6DEBA77B919F/kagglecatsanddogs_5340.zip\")"
      ],
      "metadata": {
        "id": "4jEE244gh2mA"
      },
      "execution_count": 2,
      "outputs": []
    },
    {
      "cell_type": "code",
      "metadata": {
        "id": "e1VLqKMO8deA",
        "colab": {
          "base_uri": "https://localhost:8080/",
          "height": 156,
          "referenced_widgets": [
            "ab24008973794db2b4bc4a0f27bec779",
            "b41fe372abf5409fb16339019bdb4308",
            "fc16e90effd84b64abd9f2d9a415c62b",
            "9cf0084986ef4ca5a6a642208be2e797",
            "d37adbac5906473b91529a93a9f6aca6",
            "c1424682822a4774ba0a90885ae2dd29",
            "45275c64bdbe46678ceb332221b766c4",
            "993d7a545d32484a8846dc5dc3f475e0",
            "c3b56cb93cac44c19f71fe5d31d0d764",
            "bab4da56c11341d78fadb746611ee8f0",
            "37cf359f4dea465e8eb9e488ebe513ab",
            "aea8e61728724b0fbcb73d99d9e350b0",
            "5840ffa2963241eba7cac5ed3da66de5",
            "467ea9aa661a4d0bbe896459e983ff15",
            "898222c515ed427fb44932cb1a4cf358",
            "f5d66fad20c74b14bee990dab5e4e01a",
            "becc73caebec4be7b84b205de749f16d",
            "64780f1d84b34822ba22ad1a9246437e",
            "aae25bd4b6bd43e2b969e6f77710aa2e",
            "9af02bf5f64d43ab910d45f6c26d4972",
            "eaf6ea4869c1433dba42ee84db1dec73",
            "2c28ddb1004f438590e8045a3b23fd53",
            "38edeec191004488a75486d6f213fc59",
            "848685c419754ef0acc7ee0dbfa20607",
            "b1cd327eafd1461ebd25b06b22433543",
            "250e8c258e3a4babad111c10ddbbd4e3",
            "8501297d4899445c82284b7180305c20",
            "893ffbdb5cf74ea3bd4d346ffbe66991",
            "f4e3ff90cf0441a4a6a344e164b1fdd3",
            "8030e4bc5ec943a79bb73166d5aa40e5",
            "08be7cc7eb204be486b0ee3bddbcdc01",
            "e6ae5f9d4b1f4635a1d78bf6d884c5ca",
            "3f50312f88164b76b0dd792d8943daf3",
            "6f469ac4b56342a7bc31f3db61885d19",
            "daa4a47d7e614bae9e26ddf2a7687342",
            "1357b94a8dda4030a827408ad931470b",
            "ce33cb859b254866aaad65be94bd12d4",
            "b05fe66853614c1886e1ec14f4a608fa",
            "5d3546a2c99b4420bccd343a4188fd84",
            "d6970431da274ae293cdb7549f3b79d2",
            "627912e899e54016a4b7bb07e10c28ed",
            "ef13521d4c7843659ee4ac9bbeb063b2",
            "bfd2399919e14aabac468388f8ac920d",
            "22b385e25308469fa6af1704f0de7d88",
            "3c068e82d45d4f3084ea2d9bf5497fe2",
            "53a72f41308941ecb5bc9c1904908dcc",
            "86687fdc018a4b65a3514f1cfb03cffa",
            "0b7984dc2abb444981af00c348aa73d1",
            "73b67ca5dc634bb9a0d21ee25708f505",
            "c35f6ed658a24d26a3237e9f6d27a32a",
            "124b5e3cf8c44dcd98759f2c09c3b464",
            "22fbf986288e40d4b55cde7c48b4a0e2",
            "aa027a0ba5594fb5a940ece8f1bcd421",
            "a50623feef954f91b7737883c3fc054c",
            "e63860ce5c5e4be3b84eb235d879e8a4"
          ]
        },
        "outputId": "2ee85e9c-22cd-4da3-8503-3ae72fe6355c"
      },
      "source": [
        "dataset_name = 'cats_vs_dogs'\n",
        "\n",
        "# 처음 80%의 데이터만 사용\n",
        "train_dataset = tfds.load(name=dataset_name, split='train[:80%]')\n",
        "\n",
        "# 최근 20%의 데이터만 사용\n",
        "valid_dataset = tfds.load(name=dataset_name, split='train[80%:]')"
      ],
      "execution_count": 3,
      "outputs": [
        {
          "output_type": "stream",
          "name": "stdout",
          "text": [
            "\u001b[1mDownloading and preparing dataset 786.68 MiB (download: 786.68 MiB, generated: Unknown size, total: 786.68 MiB) to ~/tensorflow_datasets/cats_vs_dogs/4.0.0...\u001b[0m\n"
          ]
        },
        {
          "output_type": "display_data",
          "data": {
            "text/plain": [
              "Dl Completed...: 0 url [00:00, ? url/s]"
            ],
            "application/vnd.jupyter.widget-view+json": {
              "version_major": 2,
              "version_minor": 0,
              "model_id": "ab24008973794db2b4bc4a0f27bec779"
            }
          },
          "metadata": {}
        },
        {
          "output_type": "display_data",
          "data": {
            "text/plain": [
              "Dl Size...: 0 MiB [00:00, ? MiB/s]"
            ],
            "application/vnd.jupyter.widget-view+json": {
              "version_major": 2,
              "version_minor": 0,
              "model_id": "aea8e61728724b0fbcb73d99d9e350b0"
            }
          },
          "metadata": {}
        },
        {
          "output_type": "display_data",
          "data": {
            "text/plain": [
              "Generating splits...:   0%|          | 0/1 [00:00<?, ? splits/s]"
            ],
            "application/vnd.jupyter.widget-view+json": {
              "version_major": 2,
              "version_minor": 0,
              "model_id": "38edeec191004488a75486d6f213fc59"
            }
          },
          "metadata": {}
        },
        {
          "output_type": "display_data",
          "data": {
            "text/plain": [
              "Generating train examples...:   0%|          | 0/23262 [00:00<?, ? examples/s]"
            ],
            "application/vnd.jupyter.widget-view+json": {
              "version_major": 2,
              "version_minor": 0,
              "model_id": "6f469ac4b56342a7bc31f3db61885d19"
            }
          },
          "metadata": {}
        },
        {
          "output_type": "stream",
          "name": "stderr",
          "text": [
            "WARNING:absl:1738 images were corrupted and were skipped\n"
          ]
        },
        {
          "output_type": "display_data",
          "data": {
            "text/plain": [
              "Shuffling ~/tensorflow_datasets/cats_vs_dogs/4.0.0.incompleteWJMY9V/cats_vs_dogs-train.tfrecord*...:   0%|    …"
            ],
            "application/vnd.jupyter.widget-view+json": {
              "version_major": 2,
              "version_minor": 0,
              "model_id": "3c068e82d45d4f3084ea2d9bf5497fe2"
            }
          },
          "metadata": {}
        },
        {
          "output_type": "stream",
          "name": "stdout",
          "text": [
            "\u001b[1mDataset cats_vs_dogs downloaded and prepared to ~/tensorflow_datasets/cats_vs_dogs/4.0.0. Subsequent calls will reuse this data.\u001b[0m\n"
          ]
        }
      ]
    },
    {
      "cell_type": "markdown",
      "metadata": {
        "id": "739L8AKh-OZG"
      },
      "source": [
        "시험에서 요구하는 **전처리 요구 조건**은 다음과 같습니다.\n",
        "\n",
        "1. 이미지 정규화 (Normalization)\n",
        "2. 이미지 사이즈 맞추기: (224 X 224) \n",
        "3. image(x), label(y)를 분할"
      ]
    },
    {
      "cell_type": "markdown",
      "metadata": {
        "id": "H7fLV4E6_8uD"
      },
      "source": [
        "**[실습코드]**"
      ]
    },
    {
      "cell_type": "code",
      "metadata": {
        "id": "fV1LU9W1-Swt"
      },
      "source": [
        "def preprocess(data):\n",
        "    # x, y 데이터를 정의합니다.\n",
        "    x = data['image']\n",
        "    y = data['label']\n",
        "    # image 정규화(Normalization)\n",
        "    x = x / 255\n",
        "    # 사이즈를 (224, 224)로 변환합니다.\n",
        "    x = tf.image.resize(x, size=(224, 224))\n",
        "    # x, y  데이터를 return 합니다.\n",
        "    return x, y"
      ],
      "execution_count": 4,
      "outputs": []
    },
    {
      "cell_type": "markdown",
      "metadata": {
        "id": "cPQ9hOrnpHKj"
      },
      "source": [
        "만든 전처리 함수(preprocessing)를 **dataset에 mapping**하고, **batch_size도 지정**합니다."
      ]
    },
    {
      "cell_type": "code",
      "metadata": {
        "id": "Wq-NyPMI_oZM"
      },
      "source": [
        "batch_size=32"
      ],
      "execution_count": 5,
      "outputs": []
    },
    {
      "cell_type": "code",
      "metadata": {
        "id": "JRM0LRxt-Sru"
      },
      "source": [
        "train_data = train_dataset.map(preprocess).batch(batch_size)\n",
        "valid_data = valid_dataset.map(preprocess).batch(batch_size)"
      ],
      "execution_count": 6,
      "outputs": []
    },
    {
      "cell_type": "markdown",
      "metadata": {
        "id": "uvvarzxw8ded"
      },
      "source": [
        "## 모델 정의 (Sequential) \n",
        ": 여기부분이 달라짐"
      ]
    },
    {
      "cell_type": "markdown",
      "metadata": {
        "id": "azRvYVbQnim5"
      },
      "source": [
        "이제 Modeling을 할 차례입니다.\n",
        "\n",
        "`Sequential` 모델 안에서 층을 깊게 쌓아 올려 주면 됩니다.\n",
        "\n",
        "1. `input_shape`는 224 X 224 컬러사진인 **(224, 224, 3)**으로 지정합니다.\n",
        "2. transfer learning 기법을 통해 VGG16 모델을 활용한 전이학습 모델을 완성합니다.\n",
        "3. 출력층은 class 갯수 2개의 뉴런이 요구됩니다.\n"
      ]
    },
    {
      "cell_type": "code",
      "metadata": {
        "id": "dcJtZOg0EqA7",
        "colab": {
          "base_uri": "https://localhost:8080/"
        },
        "outputId": "f046bfec-9f47-43cd-bd52-996d16305c83"
      },
      "source": [
        "transfer_model = VGG16(weights='imagenet', include_top=False, input_shape=(224, 224, 3)) \n",
        "#imagenet의 학습 분류기를 가져와라, include_top VGG 테이블 아래부분 안가져오겠다, 여기 부분에서 전이학습\n",
        "transfer_model.trainable=False # 가중치를 freeze"
      ],
      "execution_count": 7,
      "outputs": [
        {
          "output_type": "stream",
          "name": "stdout",
          "text": [
            "Downloading data from https://storage.googleapis.com/tensorflow/keras-applications/vgg16/vgg16_weights_tf_dim_ordering_tf_kernels_notop.h5\n",
            "58892288/58889256 [==============================] - 0s 0us/step\n",
            "58900480/58889256 [==============================] - 0s 0us/step\n"
          ]
        }
      ]
    },
    {
      "cell_type": "code",
      "metadata": {
        "id": "rpWdaUGX8dee"
      },
      "source": [
        "model = Sequential([\n",
        "    transfer_model, #전이학습 들어갈때\n",
        "    Flatten(),\n",
        "    Dropout(0.5),\n",
        "    Dense(512, activation='relu'),\n",
        "    Dense(128, activation='relu'),\n",
        "    Dense(2, activation='softmax'),\n",
        "])"
      ],
      "execution_count": 8,
      "outputs": []
    },
    {
      "cell_type": "code",
      "metadata": {
        "id": "iQRWnG9A8def",
        "colab": {
          "base_uri": "https://localhost:8080/"
        },
        "outputId": "8faa816d-8b55-42f1-dc45-b1d65440b72c"
      },
      "source": [
        "model.summary() # Trainable params는 학습해야하는 모델 개수,  Non-trainable params는 vgg16"
      ],
      "execution_count": 9,
      "outputs": [
        {
          "output_type": "stream",
          "name": "stdout",
          "text": [
            "Model: \"sequential\"\n",
            "_________________________________________________________________\n",
            " Layer (type)                Output Shape              Param #   \n",
            "=================================================================\n",
            " vgg16 (Functional)          (None, 7, 7, 512)         14714688  \n",
            "                                                                 \n",
            " flatten (Flatten)           (None, 25088)             0         \n",
            "                                                                 \n",
            " dropout (Dropout)           (None, 25088)             0         \n",
            "                                                                 \n",
            " dense (Dense)               (None, 512)               12845568  \n",
            "                                                                 \n",
            " dense_1 (Dense)             (None, 128)               65664     \n",
            "                                                                 \n",
            " dense_2 (Dense)             (None, 2)                 258       \n",
            "                                                                 \n",
            "=================================================================\n",
            "Total params: 27,626,178\n",
            "Trainable params: 12,911,490\n",
            "Non-trainable params: 14,714,688\n",
            "_________________________________________________________________\n"
          ]
        }
      ]
    },
    {
      "cell_type": "markdown",
      "metadata": {
        "id": "wnmQV-fDnim8"
      },
      "source": [
        "## 컴파일 (compile)"
      ]
    },
    {
      "cell_type": "markdown",
      "metadata": {
        "id": "pHQ1abHXK8e9"
      },
      "source": [
        "1. `optimizer`는 가장 최적화가 잘되는 알고리즘인 'adam'을 사용합니다.\n",
        "2. `loss`설정\n",
        "  * 출력층 activation이 `sigmoid` 인 경우: `binary_crossentropy`\n",
        "  * 출력층 activation이 `softmax` 인 경우: \n",
        "    * 원핫인코딩(O): `categorical_crossentropy`\n",
        "    * 원핫인코딩(X): `sparse_categorical_crossentropy`)\n",
        "3. `metrics`를 'acc' 혹은 'accuracy'로 지정하면, 학습시 정확도를 모니터링 할 수 있습니다."
      ]
    },
    {
      "cell_type": "markdown",
      "metadata": {
        "id": "WNurLvnisN-t"
      },
      "source": [
        "전처리 단계에서 **one-hot encoding** 을 해주었습니다. 따라서, `categorical_crossentropy`를 지정해주면 됩니다."
      ]
    },
    {
      "cell_type": "markdown",
      "metadata": {
        "id": "eXGMljJQhmp_"
      },
      "source": [
        "model.compile()"
      ]
    },
    {
      "cell_type": "code",
      "metadata": {
        "id": "QCLw6RMZnim-"
      },
      "source": [
        "model.compile(optimizer='adam', loss='sparse_categorical_crossentropy', metrics=['acc'])"
      ],
      "execution_count": 10,
      "outputs": []
    },
    {
      "cell_type": "markdown",
      "metadata": {
        "id": "NyLUPgGCninB"
      },
      "source": [
        "## ModelCheckpoint: 체크포인트 생성"
      ]
    },
    {
      "cell_type": "markdown",
      "metadata": {
        "id": "46Oi04ZMLtEB"
      },
      "source": [
        "`val_loss` 기준으로 epoch 마다 최적의 모델을 저장하기 위하여, ModelCheckpoint를 만듭니다.\n",
        "* `checkpoint_path`는 모델이 저장될 파일 명을 설정합니다.\n",
        "* `ModelCheckpoint`을 선언하고, 적절한 옵션 값을 지정합니다."
      ]
    },
    {
      "cell_type": "code",
      "metadata": {
        "id": "qJwGq3PoninB"
      },
      "source": [
        "checkpoint_path = \"my_checkpoint.ckpt\"\n",
        "checkpoint = ModelCheckpoint(filepath=checkpoint_path, \n",
        "                             save_weights_only=True, \n",
        "                             save_best_only=True, \n",
        "                             monitor='val_loss', \n",
        "                             verbose=1)"
      ],
      "execution_count": 11,
      "outputs": []
    },
    {
      "cell_type": "markdown",
      "metadata": {
        "id": "v3mjb5EAninE"
      },
      "source": [
        "## 학습 (fit)"
      ]
    },
    {
      "cell_type": "markdown",
      "metadata": {
        "id": "3-X6hK_DMYZH"
      },
      "source": [
        "1. `validation_data`를 반드시 지정합니다.\n",
        "2. `epochs`을 적절하게 지정합니다.\n",
        "3. `callbacks`에 바로 위에서 만든 checkpoint를 지정합니다."
      ]
    },
    {
      "cell_type": "code",
      "metadata": {
        "id": "2uHXDA_vninF",
        "colab": {
          "base_uri": "https://localhost:8080/"
        },
        "outputId": "517f7e99-ea52-4a72-f3f7-259cb352da71"
      },
      "source": [
        "model.fit(train_data,\n",
        "          validation_data=(valid_data),\n",
        "          epochs=20,\n",
        "          callbacks=[checkpoint],\n",
        "          )"
      ],
      "execution_count": 12,
      "outputs": [
        {
          "output_type": "stream",
          "name": "stdout",
          "text": [
            "Epoch 1/20\n",
            "582/582 [==============================] - ETA: 0s - loss: 0.2918 - acc: 0.8836\n",
            "Epoch 1: val_loss improved from inf to 0.17412, saving model to my_checkpoint.ckpt\n",
            "582/582 [==============================] - 138s 213ms/step - loss: 0.2918 - acc: 0.8836 - val_loss: 0.1741 - val_acc: 0.9250\n",
            "Epoch 2/20\n",
            "582/582 [==============================] - ETA: 0s - loss: 0.1816 - acc: 0.9262\n",
            "Epoch 2: val_loss improved from 0.17412 to 0.16627, saving model to my_checkpoint.ckpt\n",
            "582/582 [==============================] - 120s 207ms/step - loss: 0.1816 - acc: 0.9262 - val_loss: 0.1663 - val_acc: 0.9284\n",
            "Epoch 3/20\n",
            "582/582 [==============================] - ETA: 0s - loss: 0.1547 - acc: 0.9369\n",
            "Epoch 3: val_loss did not improve from 0.16627\n",
            "582/582 [==============================] - 121s 208ms/step - loss: 0.1547 - acc: 0.9369 - val_loss: 0.1776 - val_acc: 0.9248\n",
            "Epoch 4/20\n",
            "582/582 [==============================] - ETA: 0s - loss: 0.1459 - acc: 0.9400\n",
            "Epoch 4: val_loss did not improve from 0.16627\n",
            "582/582 [==============================] - 119s 205ms/step - loss: 0.1459 - acc: 0.9400 - val_loss: 0.1723 - val_acc: 0.9265\n",
            "Epoch 5/20\n",
            "582/582 [==============================] - ETA: 0s - loss: 0.1364 - acc: 0.9441\n",
            "Epoch 5: val_loss did not improve from 0.16627\n",
            "582/582 [==============================] - 121s 207ms/step - loss: 0.1364 - acc: 0.9441 - val_loss: 0.1763 - val_acc: 0.9269\n",
            "Epoch 6/20\n",
            "582/582 [==============================] - ETA: 0s - loss: 0.1201 - acc: 0.9506\n",
            "Epoch 6: val_loss improved from 0.16627 to 0.16474, saving model to my_checkpoint.ckpt\n",
            "582/582 [==============================] - 137s 235ms/step - loss: 0.1201 - acc: 0.9506 - val_loss: 0.1647 - val_acc: 0.9306\n",
            "Epoch 7/20\n",
            "582/582 [==============================] - ETA: 0s - loss: 0.1135 - acc: 0.9540\n",
            "Epoch 7: val_loss did not improve from 0.16474\n",
            "582/582 [==============================] - 121s 208ms/step - loss: 0.1135 - acc: 0.9540 - val_loss: 0.1658 - val_acc: 0.9321\n",
            "Epoch 8/20\n",
            "582/582 [==============================] - ETA: 0s - loss: 0.0982 - acc: 0.9602\n",
            "Epoch 8: val_loss did not improve from 0.16474\n",
            "582/582 [==============================] - 119s 205ms/step - loss: 0.0982 - acc: 0.9602 - val_loss: 0.1811 - val_acc: 0.9295\n",
            "Epoch 9/20\n",
            "582/582 [==============================] - ETA: 0s - loss: 0.0907 - acc: 0.9631\n",
            "Epoch 9: val_loss did not improve from 0.16474\n",
            "582/582 [==============================] - 121s 207ms/step - loss: 0.0907 - acc: 0.9631 - val_loss: 0.1912 - val_acc: 0.9297\n",
            "Epoch 10/20\n",
            "582/582 [==============================] - ETA: 0s - loss: 0.0895 - acc: 0.9642\n",
            "Epoch 10: val_loss did not improve from 0.16474\n",
            "582/582 [==============================] - 119s 205ms/step - loss: 0.0895 - acc: 0.9642 - val_loss: 0.1746 - val_acc: 0.9334\n",
            "Epoch 11/20\n",
            "582/582 [==============================] - ETA: 0s - loss: 0.0788 - acc: 0.9689\n",
            "Epoch 11: val_loss did not improve from 0.16474\n",
            "582/582 [==============================] - 120s 206ms/step - loss: 0.0788 - acc: 0.9689 - val_loss: 0.1949 - val_acc: 0.9304\n",
            "Epoch 12/20\n",
            "582/582 [==============================] - ETA: 0s - loss: 0.0787 - acc: 0.9687\n",
            "Epoch 12: val_loss did not improve from 0.16474\n",
            "582/582 [==============================] - 119s 205ms/step - loss: 0.0787 - acc: 0.9687 - val_loss: 0.2732 - val_acc: 0.9104\n",
            "Epoch 13/20\n",
            "582/582 [==============================] - ETA: 0s - loss: 0.0772 - acc: 0.9689\n",
            "Epoch 13: val_loss did not improve from 0.16474\n",
            "582/582 [==============================] - 119s 205ms/step - loss: 0.0772 - acc: 0.9689 - val_loss: 0.2019 - val_acc: 0.9306\n",
            "Epoch 14/20\n",
            "582/582 [==============================] - ETA: 0s - loss: 0.0670 - acc: 0.9743\n",
            "Epoch 14: val_loss did not improve from 0.16474\n",
            "582/582 [==============================] - 121s 207ms/step - loss: 0.0670 - acc: 0.9743 - val_loss: 0.2326 - val_acc: 0.9312\n",
            "Epoch 15/20\n",
            "582/582 [==============================] - ETA: 0s - loss: 0.0585 - acc: 0.9759\n",
            "Epoch 15: val_loss did not improve from 0.16474\n",
            "582/582 [==============================] - 119s 205ms/step - loss: 0.0585 - acc: 0.9759 - val_loss: 0.3012 - val_acc: 0.9166\n",
            "Epoch 16/20\n",
            "582/582 [==============================] - ETA: 0s - loss: 0.0589 - acc: 0.9773\n",
            "Epoch 16: val_loss did not improve from 0.16474\n",
            "582/582 [==============================] - 120s 206ms/step - loss: 0.0589 - acc: 0.9773 - val_loss: 0.2418 - val_acc: 0.9325\n",
            "Epoch 17/20\n",
            "582/582 [==============================] - ETA: 0s - loss: 0.0614 - acc: 0.9757\n",
            "Epoch 17: val_loss did not improve from 0.16474\n",
            "582/582 [==============================] - 121s 207ms/step - loss: 0.0614 - acc: 0.9757 - val_loss: 0.2093 - val_acc: 0.9351\n",
            "Epoch 18/20\n",
            "582/582 [==============================] - ETA: 0s - loss: 0.0561 - acc: 0.9780\n",
            "Epoch 18: val_loss did not improve from 0.16474\n",
            "582/582 [==============================] - 120s 205ms/step - loss: 0.0561 - acc: 0.9780 - val_loss: 0.2235 - val_acc: 0.9316\n",
            "Epoch 19/20\n",
            "582/582 [==============================] - ETA: 0s - loss: 0.0501 - acc: 0.9816\n",
            "Epoch 19: val_loss did not improve from 0.16474\n",
            "582/582 [==============================] - 121s 207ms/step - loss: 0.0501 - acc: 0.9816 - val_loss: 0.2194 - val_acc: 0.9331\n",
            "Epoch 20/20\n",
            "582/582 [==============================] - ETA: 0s - loss: 0.0457 - acc: 0.9822\n",
            "Epoch 20: val_loss did not improve from 0.16474\n",
            "582/582 [==============================] - 119s 205ms/step - loss: 0.0457 - acc: 0.9822 - val_loss: 0.2605 - val_acc: 0.9334\n"
          ]
        },
        {
          "output_type": "execute_result",
          "data": {
            "text/plain": [
              "<keras.callbacks.History at 0x7fd819123210>"
            ]
          },
          "metadata": {},
          "execution_count": 12
        }
      ]
    },
    {
      "cell_type": "markdown",
      "metadata": {
        "id": "wwnduSgRiBw8"
      },
      "source": [
        "## 학습 완료 후 Load Weights (ModelCheckpoint)"
      ]
    },
    {
      "cell_type": "markdown",
      "metadata": {
        "id": "kLqb_6XrMvdq"
      },
      "source": [
        "학습이 완료된 후에는 반드시 `load_weights`를 해주어야 합니다.\n",
        "\n",
        "그렇지 않으면, 열심히 ModelCheckpoint를 만든 의미가 없습니다."
      ]
    },
    {
      "cell_type": "code",
      "metadata": {
        "id": "4jO1ucZ9ninH",
        "colab": {
          "base_uri": "https://localhost:8080/"
        },
        "outputId": "1b16dc2c-ae69-4b24-d6b9-4d6f3b220848"
      },
      "source": [
        "# checkpoint 를 저장한 파일명을 입력합니다.\n",
        "model.load_weights(checkpoint_path)"
      ],
      "execution_count": 13,
      "outputs": [
        {
          "output_type": "execute_result",
          "data": {
            "text/plain": [
              "<tensorflow.python.training.tracking.util.CheckpointLoadStatus at 0x7fd818ee7fd0>"
            ]
          },
          "metadata": {},
          "execution_count": 13
        }
      ]
    }
  ]
}