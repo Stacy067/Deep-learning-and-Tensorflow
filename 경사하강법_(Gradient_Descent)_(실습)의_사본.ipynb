{
  "nbformat": 4,
  "nbformat_minor": 0,
  "metadata": {
    "colab": {
      "name": "경사하강법-(Gradient-Descent)-(실습)의 사본",
      "provenance": [],
      "collapsed_sections": [],
      "include_colab_link": true
    },
    "kernelspec": {
      "display_name": "Python 3 (ipykernel)",
      "language": "python",
      "name": "python3"
    },
    "language_info": {
      "codemirror_mode": {
        "name": "ipython",
        "version": 3
      },
      "file_extension": ".py",
      "mimetype": "text/x-python",
      "name": "python",
      "nbconvert_exporter": "python",
      "pygments_lexer": "ipython3",
      "version": "3.7.11"
    }
  },
  "cells": [
    {
      "cell_type": "markdown",
      "metadata": {
        "id": "view-in-github",
        "colab_type": "text"
      },
      "source": [
        "<a href=\"https://colab.research.google.com/github/Stacy067/Deep-learning-and-Tensorflow/blob/main/%EA%B2%BD%EC%82%AC%ED%95%98%EA%B0%95%EB%B2%95_(Gradient_Descent)_(%EC%8B%A4%EC%8A%B5)%EC%9D%98_%EC%82%AC%EB%B3%B8.ipynb\" target=\"_parent\"><img src=\"https://colab.research.google.com/assets/colab-badge.svg\" alt=\"Open In Colab\"/></a>"
      ]
    },
    {
      "cell_type": "markdown",
      "metadata": {
        "id": "ryxF5RiKUqxx"
      },
      "source": [
        "# 경사하강법 (Gradient Descent)"
      ]
    },
    {
      "cell_type": "markdown",
      "metadata": {
        "id": "uj8r5IFZUqxx"
      },
      "source": [
        "기본 개념은 함수의 기울기(경사)를 구하여 기울기가 낮은 쪽으로 계속 이동시켜서 극값에 이를 때까지 반복시키는 것입니다.\n",
        "\n",
        "**비용 함수 (Cost Function 혹은 Loss Function)를 최소화**하기 위해 반복해서 파라미터를 업데이트 해 나가는 방식입니다."
      ]
    },
    {
      "cell_type": "code",
      "metadata": {
        "id": "w7mltdDGUqxy",
        "colab": {
          "base_uri": "https://localhost:8080/",
          "height": 339
        },
        "outputId": "a7b074b2-2b5e-4a17-b486-a6eb4d41c8c7"
      },
      "source": [
        "from IPython.display import Image\n",
        "import numpy as np\n",
        "import matplotlib.pyplot as plt\n",
        "import warnings\n",
        "\n",
        "# 경고 메시지 출력 표기 생략\n",
        "warnings.filterwarnings('ignore')\n",
        "\n",
        "Image(url='https://img.pngio.com/scikit-learn-batch-gradient-descent-versus-stochastic-gradient-descent-png-592_319.png')"
      ],
      "execution_count": null,
      "outputs": [
        {
          "output_type": "execute_result",
          "data": {
            "text/plain": [
              "<IPython.core.display.Image object>"
            ],
            "text/html": [
              "<img src=\"https://img.pngio.com/scikit-learn-batch-gradient-descent-versus-stochastic-gradient-descent-png-592_319.png\"/>"
            ]
          },
          "metadata": {},
          "execution_count": 1
        }
      ]
    },
    {
      "cell_type": "markdown",
      "metadata": {
        "id": "ZRuLBqohLMsY"
      },
      "source": [
        "## 샘플에 활용할 데이터 셋 만들기"
      ]
    },
    {
      "cell_type": "code",
      "metadata": {
        "id": "pzZRFqeZUqx9"
      },
      "source": [
        "def make_linear(w=0.5, b=0.8, size=50, noise=1.0):\n",
        "    x = np.random.rand(size)\n",
        "    y = w * x + b\n",
        "    noise = np.random.uniform(-abs(noise), abs(noise), size=y.shape)\n",
        "    yy = y + noise\n",
        "    plt.figure(figsize=(10, 7))\n",
        "    plt.plot(x, y, color='r', label=f'y = {w}x + {b}')\n",
        "    plt.scatter(x, yy, label='data')\n",
        "    plt.legend(fontsize=15)\n",
        "    plt.show()\n",
        "    print(f'w: {w}, b: {b}')\n",
        "    return x, yy"
      ],
      "execution_count": null,
      "outputs": []
    },
    {
      "cell_type": "code",
      "metadata": {
        "id": "-qcmWy8JUqx_",
        "colab": {
          "base_uri": "https://localhost:8080/",
          "height": 446
        },
        "outputId": "55189c57-a28f-429c-8df9-4ce016759b92"
      },
      "source": [
        "x, y = make_linear(w=0.3, b=0.5, size=100, noise=0.01)"
      ],
      "execution_count": null,
      "outputs": [
        {
          "output_type": "display_data",
          "data": {
            "text/plain": [
              "<Figure size 720x504 with 1 Axes>"
            ],
            "image/png": "[encoded data removed]"
          },
          "metadata": {
            "needs_background": "light"
          }
        },
        {
          "output_type": "stream",
          "name": "stdout",
          "text": [
            "w: 0.3, b: 0.5\n"
          ]
        }
      ]
    },
    {
      "cell_type": "markdown",
      "metadata": {
        "id": "CM-u7na_LMsf"
      },
      "source": [
        "## 초기값 (Initializer)과 y_hat (예측, prediction) 함수 정의"
      ]
    },
    {
      "cell_type": "markdown",
      "metadata": {
        "id": "tauo0pixUqyC"
      },
      "source": [
        "w, b 값에 대하여 random한 초기 값을 설정해 줍니다."
      ]
    },
    {
      "cell_type": "code",
      "metadata": {
        "id": "w-_dJXtfpYGB",
        "colab": {
          "base_uri": "https://localhost:8080/"
        },
        "outputId": "53a34467-c6ec-4f2b-8b0a-db4f12715e3d"
      },
      "source": [
        "w = np.random.uniform(low=0.0, high=1.0)\n",
        "b = np.random.uniform(low=0.0, high=1.0)\n",
        "\n",
        "w, b"
      ],
      "execution_count": null,
      "outputs": [
        {
          "output_type": "execute_result",
          "data": {
            "text/plain": [
              "(0.9336515754448802, 0.29837630889625844)"
            ]
          },
          "metadata": {},
          "execution_count": 5
        }
      ]
    },
    {
      "cell_type": "markdown",
      "metadata": {
        "id": "WuTVUI03UqyE"
      },
      "source": [
        "`y_hat`은 `prediction`은 값 입니다. 즉, 가설함수에서 실제 값 (y)를 뺀 함수를 정의합니다."
      ]
    },
    {
      "cell_type": "code",
      "metadata": {
        "id": "trVygK4GLMsg"
      },
      "source": [
        "# 코드를 입력해 주세요\n",
        "y_hat = w * x + b"
      ],
      "execution_count": null,
      "outputs": []
    },
    {
      "cell_type": "markdown",
      "metadata": {
        "id": "4N6MK4elLMsi"
      },
      "source": [
        "## 오차(Error) 정의"
      ]
    },
    {
      "cell_type": "markdown",
      "metadata": {
        "id": "r19eta8MLMsj"
      },
      "source": [
        "Loss Function 혹은 Cost Function을 정의 합니다.\n",
        "\n",
        "Loss (Cost) Function은 예측값인 `y_hat`과 `y`의 차이에 **제곱의 평균**으로 정의합니다.\n",
        "\n",
        "제곱은 오차에 대한 음수 값을 허용하지 않으며, 이는 **Mean Squared Error(MSE)**인 평균 제곱 오차 평가 지표와 관련 있습니다."
      ]
    },
    {
      "cell_type": "code",
      "metadata": {
        "id": "ygZPHM2xLMsj"
      },
      "source": [
        "# 코드를 입력해 주세요\n",
        "error = ((y_hat - y)**2).mean()"
      ],
      "execution_count": null,
      "outputs": []
    },
    {
      "cell_type": "markdown",
      "metadata": {
        "id": "VwzjytZvUqyI"
      },
      "source": [
        "## 학습률 (Learning Rate)"
      ]
    },
    {
      "cell_type": "code",
      "metadata": {
        "id": "9t_hsbBUUqyJ",
        "colab": {
          "base_uri": "https://localhost:8080/",
          "height": 222
        },
        "outputId": "07fa89aa-8a45-40a5-cd78-49d778c9c8e8"
      },
      "source": [
        "Image(url='https://www.deeplearningwizard.com/deep_learning/boosting_models_pytorch/images/lr1.png', width=750)"
      ],
      "execution_count": null,
      "outputs": [
        {
          "output_type": "execute_result",
          "data": {
            "text/plain": [
              "<IPython.core.display.Image object>"
            ],
            "text/html": [
              "<img src=\"https://www.deeplearningwizard.com/deep_learning/boosting_models_pytorch/images/lr1.png\" width=\"750\"/>"
            ]
          },
          "metadata": {},
          "execution_count": 8
        }
      ]
    },
    {
      "cell_type": "markdown",
      "metadata": {
        "id": "NJMFH9wTUqyL"
      },
      "source": [
        "한 번 학습할 때 **얼마만큼 가중치(weight)를 업데이트** 해야 하는지 학습 양을 의미합니다.\n",
        "\n",
        "너무 큰 학습률 (Learning Rate)은 가중치 갱신이 크게 되어 **자칫 Error가 수렴하지 못하고 발산**할 수 있으며,\n",
        "\n",
        "너무 작은 학습률은 가중치 갱신이 작게 되어 **가중치 갱신이 충분히 되지 않고, 학습이 끝나** 버릴 수 있습니다. 즉 과소 적합되어 있는 상태로 남아 있을 수 있습니다.\n",
        "\n"
      ]
    },
    {
      "cell_type": "markdown",
      "metadata": {
        "id": "ajAr6o76LMsm"
      },
      "source": [
        "## Gradient Descent 구현 (단항식)"
      ]
    },
    {
      "cell_type": "code",
      "metadata": {
        "id": "1iIYNKTyLMsm"
      },
      "source": [
        "# 최대 반복 횟수\n",
        "num_epoch = 500\n",
        "\n",
        "# 학습율 (learning_rate)\n",
        "learning_rate = 0.5"
      ],
      "execution_count": null,
      "outputs": []
    },
    {
      "cell_type": "code",
      "metadata": {
        "id": "IpQ6BcuMLMso",
        "colab": {
          "base_uri": "https://localhost:8080/"
        },
        "outputId": "2f2ea86f-6719-46d5-a62a-1f23a5889a65"
      },
      "source": [
        "errors = []\n",
        "\n",
        "# random 한 값으로 w, b를 초기화 합니다.\n",
        "w = np.random.uniform(low=0.0, high=1.0)\n",
        "b = np.random.uniform(low=0.0, high=1.0)\n",
        "\n",
        "for epoch in range(num_epoch):\n",
        "    # 코드를 입력해 주세요\n",
        "    y_hat = w*x + b\n",
        "\n",
        "    # 코드를 입력해 주세요\n",
        "    error = ((y_hat - y)**2).mean()\n",
        "    if error < 0.00005:\n",
        "        break\n",
        "\n",
        "    # 코드를 입력해 주세요\n",
        "    w = w - learning_rate * ((y_hat - y)*x).mean()\n",
        "    b = b - learning_rate * (y_hat -y).mean()\n",
        "    \n",
        "    errors.append(error)\n",
        "\n",
        "    if epoch % 5 == 0:\n",
        "        print(\"{0:2} w = {1:.5f}, b = {2:.5f} error = {3:.5f}\".format(epoch, w, b, error))\n",
        "    \n",
        "print(\"----\" * 15)\n",
        "print(\"{0:2} w = {1:.1f}, b = {2:.1f} error = {3:.5f}\".format(epoch, w, b, error))"
      ],
      "execution_count": null,
      "outputs": [
        {
          "output_type": "stream",
          "name": "stdout",
          "text": [
            " 0 w = 0.42256, b = 0.27412 error = 0.20141\n",
            " 5 w = 0.46270, b = 0.40647 error = 0.00225\n",
            "10 w = 0.44021, b = 0.42007 error = 0.00166\n",
            "15 w = 0.42060, b = 0.43123 error = 0.00123\n",
            "20 w = 0.40376, b = 0.44082 error = 0.00092\n",
            "25 w = 0.38930, b = 0.44905 error = 0.00069\n",
            "30 w = 0.37688, b = 0.45612 error = 0.00052\n",
            "35 w = 0.36621, b = 0.46220 error = 0.00039\n",
            "40 w = 0.35705, b = 0.46741 error = 0.00030\n",
            "45 w = 0.34918, b = 0.47189 error = 0.00023\n",
            "50 w = 0.34243, b = 0.47574 error = 0.00018\n",
            "55 w = 0.33662, b = 0.47904 error = 0.00014\n",
            "60 w = 0.33164, b = 0.48188 error = 0.00011\n",
            "65 w = 0.32736, b = 0.48431 error = 0.00009\n",
            "70 w = 0.32369, b = 0.48641 error = 0.00008\n",
            "75 w = 0.32053, b = 0.48820 error = 0.00007\n",
            "80 w = 0.31782, b = 0.48975 error = 0.00006\n",
            "85 w = 0.31549, b = 0.49107 error = 0.00005\n",
            "------------------------------------------------------------\n",
            "86 w = 0.3, b = 0.5 error = 0.00005\n"
          ]
        }
      ]
    },
    {
      "cell_type": "markdown",
      "metadata": {
        "id": "gZnRP06EUqyP"
      },
      "source": [
        "**시각화**\n",
        "\n",
        "학습 진행(epoch)에 따른 오차를 시각화 합니다."
      ]
    },
    {
      "cell_type": "code",
      "metadata": {
        "id": "IblSaamPLMss",
        "colab": {
          "base_uri": "https://localhost:8080/",
          "height": 442
        },
        "outputId": "fe9678b2-58de-4952-a2c9-cd4fcd45ce47"
      },
      "source": [
        "plt.figure(figsize=(10, 7))\n",
        "plt.plot(errors)\n",
        "plt.xlabel('Epochs')\n",
        "plt.ylabel('Error')\n",
        "plt.show()"
      ],
      "execution_count": null,
      "outputs": [
        {
          "output_type": "display_data",
          "data": {
            "text/plain": [
              "<Figure size 720x504 with 1 Axes>"
            ],
            "image/png": "[encoded data removed]"
          },
          "metadata": {
            "needs_background": "light"
          }
        }
      ]
    }
  ]
}